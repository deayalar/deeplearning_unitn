{
  "cells": [
    {
      "cell_type": "markdown",
      "metadata": {
        "id": "view-in-github",
        "colab_type": "text"
      },
      "source": [
        "<a href=\"https://colab.research.google.com/github/deayalar/deeplearning_unitn/blob/main/DL_Project_wandb_embedding.ipynb\" target=\"_parent\"><img src=\"https://colab.research.google.com/assets/colab-badge.svg\" alt=\"Open In Colab\"/></a>"
      ]
    },
    {
      "cell_type": "code",
      "metadata": {
        "colab": {
          "base_uri": "https://localhost:8080/"
        },
        "id": "2YOHCjjwPGWc",
        "outputId": "3313d82a-204c-44e4-886c-0112dba27035"
      },
      "source": [
        "!wget https://market1501.s3-us-west-2.amazonaws.com/dataset.zip\n",
        "!unzip -q dataset.zip -d dataset"
      ],
      "execution_count": 1,
      "outputs": [
        {
          "output_type": "stream",
          "text": [
            "--2021-05-19 18:47:50--  https://market1501.s3-us-west-2.amazonaws.com/dataset.zip\n",
            "Resolving market1501.s3-us-west-2.amazonaws.com (market1501.s3-us-west-2.amazonaws.com)... 52.218.197.153\n",
            "Connecting to market1501.s3-us-west-2.amazonaws.com (market1501.s3-us-west-2.amazonaws.com)|52.218.197.153|:443... connected.\n",
            "HTTP request sent, awaiting response... 200 OK\n",
            "Length: 82925180 (79M) [application/zip]\n",
            "Saving to: ‘dataset.zip’\n",
            "\n",
            "dataset.zip         100%[===================>]  79.08M  28.1MB/s    in 2.8s    \n",
            "\n",
            "2021-05-19 18:47:54 (28.1 MB/s) - ‘dataset.zip’ saved [82925180/82925180]\n",
            "\n"
          ],
          "name": "stdout"
        }
      ]
    },
    {
      "cell_type": "code",
      "metadata": {
        "colab": {
          "base_uri": "https://localhost:8080/"
        },
        "id": "_--0IpcYHBC_",
        "outputId": "bb7ae255-f00f-4be3-a89e-0b962fdf7d2c"
      },
      "source": [
        "!rm -rf /content/deeplearning_unitn\n",
        "!git clone https://github.com/deayalar/deeplearning_unitn.git"
      ],
      "execution_count": 2,
      "outputs": [
        {
          "output_type": "stream",
          "text": [
            "Cloning into 'deeplearning_unitn'...\n",
            "remote: Enumerating objects: 85, done.\u001b[K\n",
            "remote: Counting objects: 100% (85/85), done.\u001b[K\n",
            "remote: Compressing objects: 100% (62/62), done.\u001b[K\n",
            "remote: Total 85 (delta 37), reused 63 (delta 19), pack-reused 0\u001b[K\n",
            "Unpacking objects: 100% (85/85), done.\n"
          ],
          "name": "stdout"
        }
      ]
    },
    {
      "cell_type": "code",
      "metadata": {
        "id": "lUb-UELw5R_B",
        "colab": {
          "base_uri": "https://localhost:8080/"
        },
        "outputId": "263be067-b152-4ab2-f601-88afa6c6df07"
      },
      "source": [
        "!nvidia-smi"
      ],
      "execution_count": null,
      "outputs": [
        {
          "output_type": "stream",
          "text": [
            "Tue May 18 17:50:40 2021       \n",
            "+-----------------------------------------------------------------------------+\n",
            "| NVIDIA-SMI 465.19.01    Driver Version: 460.32.03    CUDA Version: 11.2     |\n",
            "|-------------------------------+----------------------+----------------------+\n",
            "| GPU  Name        Persistence-M| Bus-Id        Disp.A | Volatile Uncorr. ECC |\n",
            "| Fan  Temp  Perf  Pwr:Usage/Cap|         Memory-Usage | GPU-Util  Compute M. |\n",
            "|                               |                      |               MIG M. |\n",
            "|===============================+======================+======================|\n",
            "|   0  Tesla K80           Off  | 00000000:00:04.0 Off |                    0 |\n",
            "| N/A   35C    P8    27W / 149W |      0MiB / 11441MiB |      0%      Default |\n",
            "|                               |                      |                  N/A |\n",
            "+-------------------------------+----------------------+----------------------+\n",
            "                                                                               \n",
            "+-----------------------------------------------------------------------------+\n",
            "| Processes:                                                                  |\n",
            "|  GPU   GI   CI        PID   Type   Process name                  GPU Memory |\n",
            "|        ID   ID                                                   Usage      |\n",
            "|=============================================================================|\n",
            "|  No running processes found                                                 |\n",
            "+-----------------------------------------------------------------------------+\n"
          ],
          "name": "stdout"
        }
      ]
    },
    {
      "cell_type": "code",
      "metadata": {
        "id": "g-GfOs_XIJGN"
      },
      "source": [
        "config = dict(\n",
        "    wandb = False,\n",
        "    device = \"auto\", # Select an specific device None to select automatically\n",
        "    #train_root = \"/content/dataset/train\",\n",
        "    #test_root = \"/content/dataset/test\"\n",
        "    #queries_root = \"/content/dataset/queries\",\n",
        "    #attributes_file = \"/content/dataset/annotations_train.csv\"\n",
        "    train_root = \"/media/deayalar/Data/Documents/Unitn/Deep Learning/Assignment/dataset/train\",\n",
        "    test_root = \"/media/deayalar/Data/Documents/Unitn/Deep Learning/Assignment/dataset/test\",\n",
        "    queries_root = \"/media/deayalar/Data/Documents/Unitn/Deep Learning/Assignment/dataset/queries\",\n",
        "    attributes_file = \"/media/deayalar/Data/Documents/Unitn/Deep Learning/Assignment/dataset/annotations_train.csv\",\n",
        "    dataset=\"Market1501\",\n",
        "    backbone = \"resnet18\",\n",
        "    loss = \"triplet / crossentropy, etc\",\n",
        "    split = dict(\n",
        "        full_training_size = 0.75,\n",
        "        train_size = 0.8\n",
        "    ),\n",
        "    compose = dict(\n",
        "        resize_h = 224,\n",
        "        resize_w = 224\n",
        "    ),\n",
        "    epochs=1,\n",
        "    training_batch_size=128,\n",
        "    validation_batch_size=16,\n",
        "    learning_rate=0.01,\n",
        "    weight_decay=0.000001, \n",
        "    momentum=0.9, \n",
        "    mAP_rank=10)"
      ],
      "execution_count": 1,
      "outputs": []
    },
    {
      "cell_type": "code",
      "execution_count": 2,
      "metadata": {},
      "outputs": [
        {
          "output_type": "stream",
          "name": "stdout",
          "text": "[Errno 2] No such file or directory: '/content/deeplearning_unitn'\n/media/deayalar/Data/Documents/Unitn/Deep Learning/Assignment/dl_unitn\ncpu\n"
        }
      ],
      "source": [
        "%cd /content/deeplearning_unitn\n",
        "\n",
        "import os\n",
        "import torch\n",
        "import torch.nn as nn\n",
        "import torch.nn.functional as F\n",
        "import torchvision\n",
        "import torch.optim as optim\n",
        "import torchvision.transforms as transforms\n",
        "from torch.utils.data import DataLoader\n",
        "from tqdm.notebook import tqdm\n",
        "\n",
        "import cost_functions\n",
        "from evaluation import Evaluator\n",
        "from my_datasets.reid_dataset import Market1501\n",
        "from utils.split_data import ValidationSplitter, TrainingSplitter\n",
        "from models.reid_model import ReIdModel, FinetunedModel\n",
        "from sklearn.model_selection import train_test_split\n",
        "\n",
        "if config[\"device\"] == \"auto\":\n",
        "    device = torch.device(\"cuda:0\" if torch.cuda.is_available() else \"cpu\")\n",
        "else:\n",
        "    device = config[\"device\"]\n",
        "print(device)"
      ]
    },
    {
      "cell_type": "code",
      "execution_count": 3,
      "metadata": {},
      "outputs": [
        {
          "output_type": "stream",
          "name": "stdout",
          "text": "/bin/bash: pip: command not found\n"
        },
        {
          "output_type": "error",
          "ename": "ModuleNotFoundError",
          "evalue": "No module named 'wandb'",
          "traceback": [
            "\u001b[0;31m---------------------------------------------------------------------------\u001b[0m",
            "\u001b[0;31mModuleNotFoundError\u001b[0m                       Traceback (most recent call last)",
            "\u001b[0;32m<ipython-input-3-3c3efca7ccf8>\u001b[0m in \u001b[0;36m<module>\u001b[0;34m\u001b[0m\n\u001b[1;32m      1\u001b[0m \u001b[0mget_ipython\u001b[0m\u001b[0;34m(\u001b[0m\u001b[0;34m)\u001b[0m\u001b[0;34m.\u001b[0m\u001b[0msystem\u001b[0m\u001b[0;34m(\u001b[0m\u001b[0;34m'pip install wandb -q'\u001b[0m\u001b[0;34m)\u001b[0m\u001b[0;34m\u001b[0m\u001b[0;34m\u001b[0m\u001b[0m\n\u001b[0;32m----> 2\u001b[0;31m \u001b[0;32mimport\u001b[0m \u001b[0mwandb\u001b[0m\u001b[0;34m\u001b[0m\u001b[0;34m\u001b[0m\u001b[0m\n\u001b[0m\u001b[1;32m      3\u001b[0m \u001b[0;32mif\u001b[0m \u001b[0mconfig\u001b[0m\u001b[0;34m.\u001b[0m\u001b[0mwandb\u001b[0m\u001b[0;34m:\u001b[0m\u001b[0;34m\u001b[0m\u001b[0;34m\u001b[0m\u001b[0m\n\u001b[1;32m      4\u001b[0m     \u001b[0mwandb\u001b[0m\u001b[0;34m.\u001b[0m\u001b[0mlogin\u001b[0m\u001b[0;34m(\u001b[0m\u001b[0;34m)\u001b[0m\u001b[0;34m\u001b[0m\u001b[0;34m\u001b[0m\u001b[0m\n",
            "\u001b[0;31mModuleNotFoundError\u001b[0m: No module named 'wandb'"
          ]
        }
      ],
      "source": [
        "!pip install wandb -q\n",
        "import wandb\n",
        "wandb.login()"
      ]
    },
    {
      "cell_type": "code",
      "metadata": {
        "id": "dm98oBsFEHio"
      },
      "source": [
        "def model_pipeline(hyperparameters):\n",
        "    \"\"\"\n",
        "    This function corresponds to the basic pipeline of all tested models\n",
        "    1) Setup based on the configuration\n",
        "    2) Train the model\n",
        "    3) Test performance\n",
        "    \"\"\"\n",
        "    config = hyperparameters\n",
        "    if config[\"wandb\"]:\n",
        "      wandb.init(entity=\"dl_unitn\", project=\"dl_project\", config=hyperparameters)\n",
        "      config = wandb.config\n",
        "    print(config)\n",
        "\n",
        "    train_set, val_set, val_queries = split_data(config)\n",
        "    \n",
        "    model, train_loader, val_loader, val_queries_loader, criterion, optimizer = setup(train_set, val_set, val_queries, config)\n",
        "    print(model)\n",
        "\n",
        "    id_ground_truth_dict = build_ground_truth(val_set, val_queries)\n",
        "    train(model, train_loader, val_loader, criterion, optimizer, config)\n",
        "\n",
        "    test(model, val_loader, val_queries_loader, config, save_model=True) #True to save model\n",
        "\n",
        "    return model"
      ],
      "execution_count": 3,
      "outputs": []
    },
    {
      "cell_type": "code",
      "execution_count": 3,
      "metadata": {},
      "outputs": [],
      "source": [
        "def build_ground_truth(val_set, val_queries):\n",
        "    values = []\n",
        "    for q in val_queries:\n",
        "        matches = []\n",
        "        for idx_v, v in enumerate(val_set):\n",
        "            if v.split(\"_\")[0] == q.split(\"_\")[0]:\n",
        "                matches.append(idx_v)\n",
        "        value = set(matches)\n",
        "        values.append(value)\n",
        "        \n",
        "    ground_truth_dict = dict(zip(list(range(0, len(val_queries))), values))\n",
        "\n",
        "    #values = []\n",
        "    #for q in val_queries:\n",
        "    #    matches = []\n",
        "    #    for v in val_set:\n",
        "    #        if v.split(\"_\")[0] == q.split(\"_\")[0]:\n",
        "    #            matches.append(v)\n",
        "    #    value = set(matches)\n",
        "    #    values.append(value)\n",
        "    #ground_truth_dict = dict(zip(val_queries, values))\n",
        "\n",
        "    return ground_truth_dict\n"
      ]
    },
    {
      "cell_type": "code",
      "metadata": {
        "id": "Z0fYIjoLG2rv"
      },
      "source": [
        "def split_data(config):\n",
        "    splitter = ValidationSplitter(train_root=config[\"train_root\"], \n",
        "                                  test_root=config[\"test_root\"], \n",
        "                                  queries_root=config[\"queries_root\"])\n",
        "    train_set, val_set, val_queries = splitter.split(train_size=config[\"split\"][\"full_training_size\"],\n",
        "                                                     random_seed=42)\n",
        "    return train_set, val_set, val_queries\n",
        "\n",
        "def setup(train_set, val_set, val_queries, config):\n",
        "    #Create pytorch Datasets \n",
        "    composed = transforms.Compose([transforms.Resize((config[\"compose\"][\"resize_h\"], \n",
        "                                                      config[\"compose\"][\"resize_w\"])),\n",
        "                                   transforms.ToTensor(),\n",
        "                                   transforms.Normalize(mean=[0.485, 0.456, 0.406],\n",
        "                                                        std=[0.229, 0.224, 0.225])])\n",
        "    \n",
        "    train_dataset = Market1501(root_dir=config[\"train_root\"],\n",
        "                            attributes_file=config[\"attributes_file\"],\n",
        "                            #full_train_set=full_train_set,\n",
        "                            images_list=train_set,\n",
        "                            transform=composed)\n",
        "                            \n",
        "    val_dataset = Market1501(root_dir=config[\"train_root\"],\n",
        "                         attributes_file=config[\"attributes_file\"],\n",
        "                         #full_train_set = full_train_set,\n",
        "                         images_list=val_set,\n",
        "                         transform=composed)\n",
        "\n",
        "    val_queries_dataset = Market1501(root_dir=config[\"train_root\"],\n",
        "                         attributes_file=config[\"attributes_file\"],\n",
        "                         #full_train_set = full_train_set,\n",
        "                         images_list=val_queries,\n",
        "                         transform=composed)\n",
        "\n",
        "    train_loader = torch.utils.data.DataLoader(train_dataset, \n",
        "                                               batch_size=config[\"training_batch_size\"], \n",
        "                                               shuffle=True, \n",
        "                                               num_workers=8)\n",
        "                                               \n",
        "    val_loader = torch.utils.data.DataLoader(val_dataset, \n",
        "                                             batch_size=config[\"validation_batch_size\"], \n",
        "                                             shuffle=False, \n",
        "                                             num_workers=8)\n",
        "\n",
        "    val_queries_loader = torch.utils.data.DataLoader(val_queries_dataset, \n",
        "                                             batch_size=config[\"validation_batch_size\"],\n",
        "                                             shuffle=False, \n",
        "                                             num_workers=8)\n",
        "\n",
        "    #model = ReIdModel(n_classes=len(train_dataset.classes)).to(device)\n",
        "    attr_len = len(train_dataset[0][2]) #Number of attributes in the csv: 27\n",
        "    print(f\"Number of attributes: {attr_len}\")\n",
        "    model = FinetunedModel(architecture=config[\"backbone\"] ,n_classes=attr_len).to(device)\n",
        "\n",
        "    # Setup the optimization problem\n",
        "    criterion = cost_functions.cross_entropy()\n",
        "    optimizer = torch.optim.SGD(model.parameters(), \n",
        "                                lr=config[\"learning_rate\"], \n",
        "                                weight_decay=config[\"weight_decay\"], \n",
        "                                momentum=config[\"momentum\"])\n",
        "    \n",
        "    return model, train_loader, val_loader, val_queries_loader, criterion, optimizer"
      ],
      "execution_count": 4,
      "outputs": []
    },
    {
      "cell_type": "code",
      "metadata": {
        "id": "T0FUbfkUPZJb"
      },
      "source": [
        "def train(model, train_loader, val_loader, criterion, optimizer, config):\n",
        "    # tell wandb to watch what the model gets up to: gradients, weights, and more!\n",
        "    if config[\"wandb\"]:\n",
        "        wandb.watch(model, criterion, log=\"all\", log_freq=10)\n",
        "    model.train()\n",
        "    # Run training and track with wandb\n",
        "    total_batches = len(train_loader) * config[\"epochs\"]\n",
        "    example_ct = 0  # number of seen examples\n",
        "    batch_ct = 0\n",
        "\n",
        "    for epoch in tqdm(range(config[\"epochs\"])):\n",
        "        for batch_idx, (inputs, labels, attributes) in enumerate(train_loader):\n",
        "            loss = train_batch(inputs, labels, model, optimizer, criterion)\n",
        "\n",
        "            example_ct +=  len(inputs)\n",
        "            batch_ct += 1\n",
        "\n",
        "            if ((batch_ct + 1) % 50) == 0:\n",
        "                train_log(loss, example_ct, epoch)\n",
        "\n",
        "\n",
        "def train_batch(inputs, labels, model, optimizer, criterion):\n",
        "    inputs, labels = inputs.to(device), labels.to(device)\n",
        "    \n",
        "    # Forward pass\n",
        "    outputs = model(inputs)\n",
        "    # Apply the loss\n",
        "    loss = criterion(outputs, labels)\n",
        "    \n",
        "    optimizer.zero_grad()\n",
        "    # Backward pass\n",
        "    loss.backward()\n",
        "\n",
        "    # Step with optimizer\n",
        "    optimizer.step()\n",
        "\n",
        "    # Zeros the gradient\n",
        "\n",
        "    return loss"
      ],
      "execution_count": 7,
      "outputs": []
    },
    {
      "cell_type": "code",
      "metadata": {
        "id": "mdfG05psTqWb"
      },
      "source": [
        "def train_log(loss, example_ct, epoch):\n",
        "    loss = float(loss)\n",
        "    if config[\"wandb\"]:\n",
        "        wandb.log({\"epoch\": epoch, \"loss\": loss}, step=example_ct)\n",
        "    print(f\"Loss after \" + str(example_ct).zfill(5) + f\" examples: {loss:.3f}\")"
      ],
      "execution_count": 9,
      "outputs": []
    },
    {
      "cell_type": "code",
      "metadata": {
        "id": "DZrrHYz_Tvk7"
      },
      "source": [
        "# This coulf be the attributes classification function\n",
        "def test(model, loader, config, save_model=False):\n",
        "    model.eval()\n",
        "\n",
        "    # Run the model on some test examples\n",
        "    with torch.no_grad():\n",
        "        correct, total = 0, 0\n",
        "        for inputs, labels, attributes in loader:\n",
        "            inputs, labels = inputs.to(device), labels.to(device)\n",
        "            outputs = model(inputs)\n",
        "            _, predicted = torch.max(outputs.data, 1)\n",
        "            total += labels.size(0)\n",
        "            correct += (predicted == labels).sum().item()\n",
        "\n",
        "        print(f\"Accuracy of the model on the {total} \" +\n",
        "              f\"test images: {100 * correct / total}%\")\n",
        "        if config[\"wandb\"]:\n",
        "            wandb.log({\"test_accuracy\": correct / total})\n",
        "    if save_model :\n",
        "      # Save the model in the exchangeable ONNX format\n",
        "      torch.onnx.export(model, inputs, \"model.onnx\")\n",
        "      if config[\"wandb\"]:\n",
        "        wandb.save(\"model.onnx\")"
      ],
      "execution_count": 8,
      "outputs": []
    },
    {
      "cell_type": "code",
      "metadata": {
        "colab": {
          "base_uri": "https://localhost:8080/",
          "height": 1000,
          "referenced_widgets": [
            "8d7a383683b94cbd9cc1ec3bf0ab4a1b",
            "baa3593a3dd54b409ef96082796a4206",
            "8436877b0aab449ba79fc5940bf6ce04",
            "fdf0c08feda840c2a33656c4205148a3",
            "5a53a49c868b44d1a49f547329beb7b0",
            "8c25c72677d640e5aa17afde4335ad35",
            "93d5592446bb4009a0d55af127c8473b",
            "f58cd72a65d14ba5b5c358e972b9630c",
            "163f6464546c40e4a3179697a520db3c",
            "29cab8f22ede4d529c006f22b27e5ff2",
            "e02f90060b0c4c2fbc0d075fccd0b599",
            "ff3ed4fab6844d08bebf2b049b88f1fd",
            "9527b7df2a4a4e1caf9efa359733e7d7",
            "e8794ee8c3f34ff897708bdf6cd9cdcf",
            "2a28f8b9891c40be9c2e0d7f0f429602",
            "adcdaf9c9cd645cfb8dc3a830268bcf8"
          ]
        },
        "id": "o-RZrmSUT_OC",
        "outputId": "55d47e0d-9df3-4615-ed51-39971f00352e"
      },
      "source": [
        "# Build, train and analyze the model with the pipeline\n",
        "model = model_pipeline(config)"
      ],
      "execution_count": 5,
      "outputs": [
        {
          "output_type": "error",
          "ename": "NameError",
          "evalue": "name 'model_pipeline' is not defined",
          "traceback": [
            "\u001b[0;31m---------------------------------------------------------------------------\u001b[0m",
            "\u001b[0;31mNameError\u001b[0m                                 Traceback (most recent call last)",
            "\u001b[0;32m<ipython-input-5-78fbf03a599a>\u001b[0m in \u001b[0;36m<module>\u001b[0;34m\u001b[0m\n\u001b[1;32m      1\u001b[0m \u001b[0;31m# Build, train and analyze the model with the pipeline\u001b[0m\u001b[0;34m\u001b[0m\u001b[0;34m\u001b[0m\u001b[0;34m\u001b[0m\u001b[0m\n\u001b[0;32m----> 2\u001b[0;31m \u001b[0mmodel\u001b[0m \u001b[0;34m=\u001b[0m \u001b[0mmodel_pipeline\u001b[0m\u001b[0;34m(\u001b[0m\u001b[0mconfig\u001b[0m\u001b[0;34m)\u001b[0m\u001b[0;34m\u001b[0m\u001b[0;34m\u001b[0m\u001b[0m\n\u001b[0m",
            "\u001b[0;31mNameError\u001b[0m: name 'model_pipeline' is not defined"
          ]
        }
      ]
    },
    {
      "cell_type": "code",
      "execution_count": 5,
      "metadata": {},
      "outputs": [
        {
          "output_type": "stream",
          "name": "stdout",
          "text": "Extract queries proportion: 0.11\nIdentities in train set: 563\nIdentities in validation set: 188\nTrain set size: 9732\nValidation set size: 2898\nNumber of validation queries: 359\nNumber of attributes: 27\nBackbone feature size: 512\n"
        }
      ],
      "source": [
        "train_set, val_set, val_queries = split_data(config)\n",
        "model, train_loader, val_loader, val_queries_loader, criterion, optimizer = setup(train_set, val_set, val_queries, config)\n",
        "id_ground_truth_dict = build_ground_truth(val_set, val_queries)"
      ]
    },
    {
      "cell_type": "code",
      "execution_count": 10,
      "metadata": {},
      "outputs": [],
      "source": [
        "def get_features_from_loader(model, loader):\n",
        "    model.eval()\n",
        "    with torch.no_grad():\n",
        "        all_features = torch.zeros(len(loader.dataset), model.feature_size)\n",
        "        for batch_idx, (inputs, ids, attr) in tqdm(enumerate(loader), total=len(loader.dataset)):\n",
        "                inputs = inputs.to(device)\n",
        "                features = model(inputs, get_features=True)\n",
        "                for in_batch, f in enumerate(features):\n",
        "                    all_features[(batch_idx * loader.batch_size) + in_batch] = f\n",
        "        return all_features\n",
        "\n",
        "\n",
        "def test_mAP(model, gallery_loader, queries_loader, ground_truth_dict, config, save_model=False):\n",
        "    \"\"\"\n",
        "    This function returns the mAP performance of a given model \n",
        "    Params:\n",
        "    model: model to be evaluated\n",
        "    gallery: tensor that contains the feature representations of the target images in validation or test set\n",
        "    queries: tensor that contains feature representations of the queries\n",
        "    rank: top number of elements to retrieve\n",
        "\n",
        "    Returns:\n",
        "    mAP performance of the model\n",
        "    \"\"\"\n",
        "\n",
        "    # Run the model on some test examples\n",
        "    with torch.no_grad():\n",
        "        \n",
        "        # Compute the features for queries and gallery\n",
        "        print(\"Computing gallery features...\")\n",
        "        gallery_features = get_features_from_loader(model, gallery_loader)\n",
        "        print(\"Computing query features...\")\n",
        "        query_features = get_features_from_loader(model, queries_loader)\n",
        "        \n",
        "        # Build the cosine similarity matrix between the all the queries and all the elements in gallery\n",
        "        print(\"Computing cosine similarities...\")\n",
        "        sims_matrix = torch.empty(query_features.size()[0], gallery_features.size()[0])\n",
        "        for idx, q in enumerate(query_features):\n",
        "            sims_matrix[idx] = F.cosine_similarity(q, gallery_features, dim=-1)\n",
        "\n",
        "        print(sims_matrix.size())\n",
        "        sorted_index = torch.argsort(sims_matrix, dim=1, descending=True)\n",
        "        top_k = sorted_index.narrow_copy(dim=1, start=0, length=config[\"mAP_rank\"])\n",
        "\n",
        "        #Build the dictionary to compute the mAP\n",
        "        predictions_dict = {idx:  r for idx, r in enumerate(top_k.tolist())}\n",
        "        mAP = Evaluator.evaluate_map(predictions_dict, ground_truth_dict)\n",
        "        \n",
        "        print(f\"mAP: {mAP}\")\n",
        "        if config[\"wandb\"]:\n",
        "            wandb.log({\"mAP\": mAP})\n",
        "    if save_model :\n",
        "      # Save the model in the exchangeable ONNX format\n",
        "      torch.onnx.export(model, inputs, \"model.onnx\", export_params=True)\n",
        "      if config[\"wandb\"]:\n",
        "        wandb.save(\"model.onnx\")"
      ]
    },
    {
      "cell_type": "code",
      "execution_count": 11,
      "metadata": {},
      "outputs": [
        {
          "output_type": "stream",
          "name": "stdout",
          "text": "Computing gallery features...\n"
        },
        {
          "output_type": "display_data",
          "data": {
            "text/plain": "  0%|          | 0/2898 [00:00<?, ?it/s]",
            "application/vnd.jupyter.widget-view+json": {
              "version_major": 2,
              "version_minor": 0,
              "model_id": "ff62ae1d457a49188ec7e7b7608cf0c3"
            }
          },
          "metadata": {}
        },
        {
          "output_type": "stream",
          "name": "stdout",
          "text": "Computing query features...\n"
        },
        {
          "output_type": "display_data",
          "data": {
            "text/plain": "  0%|          | 0/359 [00:00<?, ?it/s]",
            "application/vnd.jupyter.widget-view+json": {
              "version_major": 2,
              "version_minor": 0,
              "model_id": "daeadf9bd5574230bb1f8bc691c9aec9"
            }
          },
          "metadata": {}
        },
        {
          "output_type": "stream",
          "name": "stdout",
          "text": "Computing cosine similarities...\ntorch.Size([359, 2898])\ncurrent_ground_truth_query: 0\ncurrent_ground_truth_query_set: {832, 936, 17, 2265, 319}\ncurrent_predictions_list: [2322, 418, 259, 947, 879, 5, 95, 303, 863, 2523]\n0.0\n0.0\n0.0\n0.0\n0.0\n0.0\n0.0\n0.0\n0.0\n0.0\ncurrent_ground_truth_query: 1\ncurrent_ground_truth_query_set: {2818, 771, 145, 404, 280, 1052, 2216, 302, 2356, 185, 2746, 193, 203, 2386, 1497, 858, 219, 608, 867, 631}\ncurrent_predictions_list: [858, 304, 631, 929, 1354, 232, 1960, 2244, 1052, 1948]\n0.05\n0.05\n0.08333333333333334\n0.08333333333333334\n0.08333333333333334\n0.08333333333333334\n0.08333333333333334\n0.08333333333333334\n0.1\n0.1\ncurrent_ground_truth_query: 2\ncurrent_ground_truth_query_set: {261, 1242, 2507, 2221, 465, 276, 794, 1372, 893}\ncurrent_predictions_list: [680, 1208, 453, 774, 767, 2655, 345, 1895, 2834, 1764]\n0.0\n0.0\n0.0\n0.0\n0.0\n0.0\n0.0\n0.0\n0.0\n0.0\ncurrent_ground_truth_query: 3\ncurrent_ground_truth_query_set: {264, 201, 648, 2107, 2505, 365, 1742, 591, 1144, 2779, 1051, 1534}\ncurrent_predictions_list: [436, 591, 1356, 2107, 1534, 264, 365, 2525, 1994, 2768]\n0.0\n0.041666666666666664\n0.041666666666666664\n0.08333333333333333\n0.13333333333333333\n0.18888888888888888\n0.24841269841269842\n0.24841269841269842\n0.24841269841269842\n0.24841269841269842\ncurrent_ground_truth_query: 4\ncurrent_ground_truth_query_set: {1377, 898, 835, 996, 1314, 1923, 967, 2087, 169, 938, 1066, 1417, 1705, 2829, 850, 2885, 2845, 2398}\ncurrent_predictions_list: [835, 864, 1937, 1882, 1835, 1284, 1077, 279, 418, 2253]\n0.05555555555555555\n0.05555555555555555\n0.05555555555555555\n0.05555555555555555\n0.05555555555555555\n0.05555555555555555\n0.05555555555555555\n0.05555555555555555\n0.05555555555555555\n0.05555555555555555\ncurrent_ground_truth_query: 5\ncurrent_ground_truth_query_set: {386, 1800, 151, 24, 286, 928, 2848, 943, 1207, 572, 1727, 2125, 718, 82, 470, 1504, 2784, 866, 872, 1532}\ncurrent_predictions_list: [680, 2534, 2848, 1059, 944, 2250, 2729, 386, 2324, 2720]\n0.0\n0.0\n0.016666666666666666\n0.016666666666666666\n0.016666666666666666\n0.016666666666666666\n0.016666666666666666\n0.029166666666666667\n0.029166666666666667\n0.029166666666666667\ncurrent_ground_truth_query: 6\ncurrent_ground_truth_query_set: {1028, 1284, 1030, 2059, 2074, 2220, 1583, 1969, 1461, 2368, 716, 2510, 2132, 987, 1251, 2787, 2668, 1645, 2542, 1268, 887}\ncurrent_predictions_list: [2132, 1033, 224, 2601, 1583, 113, 1487, 387, 977, 1456]\n0.047619047619047616\n0.047619047619047616\n0.047619047619047616\n0.047619047619047616\n0.06666666666666667\n0.06666666666666667\n0.06666666666666667\n0.06666666666666667\n0.06666666666666667\n0.06666666666666667\ncurrent_ground_truth_query: 7\ncurrent_ground_truth_query_set: {1925, 270, 1678, 1679, 1426, 1554, 2841, 282, 670, 2464, 53, 1987, 848, 1872, 1365, 220, 1129, 1130, 2156, 1146, 1278}\ncurrent_predictions_list: [2464, 1678, 2682, 1987, 2452, 1495, 2838, 416, 297, 1817]\n0.047619047619047616\n0.09523809523809523\n0.09523809523809523\n0.13095238095238093\n0.13095238095238093\n0.13095238095238093\n0.13095238095238093\n0.13095238095238093\n0.13095238095238093\n0.13095238095238093\ncurrent_ground_truth_query: 8\ncurrent_ground_truth_query_set: {640, 737, 194, 578, 2756, 1736, 1266, 1943, 697, 156, 1405, 2526}\ncurrent_predictions_list: [989, 2278, 1123, 134, 126, 1266, 2105, 2487, 575, 2016]\n0.0\n0.0\n0.0\n0.0\n0.0\n0.013888888888888888\n0.013888888888888888\n0.013888888888888888\n0.013888888888888888\n0.013888888888888888\ncurrent_ground_truth_query: 9\ncurrent_ground_truth_query_set: {708, 2822, 1575, 136, 76, 1614, 2128, 1041, 1777, 979, 468, 1813, 1462, 2068, 2164, 250, 2684, 2301}\ncurrent_predictions_list: [22, 1906, 2878, 1297, 2145, 255, 1002, 774, 2568, 1525]\n0.0\n0.0\n0.0\n0.0\n0.0\n0.0\n0.0\n0.0\n0.0\n0.0\ncurrent_ground_truth_query: 10\ncurrent_ground_truth_query_set: {2529, 1316, 2116, 2781, 1966, 1275, 784, 1711, 370, 788, 1238, 1240, 251, 92, 2173}\ncurrent_predictions_list: [1238, 80, 2155, 2207, 1871, 2567, 901, 203, 1826, 1802]\n0.06666666666666667\n0.06666666666666667\n0.06666666666666667\n0.06666666666666667\n0.06666666666666667\n0.06666666666666667\n0.06666666666666667\n0.06666666666666667\n0.06666666666666667\n0.06666666666666667\ncurrent_ground_truth_query: 11\ncurrent_ground_truth_query_set: {384, 2178, 659, 2197, 2455, 687, 2101, 1350, 1992, 1481, 1739, 1995, 847, 1509, 2022, 493, 237, 238, 878, 2811}\ncurrent_predictions_list: [1739, 847, 1943, 1817, 459, 1390, 2715, 1514, 6, 2811]\n0.05\n0.1\n0.1\n0.1\n0.1\n0.1\n0.1\n0.1\n0.1\n0.115\ncurrent_ground_truth_query: 12\ncurrent_ground_truth_query_set: {519, 265, 1162, 780, 411, 1438, 1445, 2475, 956, 61, 703, 1225, 714, 2637, 2258, 472, 1244, 2140, 227, 240, 881, 2042, 252}\ncurrent_predictions_list: [2574, 1652, 2, 2441, 1649, 1813, 2532, 1258, 1149, 557]\n0.0\n0.0\n0.0\n0.0\n0.0\n0.0\n0.0\n0.0\n0.0\n0.0\ncurrent_ground_truth_query: 13\ncurrent_ground_truth_query_set: {1664, 129, 135, 72, 1928, 1098, 1929, 652, 1084, 1806, 1011, 759, 2843, 668, 701}\ncurrent_predictions_list: [1567, 652, 358, 1611, 2652, 2088, 1560, 970, 10, 616]\n0.0\n0.03333333333333333\n0.03333333333333333\n0.03333333333333333\n0.03333333333333333\n0.03333333333333333\n0.03333333333333333\n0.03333333333333333\n0.03333333333333333\n0.03333333333333333\ncurrent_ground_truth_query: 14\ncurrent_ground_truth_query_set: {2657, 1255, 1320, 2313, 1034, 2378, 2413, 1360, 1201, 1873, 2259, 2036, 2389, 502, 983, 2706, 830}\ncurrent_predictions_list: [2413, 1120, 2237, 1735, 2484, 1001, 1556, 328, 1181, 583]\n0.058823529411764705\n0.058823529411764705\n0.058823529411764705\n0.058823529411764705\n0.058823529411764705\n0.058823529411764705\n0.058823529411764705\n0.058823529411764705\n0.058823529411764705\n0.058823529411764705\ncurrent_ground_truth_query: 15\ncurrent_ground_truth_query_set: {2305, 675, 1190, 937, 1033, 941, 1133, 1230, 1809, 307, 2420, 2040, 2879}\ncurrent_predictions_list: [2703, 1809, 2198, 2867, 2722, 2780, 2490, 2700, 1133, 636]\n0.0\n0.038461538461538464\n0.038461538461538464\n0.038461538461538464\n0.038461538461538464\n0.038461538461538464\n0.038461538461538464\n0.038461538461538464\n0.05555555555555556\n0.05555555555555556\ncurrent_ground_truth_query: 16\ncurrent_ground_truth_query_set: {2692, 5, 262, 1414, 1288, 1835, 947, 1845, 2761, 205, 2523, 2141, 1381, 360, 1132, 1519, 1775, 1776, 2801, 1267, 891, 2303}\ncurrent_predictions_list: [2761, 1288, 2675, 875, 1471, 2709, 463, 1939, 120, 1516]\n0.045454545454545456\n0.09090909090909091\n0.09090909090909091\n0.09090909090909091\n0.09090909090909091\n0.09090909090909091\n0.09090909090909091\n0.09090909090909091\n0.09090909090909091\n0.09090909090909091\ncurrent_ground_truth_query: 17\ncurrent_ground_truth_query_set: {2434, 1796, 2501, 2693, 1393, 2227, 1364, 1022}\ncurrent_predictions_list: [2377, 1022, 478, 2133, 1780, 588, 1513, 2426, 2265, 1537]\n0.0\n0.0625\n0.0625\n0.0625\n0.0625\n0.0625\n0.0625\n0.0625\n0.0625\n0.0625\ncurrent_ground_truth_query: 18\ncurrent_ground_truth_query_set: {2049, 133, 520, 2184, 523, 2317, 14, 400, 2579, 1174, 2462, 2209, 162, 930, 1955, 1573, 2086, 2213, 1960, 2339, 810, 2342, 940, 2862, 47, 432, 1714, 2483, 2741, 183, 2617, 570, 1470, 2500, 837, 2888, 1865, 1354, 724, 853, 854, 1492, 1620, 2390, 2520, 1374, 1632, 2656, 1893, 235, 620, 2286, 1904, 755, 1139, 2291, 758, 2169, 2170, 1403, 2046, 1791}\ncurrent_predictions_list: [1470, 2209, 2888, 1960, 1354, 2741, 1893, 2086, 930, 1464]\n0.016129032258064516\n0.03225806451612903\n0.04838709677419355\n0.06451612903225806\n0.08064516129032258\n0.0967741935483871\n0.11290322580645161\n0.12903225806451613\n0.14516129032258063\n0.14516129032258063\ncurrent_ground_truth_query: 19\ncurrent_ground_truth_query_set: {704, 140, 1004, 1548, 2062, 241, 754, 817, 2035, 661, 1141, 1531, 2844, 1885, 2111}\ncurrent_predictions_list: [2035, 1885, 2367, 2406, 817, 1254, 757, 56, 1547, 2633]\n0.06666666666666667\n0.13333333333333333\n0.13333333333333333\n0.13333333333333333\n0.17333333333333334\n0.17333333333333334\n0.17333333333333334\n0.17333333333333334\n0.17333333333333334\n0.17333333333333334\ncurrent_ground_truth_query: 20\ncurrent_ground_truth_query_set: {901, 2566, 665, 2334, 168, 812, 1853, 1599, 448, 63, 68, 2629, 202, 1996, 1741, 2380, 80, 2137, 2015, 1249, 1762, 746, 2287, 2546, 503, 1528}\ncurrent_predictions_list: [1853, 1927, 536, 1430, 2015, 2546, 423, 168, 535, 2156]\n0.038461538461538464\n0.038461538461538464\n0.038461538461538464\n0.038461538461538464\n0.05384615384615385\n0.07307692307692308\n0.07307692307692308\n0.09230769230769231\n0.09230769230769231\n0.09230769230769231\ncurrent_ground_truth_query: 21\ncurrent_ground_truth_query_set: {2, 522, 1805, 407, 1570, 1829, 1446, 62, 1346, 589, 471, 2136, 473, 2012, 605, 1502, 222, 998, 1398, 255}\ncurrent_predictions_list: [471, 1954, 559, 2423, 1502, 255, 1343, 1576, 577, 716]\n0.05\n0.05\n0.05\n0.05\n0.07\n0.095\n0.095\n0.095\n0.095\n0.095\ncurrent_ground_truth_query: 22\ncurrent_ground_truth_query_set: {2690, 1670, 2183, 1036, 2445, 2451, 796, 284, 672, 1961, 2733, 1209, 2108, 2365, 1982, 986, 1245, 95, 1505, 995, 1644, 1647, 1903, 1912, 2175}\ncurrent_predictions_list: [2451, 1505, 1619, 717, 178, 2227, 2733, 796, 95, 2083]\n0.04\n0.08\n0.08\n0.08\n0.08\n0.08\n0.09714285714285714\n0.11714285714285715\n0.13936507936507936\n0.13936507936507936\ncurrent_ground_truth_query: 23\ncurrent_ground_truth_query_set: {2689, 642, 1794, 1413, 2058, 2329, 1182, 1191, 1589, 2229, 1082, 1732, 84, 730, 732, 2783, 2146, 2411, 115, 1013, 1400, 2041}\ncurrent_predictions_list: [2031, 2421, 2391, 2792, 371, 679, 473, 1296, 1355, 217]\n0.0\n0.0\n0.0\n0.0\n0.0\n0.0\n0.0\n0.0\n0.0\n0.0\ncurrent_ground_truth_query: 24\ncurrent_ground_truth_query_set: {1601, 2722, 2759, 104, 462, 944, 146, 629, 825}\ncurrent_predictions_list: [2759, 1882, 800, 850, 2404, 835, 2751, 2109, 1937, 992]\n0.1111111111111111\n0.1111111111111111\n0.1111111111111111\n0.1111111111111111\n0.1111111111111111\n0.1111111111111111\n0.1111111111111111\n0.1111111111111111\n0.1111111111111111\n0.1111111111111111\ncurrent_ground_truth_query: 25\ncurrent_ground_truth_query_set: {2049, 133, 520, 2184, 523, 2317, 14, 400, 2579, 1174, 2462, 2209, 162, 930, 1955, 1573, 2086, 2213, 1960, 2339, 810, 2342, 940, 2862, 47, 432, 1714, 2483, 2741, 183, 2617, 570, 1470, 2500, 837, 2888, 1865, 1354, 724, 853, 854, 1492, 1620, 2390, 2520, 1374, 1632, 2656, 1893, 235, 620, 2286, 1904, 755, 1139, 2291, 758, 2169, 2170, 1403, 2046, 1791}\ncurrent_predictions_list: [1893, 2741, 940, 2888, 2209, 1354, 2086, 1470, 2342, 235]\n0.016129032258064516\n0.03225806451612903\n0.04838709677419355\n0.06451612903225806\n0.08064516129032258\n0.0967741935483871\n0.11290322580645161\n0.12903225806451613\n0.14516129032258063\n0.16129032258064513\ncurrent_ground_truth_query: 26\ncurrent_ground_truth_query_set: {1217, 676, 2468, 233, 138, 2828, 1165, 1357, 177, 2321, 1843, 1721, 1852, 2142}\ncurrent_predictions_list: [1357, 5, 2321, 1918, 1217, 2142, 1381, 259, 680, 262]\n0.07142857142857142\n0.07142857142857142\n0.11904761904761904\n0.11904761904761904\n0.16190476190476188\n0.2095238095238095\n0.2095238095238095\n0.2095238095238095\n0.2095238095238095\n0.2095238095238095\ncurrent_ground_truth_query: 27\ncurrent_ground_truth_query_set: {1444, 2180, 614, 1210, 2344, 1962, 2633, 208, 20, 279, 1178, 1212}\ncurrent_predictions_list: [1987, 2220, 1122, 382, 49, 2653, 2135, 898, 1947, 2420]\n0.0\n0.0\n0.0\n0.0\n0.0\n0.0\n0.0\n0.0\n0.0\n0.0\ncurrent_ground_truth_query: 28\ncurrent_ground_truth_query_set: {2817, 258, 403, 2069, 1558, 1815, 2839, 1562, 1180, 2335, 801, 1093, 1094, 1104, 2261, 1751, 988, 107, 2037, 1915}\ncurrent_predictions_list: [2069, 2608, 2144, 2387, 1606, 1980, 1370, 500, 2648, 1935]\n0.05\n0.05\n0.05\n0.05\n0.05\n0.05\n0.05\n0.05\n0.05\n0.05\ncurrent_ground_truth_query: 29\ncurrent_ground_truth_query_set: {1282, 1538, 2052, 1669, 139, 2832, 154, 1690, 2586, 420, 1577, 427, 46, 437, 699, 2495, 1731, 329, 457, 87, 856, 1887, 489, 2027, 2797, 239, 635, 894}\ncurrent_predictions_list: [239, 2667, 1576, 87, 1966, 1129, 2027, 1423, 969, 1391]\n0.03571428571428571\n0.03571428571428571\n0.03571428571428571\n0.05357142857142857\n0.05357142857142857\n0.05357142857142857\n0.06887755102040816\n0.06887755102040816\n0.06887755102040816\n0.06887755102040816\ncurrent_ground_truth_query: 30\ncurrent_ground_truth_query_set: {132, 2565, 2571, 2188, 2070, 800, 1697, 179, 1476, 2886, 2632, 2253, 2254, 1491, 2004, 599, 2264, 352, 2663, 1513, 1517, 1787}\ncurrent_predictions_list: [352, 1253, 2254, 132, 1391, 596, 599, 1197, 2886, 304]\n0.045454545454545456\n0.045454545454545456\n0.07575757575757576\n0.10984848484848485\n0.10984848484848485\n0.10984848484848485\n0.13582251082251082\n0.13582251082251082\n0.16107503607503607\n0.16107503607503607\ncurrent_ground_truth_query: 31\ncurrent_ground_truth_query_set: {2688, 1090, 3, 1763, 1285, 1606, 2602, 684, 1998, 498, 211, 538}\ncurrent_predictions_list: [2847, 334, 198, 2646, 1998, 2748, 1090, 1857, 856, 2347]\n0.0\n0.0\n0.0\n0.0\n0.016666666666666666\n0.016666666666666666\n0.04047619047619047\n0.04047619047619047\n0.04047619047619047\n0.04047619047619047\ncurrent_ground_truth_query: 32\ncurrent_ground_truth_query_set: {2562, 643, 2823, 1418, 11, 2186, 2191, 1702, 424, 1592, 2619, 2492, 2366, 66, 325, 458, 2127, 2392, 347, 228, 2416, 499, 1651, 1017}\ncurrent_predictions_list: [1723, 424, 2186, 1839, 2116, 661, 649, 2870, 93, 615]\n0.0\n0.020833333333333332\n0.048611111111111105\n0.048611111111111105\n0.048611111111111105\n0.048611111111111105\n0.048611111111111105\n0.048611111111111105\n0.048611111111111105\n0.048611111111111105\ncurrent_ground_truth_query: 33\ncurrent_ground_truth_query_set: {1056, 1376, 418, 1315, 1220, 552, 2322, 2196, 2711, 1304, 188, 2238}\ncurrent_predictions_list: [2135, 2382, 244, 2196, 105, 259, 2501, 2322, 1596, 1192]\n0.0\n0.0\n0.0\n0.020833333333333332\n0.020833333333333332\n0.020833333333333332\n0.020833333333333332\n0.041666666666666664\n0.041666666666666664\n0.041666666666666664\ncurrent_ground_truth_query: 34\ncurrent_ground_truth_query_set: {1298, 1567, 554, 175, 560, 2351, 2230, 1849, 1466, 958, 1983, 1221, 1999, 1622, 2263, 2775, 2652, 2412, 2549, 2424}\ncurrent_predictions_list: [554, 1466, 676, 2325, 2643, 2410, 2351, 1217, 1357, 2508]\n0.05\n0.1\n0.1\n0.1\n0.1\n0.1\n0.12142857142857144\n0.12142857142857144\n0.12142857142857144\n0.12142857142857144\ncurrent_ground_truth_query: 35\ncurrent_ground_truth_query_set: {1696, 2626, 1544, 2218, 1709, 2255, 2479, 2804, 469, 568, 2172, 509}\ncurrent_predictions_list: [1544, 2103, 2288, 2883, 1882, 2403, 2417, 1137, 772, 1505]\n0.08333333333333333\n0.08333333333333333\n0.08333333333333333\n0.08333333333333333\n0.08333333333333333\n0.08333333333333333\n0.08333333333333333\n0.08333333333333333\n0.08333333333333333\n0.08333333333333333\ncurrent_ground_truth_query: 36\ncurrent_ground_truth_query_set: {1163, 1931, 2319, 2449, 917, 1686, 1074, 2486, 826, 1726, 959, 1473, 709, 2503, 2001, 1884, 2018, 2533, 2544, 497, 888}\ncurrent_predictions_list: [887, 1924, 2338, 1490, 2621, 653, 108, 1937, 2679, 414]\n0.0\n0.0\n0.0\n0.0\n0.0\n0.0\n0.0\n0.0\n0.0\n0.0\ncurrent_ground_truth_query: 37\ncurrent_ground_truth_query_set: {1248, 2716, 354, 2691, 804, 2851, 1864, 1545, 683, 305, 1490, 1076, 1460, 2772, 1911, 412, 606, 415}\ncurrent_predictions_list: [606, 863, 1059, 2502, 95, 1402, 2463, 706, 2108, 93]\n0.05555555555555555\n0.05555555555555555\n0.05555555555555555\n0.05555555555555555\n0.05555555555555555\n0.05555555555555555\n0.05555555555555555\n0.05555555555555555\n0.05555555555555555\n0.05555555555555555\ncurrent_ground_truth_query: 38\ncurrent_ground_truth_query_set: {134, 1655, 392, 651, 1675, 13, 660, 2709, 790, 283, 2460, 2588, 544, 2598, 430, 2606, 309, 2102, 311, 1975, 2744, 2364, 320, 1345, 1219, 2118, 1351, 1991, 2376, 2250, 984, 1498, 989, 478, 2270, 2148, 2404, 2025, 2665, 875, 2667, 2795, 1646, 2032, 247, 2428, 126}\ncurrent_predictions_list: [966, 3, 2729, 1759, 144, 2250, 1895, 2391, 1646, 2660]\n0.0\n0.0\n0.0\n0.0\n0.0\n0.0035460992907801418\n0.0035460992907801418\n0.0035460992907801418\n0.008274231678486997\n0.008274231678486997\ncurrent_ground_truth_query: 39\ncurrent_ground_truth_query_set: {1380, 1029, 1140, 1303, 761, 1723, 1629}\ncurrent_predictions_list: [393, 2312, 616, 1303, 2562, 1197, 2513, 1785, 1260, 2249]\n0.0\n0.0\n0.0\n0.03571428571428571\n0.03571428571428571\n0.03571428571428571\n0.03571428571428571\n0.03571428571428571\n0.03571428571428571\n0.03571428571428571\ncurrent_ground_truth_query: 40\ncurrent_ground_truth_query_set: {1933, 1295, 1807, 2577, 402, 1944, 1826, 165, 807, 2875, 1215, 1475, 582, 1993, 721, 1234, 1759, 997, 1386, 1399}\ncurrent_predictions_list: [997, 2429, 1154, 212, 1807, 451, 1290, 1763, 1842, 1598]\n0.05\n0.05\n0.05\n0.05\n0.07\n0.07\n0.07\n0.07\n0.07\n0.07\ncurrent_ground_truth_query: 41\ncurrent_ground_truth_query_set: {770, 776, 656, 658, 920, 799, 2212, 2085, 1574, 2866, 2869, 1465, 2109, 1725, 2120, 2767, 1880, 2650, 1754, 1123, 743, 2024}\ncurrent_predictions_list: [1617, 1037, 1058, 2034, 1059, 2800, 1156, 1882, 1, 895]\n0.0\n0.0\n0.0\n0.0\n0.0\n0.0\n0.0\n0.0\n0.0\n0.0\ncurrent_ground_truth_query: 42\ncurrent_ground_truth_query_set: {518, 137, 2584, 537, 1564, 31, 1324, 1200, 1341, 453, 839, 2635, 340, 2006, 738, 1764, 2537, 1900, 114, 2292, 1909, 378, 124}\ncurrent_predictions_list: [137, 2597, 1232, 2072, 425, 1349, 602, 1556, 142, 1990]\n0.043478260869565216\n0.043478260869565216\n0.043478260869565216\n0.043478260869565216\n0.043478260869565216\n0.043478260869565216\n0.043478260869565216\n0.043478260869565216\n0.043478260869565216\n0.043478260869565216\ncurrent_ground_truth_query: 43\ncurrent_ground_truth_query_set: {134, 1655, 392, 651, 1675, 13, 660, 2709, 790, 283, 2460, 2588, 544, 2598, 430, 2606, 309, 2102, 311, 1975, 2744, 2364, 320, 1345, 1219, 2118, 1351, 1991, 2376, 2250, 984, 1498, 989, 478, 2270, 2148, 2404, 2025, 2665, 875, 2667, 2795, 1646, 2032, 247, 2428, 126}\ncurrent_predictions_list: [2376, 2588, 1025, 544, 1219, 2850, 1463, 1776, 984, 194]\n0.02127659574468085\n0.0425531914893617\n0.0425531914893617\n0.05851063829787234\n0.07553191489361702\n0.07553191489361702\n0.07553191489361702\n0.07553191489361702\n0.08735224586288416\n0.08735224586288416\ncurrent_ground_truth_query: 44\ncurrent_ground_truth_query_set: {772, 2021, 2724, 2664, 1674, 301, 2063, 1816, 1810, 760, 889, 1339}\ncurrent_predictions_list: [1924, 2883, 887, 1670, 2021, 2526, 474, 2733, 245, 1032]\n0.0\n0.0\n0.0\n0.0\n0.016666666666666666\n0.016666666666666666\n0.016666666666666666\n0.016666666666666666\n0.016666666666666666\n0.016666666666666666\ncurrent_ground_truth_query: 45\ncurrent_ground_truth_query_set: {417, 1125, 1385, 395, 1195, 1458, 147, 372, 1043, 2294, 2419, 445, 1406}\ncurrent_predictions_list: [1043, 417, 631, 1385, 1737, 1458, 2419, 2335, 2086, 2287]\n0.07692307692307693\n0.15384615384615385\n0.15384615384615385\n0.21153846153846156\n0.21153846153846156\n0.26282051282051283\n0.3177655677655678\n0.3177655677655678\n0.3177655677655678\n0.3177655677655678\ncurrent_ground_truth_query: 46\ncurrent_ground_truth_query_set: {1536, 324, 199, 1543, 1323, 173, 496, 1649, 690, 1555, 2098, 2130, 2224, 1529}\ncurrent_predictions_list: [199, 690, 2785, 2130, 2425, 297, 638, 1314, 220, 1555]\n0.07142857142857142\n0.14285714285714285\n0.14285714285714285\n0.19642857142857142\n0.19642857142857142\n0.19642857142857142\n0.19642857142857142\n0.19642857142857142\n0.19642857142857142\n0.225\ncurrent_ground_truth_query: 47\ncurrent_ground_truth_query_set: {769, 131, 2563, 1416, 1932, 909, 1556, 2325, 2198, 1563, 27, 2593, 2082, 1187, 2343, 1333, 1612, 590, 975, 2131, 216, 857, 1503, 2786, 358, 1521, 2680}\ncurrent_predictions_list: [216, 358, 388, 260, 873, 439, 1143, 1665, 1068, 17]\n0.037037037037037035\n0.07407407407407407\n0.07407407407407407\n0.07407407407407407\n0.07407407407407407\n0.07407407407407407\n0.07407407407407407\n0.07407407407407407\n0.07407407407407407\n0.07407407407407407\ncurrent_ground_truth_query: 48\ncurrent_ground_truth_query_set: {906, 1676, 1818, 2587, 1828, 933, 1447, 1321, 1068, 1453, 51, 184, 2363, 2878, 1861, 583, 968, 863, 1388, 1778, 756, 2167, 253}\ncurrent_predictions_list: [756, 245, 2676, 2709, 585, 1103, 875, 1503, 499, 2060]\n0.043478260869565216\n0.043478260869565216\n0.043478260869565216\n0.043478260869565216\n0.043478260869565216\n0.043478260869565216\n0.043478260869565216\n0.043478260869565216\n0.043478260869565216\n0.043478260869565216\ncurrent_ground_truth_query: 49\ncurrent_ground_truth_query_set: {1952, 994, 2243, 1348, 904, 2248, 882, 1331, 564, 1077, 2327, 2362}\ncurrent_predictions_list: [1510, 559, 832, 586, 2113, 2138, 937, 1757, 1581, 2460]\n0.0\n0.0\n0.0\n0.0\n0.0\n0.0\n0.0\n0.0\n0.0\n0.0\ncurrent_ground_truth_query: 50\ncurrent_ground_truth_query_set: {260, 779, 1940, 149, 1050, 26, 797, 1186, 2084, 2476, 443, 1213, 2113, 963, 2887, 1355, 460, 2763, 978, 2260, 735, 366}\ncurrent_predictions_list: [2889, 1589, 1587, 1940, 715, 260, 259, 1188, 2123, 637]\n0.0\n0.0\n0.0\n0.011363636363636364\n0.011363636363636364\n0.026515151515151516\n0.026515151515151516\n0.026515151515151516\n0.026515151515151516\n0.026515151515151516\ncurrent_ground_truth_query: 51\ncurrent_ground_truth_query_set: {1920, 2081, 2466, 2752, 1092, 1477, 2821, 1608, 77, 1744, 1105, 1618, 2358, 1623, 985, 2266, 539, 764}\ncurrent_predictions_list: [2752, 2821, 2258, 672, 378, 2682, 2090, 2466, 2017, 526]\n0.05555555555555555\n0.1111111111111111\n0.1111111111111111\n0.1111111111111111\n0.1111111111111111\n0.1111111111111111\n0.1111111111111111\n0.13194444444444445\n0.13194444444444445\n0.13194444444444445\ncurrent_ground_truth_query: 52\ncurrent_ground_truth_query_set: {2049, 133, 520, 2184, 523, 2317, 14, 400, 2579, 1174, 2462, 2209, 162, 930, 1955, 1573, 2086, 2213, 1960, 2339, 810, 2342, 940, 2862, 47, 432, 1714, 2483, 2741, 183, 2617, 570, 1470, 2500, 837, 2888, 1865, 1354, 724, 853, 854, 1492, 1620, 2390, 2520, 1374, 1632, 2656, 1893, 235, 620, 2286, 1904, 755, 1139, 2291, 758, 2169, 2170, 1403, 2046, 1791}\ncurrent_predictions_list: [47, 802, 2286, 1403, 2579, 765, 1337, 461, 2342, 2617]\n0.016129032258064516\n0.016129032258064516\n0.026881720430107524\n0.03897849462365591\n0.05188172043010752\n0.05188172043010752\n0.05188172043010752\n0.05188172043010752\n0.06084229390681003\n0.07051971326164874\ncurrent_ground_truth_query: 53\ncurrent_ground_truth_query_set: {2017, 391, 1832, 2666, 2448, 2161, 2482, 243, 1654, 827, 477, 1631}\ncurrent_predictions_list: [1937, 416, 228, 612, 2159, 1662, 1077, 1882, 1708, 309]\n0.0\n0.0\n0.0\n0.0\n0.0\n0.0\n0.0\n0.0\n0.0\n0.0\ncurrent_ground_truth_query: 54\ncurrent_ground_truth_query_set: {2432, 2561, 773, 1159, 2695, 2825, 1802, 1035, 654, 16, 2193, 1042, 22, 663, 2463, 2208, 1185, 2210, 548, 1319, 425, 1578, 1588, 1716, 1334, 2742, 702, 960, 1088, 707, 1990, 200, 841, 842, 1229, 2766, 1103, 1487, 2388, 2773, 2518, 2782, 2405, 1126, 1512, 363, 2160, 2293, 1782, 1530, 2171, 892, 2814}\ncurrent_predictions_list: [2210, 707, 893, 2208, 857, 2720, 31, 2809, 2123, 2322]\n0.018867924528301886\n0.03773584905660377\n0.03773584905660377\n0.05188679245283019\n0.05188679245283019\n0.05188679245283019\n0.05188679245283019\n0.05188679245283019\n0.05188679245283019\n0.05188679245283019\ncurrent_ground_truth_query: 55\ncurrent_ground_truth_query_set: {417, 1125, 1385, 395, 1195, 1458, 147, 372, 1043, 2294, 2419, 445, 1406}\ncurrent_predictions_list: [395, 2294, 1247, 2143, 2818, 1043, 1406, 854, 1114, 2401]\n0.07692307692307693\n0.15384615384615385\n0.15384615384615385\n0.15384615384615385\n0.15384615384615385\n0.19230769230769232\n0.23626373626373628\n0.23626373626373628\n0.23626373626373628\n0.23626373626373628\ncurrent_ground_truth_query: 56\ncurrent_ground_truth_query_set: {524, 1552, 2838, 2078, 673, 290, 43, 811, 2737, 2354, 2613, 186, 2890, 2381, 1363, 1500, 993, 2661, 2534, 1643, 1134, 2166, 1276, 639}\ncurrent_predictions_list: [186, 381, 559, 2867, 290, 371, 539, 1962, 1583, 2613]\n0.041666666666666664\n0.041666666666666664\n0.041666666666666664\n0.041666666666666664\n0.058333333333333334\n0.058333333333333334\n0.058333333333333334\n0.058333333333333334\n0.058333333333333334\n0.07083333333333333\ncurrent_ground_truth_query: 57\ncurrent_ground_truth_query_set: {2400, 1059, 1124, 485, 486, 1156, 1571, 1701, 586, 1898, 1708, 1681, 1015, 52, 375, 2073, 1789, 766}\ncurrent_predictions_list: [1015, 2814, 1334, 1898, 2212, 142, 643, 93, 1090, 1991]\n0.05555555555555555\n0.05555555555555555\n0.05555555555555555\n0.08333333333333333\n0.08333333333333333\n0.08333333333333333\n0.08333333333333333\n0.08333333333333333\n0.08333333333333333\n0.08333333333333333\ncurrent_ground_truth_query: 58\ncurrent_ground_truth_query_set: {736, 2785, 2541, 2099, 2836, 1720}\ncurrent_predictions_list: [619, 2053, 1603, 1204, 1593, 381, 2276, 1583, 1636, 2490]\n0.0\n0.0\n0.0\n0.0\n0.0\n0.0\n0.0\n0.0\n0.0\n0.0\ncurrent_ground_truth_query: 59\ncurrent_ground_truth_query_set: {1568, 2525, 2310, 775, 903, 1770, 1740, 942, 464, 720, 1886, 1942, 1335, 1913, 571, 957, 30}\ncurrent_predictions_list: [957, 775, 2088, 2047, 1553, 1655, 920, 134, 1946, 1722]\n0.058823529411764705\n0.11764705882352941\n0.11764705882352941\n0.11764705882352941\n0.11764705882352941\n0.11764705882352941\n0.11764705882352941\n0.11764705882352941\n0.11764705882352941\n0.11764705882352941\ncurrent_ground_truth_query: 60\ncurrent_ground_truth_query_set: {2328, 157, 1057, 1839, 1717, 1846, 2743, 695, 1208, 966, 74, 2780, 2653, 604, 2659, 1392, 1395, 1653, 1273}\ncurrent_predictions_list: [2659, 1839, 1029, 1991, 2459, 1022, 1918, 1575, 1381, 1882]\n0.05263157894736842\n0.10526315789473684\n0.10526315789473684\n0.10526315789473684\n0.10526315789473684\n0.10526315789473684\n0.10526315789473684\n0.10526315789473684\n0.10526315789473684\n0.10526315789473684\ncurrent_ground_truth_query: 61\ncurrent_ground_truth_query_set: {2432, 2561, 773, 1159, 2695, 2825, 1802, 1035, 654, 16, 2193, 1042, 22, 663, 2463, 2208, 1185, 2210, 548, 1319, 425, 1578, 1588, 1716, 1334, 2742, 702, 960, 1088, 707, 1990, 200, 841, 842, 1229, 2766, 1103, 1487, 2388, 2773, 2518, 2782, 2405, 1126, 1512, 363, 2160, 2293, 1782, 1530, 2171, 892, 2814}\ncurrent_predictions_list: [2208, 2210, 1159, 857, 2293, 707, 31, 22, 1578, 2193]\n0.018867924528301886\n0.03773584905660377\n0.05660377358490566\n0.05660377358490566\n0.07169811320754717\n0.08742138364779874\n0.08742138364779874\n0.10157232704402515\n0.11624737945492661\n0.13134171907756811\ncurrent_ground_truth_query: 62\ncurrent_ground_truth_query_set: {2177, 2311, 1428, 1812, 921, 2338, 1827, 1199, 1455, 2870, 567, 2487, 2873, 189, 2751, 964, 69, 1881, 1882, 1243, 733, 1119, 2028, 751, 884, 1908, 2676}\ncurrent_predictions_list: [951, 408, 2335, 1128, 1728, 571, 761, 804, 801, 633]\n0.0\n0.0\n0.0\n0.0\n0.0\n0.0\n0.0\n0.0\n0.0\n0.0\ncurrent_ground_truth_query: 63\ncurrent_ground_truth_query_set: {2817, 258, 403, 2069, 1558, 1815, 2839, 1562, 1180, 2335, 801, 1093, 1094, 1104, 2261, 1751, 988, 107, 2037, 1915}\ncurrent_predictions_list: [801, 1180, 2089, 1757, 2037, 1170, 1428, 2404, 629, 1199]\n0.05\n0.1\n0.1\n0.1\n0.13\n0.13\n0.13\n0.13\n0.13\n0.13\ncurrent_ground_truth_query: 64\ncurrent_ground_truth_query_set: {1925, 270, 1678, 1679, 1426, 1554, 2841, 282, 670, 2464, 53, 1987, 848, 1872, 1365, 220, 1129, 1130, 2156, 1146, 1278}\ncurrent_predictions_list: [220, 2352, 2420, 896, 423, 1459, 308, 1365, 627, 384]\n0.047619047619047616\n0.047619047619047616\n0.047619047619047616\n0.047619047619047616\n0.047619047619047616\n0.047619047619047616\n0.047619047619047616\n0.05952380952380952\n0.05952380952380952\n0.05952380952380952\ncurrent_ground_truth_query: 65\ncurrent_ground_truth_query_set: {577, 101, 40, 2762, 1551, 783, 2000, 2361}\ncurrent_predictions_list: [1551, 2000, 101, 40, 2689, 1314, 2224, 2542, 1536, 313]\n0.125\n0.25\n0.375\n0.5\n0.5\n0.5\n0.5\n0.5\n0.5\n0.5\ncurrent_ground_truth_query: 66\ncurrent_ground_truth_query_set: {2562, 643, 2823, 1418, 11, 2186, 2191, 1702, 424, 1592, 2619, 2492, 2366, 66, 325, 458, 2127, 2392, 347, 228, 2416, 499, 1651, 1017}\ncurrent_predictions_list: [1592, 325, 649, 2232, 2392, 1240, 2186, 2727, 615, 1871]\n0.041666666666666664\n0.08333333333333333\n0.08333333333333333\n0.08333333333333333\n0.10833333333333332\n0.10833333333333332\n0.13214285714285712\n0.13214285714285712\n0.13214285714285712\n0.13214285714285712\ncurrent_ground_truth_query: 67\ncurrent_ground_truth_query_set: {394, 144, 2707, 2461, 2596, 1581, 431, 952, 2877, 581, 2129, 339, 2645, 1757, 2402, 2789, 1768, 500, 2808, 127, 1535}\ncurrent_predictions_list: [500, 616, 1366, 37, 194, 1935, 393, 1611, 1017, 151]\n0.047619047619047616\n0.047619047619047616\n0.047619047619047616\n0.047619047619047616\n0.047619047619047616\n0.047619047619047616\n0.047619047619047616\n0.047619047619047616\n0.047619047619047616\n0.047619047619047616\ncurrent_ground_truth_query: 68\ncurrent_ground_truth_query_set: {2177, 2311, 1428, 1812, 921, 2338, 1827, 1199, 1455, 2870, 567, 2487, 2873, 189, 2751, 964, 69, 1881, 1882, 1243, 733, 1119, 2028, 751, 884, 1908, 2676}\ncurrent_predictions_list: [733, 2873, 2870, 1180, 1882, 528, 171, 1991, 2261, 2459]\n0.037037037037037035\n0.07407407407407407\n0.1111111111111111\n0.1111111111111111\n0.14074074074074072\n0.14074074074074072\n0.14074074074074072\n0.14074074074074072\n0.14074074074074072\n0.14074074074074072\ncurrent_ground_truth_query: 69\ncurrent_ground_truth_query_set: {224, 226, 1667, 677, 102, 106, 2283, 2442, 877, 48, 657, 946, 1361, 1044, 1685, 1078, 2484, 2621}\ncurrent_predictions_list: [217, 2421, 609, 224, 636, 2031, 1803, 2053, 1296, 2434]\n0.0\n0.0\n0.0\n0.013888888888888888\n0.013888888888888888\n0.013888888888888888\n0.013888888888888888\n0.013888888888888888\n0.013888888888888888\n0.013888888888888888\ncurrent_ground_truth_query: 70\ncurrent_ground_truth_query_set: {2688, 1090, 3, 1763, 1285, 1606, 2602, 684, 1998, 498, 211, 538}\ncurrent_predictions_list: [1001, 2347, 2299, 2535, 2504, 941, 1479, 1736, 2202, 2847]\n0.0\n0.0\n0.0\n0.0\n0.0\n0.0\n0.0\n0.0\n0.0\n0.0\ncurrent_ground_truth_query: 71\ncurrent_ground_truth_query_set: {1665, 637, 910, 527, 409, 2713, 2080, 2726, 1326, 1587, 54, 696, 2251, 2764, 79, 345, 1501, 2277, 748, 1784, 1149, 2302, 1023}\ncurrent_predictions_list: [2277, 637, 2123, 2404, 71, 2250, 31, 767, 1059, 2889]\n0.043478260869565216\n0.08695652173913043\n0.08695652173913043\n0.08695652173913043\n0.08695652173913043\n0.08695652173913043\n0.08695652173913043\n0.08695652173913043\n0.08695652173913043\n0.08695652173913043\ncurrent_ground_truth_query: 72\ncurrent_ground_truth_query_set: {2328, 157, 1057, 1839, 1717, 1846, 2743, 695, 1208, 966, 74, 2780, 2653, 604, 2659, 1392, 1395, 1653, 1273}\ncurrent_predictions_list: [1975, 247, 695, 5, 2161, 348, 1570, 1498, 1693, 1466]\n0.0\n0.0\n0.017543859649122806\n0.017543859649122806\n0.017543859649122806\n0.017543859649122806\n0.017543859649122806\n0.017543859649122806\n0.017543859649122806\n0.017543859649122806\ncurrent_ground_truth_query: 73\ncurrent_ground_truth_query_set: {2755, 1510, 327, 2568, 2600, 1067, 1196, 397, 1549, 2060, 1457, 2353, 2547, 953, 1948}\ncurrent_predictions_list: [1948, 327, 2096, 775, 696, 1611, 748, 1100, 2530, 858]\n0.06666666666666667\n0.13333333333333333\n0.13333333333333333\n0.13333333333333333\n0.13333333333333333\n0.13333333333333333\n0.13333333333333333\n0.13333333333333333\n0.13333333333333333\n0.13333333333333333\ncurrent_ground_truth_query: 74\ncurrent_ground_truth_query_set: {289, 130, 965, 678, 774, 2217, 2570, 2636, 717, 2158, 401, 1425, 55, 2231, 1851, 1916, 2685, 991}\ncurrent_predictions_list: [55, 130, 2742, 284, 976, 1442, 781, 1685, 678, 2463]\n0.05555555555555555\n0.1111111111111111\n0.1111111111111111\n0.1111111111111111\n0.1111111111111111\n0.1111111111111111\n0.1111111111111111\n0.1111111111111111\n0.12962962962962962\n0.12962962962962962\ncurrent_ground_truth_query: 75\ncurrent_ground_truth_query_set: {353, 1060, 167, 2440, 426, 1002, 1484, 2477, 1870, 2616, 1712, 2226, 950, 1527, 1560, 190}\ncurrent_predictions_list: [1560, 794, 2440, 1527, 2469, 276, 1372, 1567, 2107, 1159]\n0.0625\n0.0625\n0.10416666666666666\n0.15104166666666666\n0.15104166666666666\n0.15104166666666666\n0.15104166666666666\n0.15104166666666666\n0.15104166666666666\n0.15104166666666666\ncurrent_ground_truth_query: 76\ncurrent_ground_truth_query_set: {518, 137, 2584, 537, 1564, 31, 1324, 1200, 1341, 453, 839, 2635, 340, 2006, 738, 1764, 2537, 1900, 114, 2292, 1909, 378, 124}\ncurrent_predictions_list: [2411, 134, 732, 51, 274, 2515, 1947, 2193, 2167, 1949]\n0.0\n0.0\n0.0\n0.0\n0.0\n0.0\n0.0\n0.0\n0.0\n0.0\ncurrent_ground_truth_query: 77\ncurrent_ground_truth_query_set: {1808, 19, 1306, 1819, 413, 2214, 553, 2298, 1710, 1838, 2618, 1086, 2110, 1602, 840, 1738, 1100, 1871, 1489, 2517, 2524, 2790, 1648, 1906, 1402, 1150}\ncurrent_predictions_list: [1100, 2886, 1819, 1710, 920, 345, 2513, 1382, 1266, 1494]\n0.038461538461538464\n0.038461538461538464\n0.0641025641025641\n0.09294871794871795\n0.09294871794871795\n0.09294871794871795\n0.09294871794871795\n0.09294871794871795\n0.09294871794871795\n0.09294871794871795\ncurrent_ground_truth_query: 78\ncurrent_ground_truth_query_set: {2048, 99, 2181, 1896, 1994, 1431, 1823}\ncurrent_predictions_list: [1994, 2551, 2088, 571, 2815, 871, 1246, 2107, 1507, 2530]\n0.14285714285714285\n0.14285714285714285\n0.14285714285714285\n0.14285714285714285\n0.14285714285714285\n0.14285714285714285\n0.14285714285714285\n0.14285714285714285\n0.14285714285714285\n0.14285714285714285\ncurrent_ground_truth_query: 79\ncurrent_ground_truth_query_set: {512, 257, 1927, 1801, 2316, 18, 1427, 1682, 924, 423, 2859, 2348, 819, 2498, 2246, 334, 2382, 338, 2269, 864, 1767, 234, 1771, 883, 1270, 2686}\ncurrent_predictions_list: [2269, 2859, 1937, 1777, 536, 1328, 2503, 382, 1030, 1748]\n0.038461538461538464\n0.07692307692307693\n0.07692307692307693\n0.07692307692307693\n0.07692307692307693\n0.07692307692307693\n0.07692307692307693\n0.07692307692307693\n0.07692307692307693\n0.07692307692307693\ncurrent_ground_truth_query: 80\ncurrent_ground_truth_query_set: {2432, 2561, 773, 1159, 2695, 2825, 1802, 1035, 654, 16, 2193, 1042, 22, 663, 2463, 2208, 1185, 2210, 548, 1319, 425, 1578, 1588, 1716, 1334, 2742, 702, 960, 1088, 707, 1990, 200, 841, 842, 1229, 2766, 1103, 1487, 2388, 2773, 2518, 2782, 2405, 1126, 1512, 363, 2160, 2293, 1782, 1530, 2171, 892, 2814}\ncurrent_predictions_list: [2766, 1185, 1802, 2732, 2814, 203, 171, 1631, 1122, 756]\n0.018867924528301886\n0.03773584905660377\n0.05660377358490566\n0.05660377358490566\n0.07169811320754717\n0.07169811320754717\n0.07169811320754717\n0.07169811320754717\n0.07169811320754717\n0.07169811320754717\ncurrent_ground_truth_query: 81\ncurrent_ground_truth_query_set: {32, 355, 1636, 230, 1019, 1894, 1926, 1338, 1518, 1616, 1937, 725, 86, 410, 667, 1820, 2493, 2622}\ncurrent_predictions_list: [2622, 1636, 559, 86, 2009, 1820, 1853, 1583, 2053, 2078]\n0.05555555555555555\n0.1111111111111111\n0.1111111111111111\n0.15277777777777776\n0.15277777777777776\n0.1898148148148148\n0.1898148148148148\n0.1898148148148148\n0.1898148148148148\n0.1898148148148148\ncurrent_ground_truth_query: 82\ncurrent_ground_truth_query_set: {1793, 1058, 291, 2532, 487, 1160, 2279, 236, 272, 2289, 2384, 595, 2800, 1269, 2295, 1016}\ncurrent_predictions_list: [2238, 224, 1686, 2473, 1056, 1448, 987, 2160, 2757, 1863]\n0.0\n0.0\n0.0\n0.0\n0.0\n0.0\n0.0\n0.0\n0.0\n0.0\ncurrent_ground_truth_query: 83\ncurrent_ground_truth_query_set: {513, 2050, 2447, 2199, 927, 2850, 293, 1318, 1958, 2471, 2601, 429, 2223, 1841, 2103, 1989, 330, 1482, 78, 2511, 2003, 215, 2391, 89, 2013, 98, 1637, 108, 1021}\ncurrent_predictions_list: [1934, 705, 206, 1318, 1025, 2588, 1836, 1562, 984, 471]\n0.0\n0.0\n0.0\n0.008620689655172414\n0.008620689655172414\n0.008620689655172414\n0.008620689655172414\n0.008620689655172414\n0.008620689655172414\n0.008620689655172414\ncurrent_ground_truth_query: 84\ncurrent_ground_truth_query_set: {1539, 2309, 1158, 1799, 2575, 913, 1938, 1811, 1688, 25, 2457, 29, 1957, 2853, 2856, 1449, 2731, 563, 1332, 1986, 1239, 1625, 1250, 2019, 1261, 2030, 2033, 510, 1279}\ncurrent_predictions_list: [563, 1957, 1578, 1442, 1861, 1453, 2575, 805, 482, 25]\n0.034482758620689655\n0.06896551724137931\n0.06896551724137931\n0.06896551724137931\n0.06896551724137931\n0.06896551724137931\n0.08374384236453201\n0.08374384236453201\n0.08374384236453201\n0.09753694581280788\ncurrent_ground_truth_query: 85\ncurrent_ground_truth_query_set: {1167, 1657, 2453, 1434, 2337, 1188, 806, 1192, 298, 1327, 1585, 1971, 823, 2615, 2625, 75, 722, 1874, 2644, 1879, 2406, 1526, 1785, 2683}\ncurrent_predictions_list: [1657, 2337, 1375, 1227, 1471, 1158, 1579, 1252, 823, 741]\n0.041666666666666664\n0.08333333333333333\n0.08333333333333333\n0.08333333333333333\n0.08333333333333333\n0.08333333333333333\n0.08333333333333333\n0.08333333333333333\n0.09722222222222221\n0.09722222222222221\ncurrent_ground_truth_query: 86\ncurrent_ground_truth_query_set: {2816, 836, 295, 2760, 587, 172, 2478, 623, 1039, 1436, 1114, 2075, 1404}\ncurrent_predictions_list: [623, 1039, 380, 1497, 1647, 2600, 172, 292, 2760, 809]\n0.07692307692307693\n0.15384615384615385\n0.15384615384615385\n0.15384615384615385\n0.15384615384615385\n0.15384615384615385\n0.18681318681318682\n0.18681318681318682\n0.221001221001221\n0.221001221001221\ncurrent_ground_truth_query: 87\ncurrent_ground_truth_query_set: {1890, 2083, 900, 1591, 2115, 1639, 719, 1202, 532, 1594, 855, 1624, 281, 218, 859, 2812, 669, 2494}\ncurrent_predictions_list: [5, 766, 1079, 2523, 2474, 31, 542, 719, 1206, 2191]\n0.0\n0.0\n0.0\n0.0\n0.0\n0.0\n0.0\n0.006944444444444444\n0.006944444444444444\n0.006944444444444444\ncurrent_ground_truth_query: 88\ncurrent_ground_truth_query_set: {1377, 898, 835, 996, 1314, 1923, 967, 2087, 169, 938, 1066, 1417, 1705, 2829, 850, 2885, 2845, 2398}\ncurrent_predictions_list: [1029, 875, 1882, 711, 1078, 2284, 2459, 865, 1725, 171]\n0.0\n0.0\n0.0\n0.0\n0.0\n0.0\n0.0\n0.0\n0.0\n0.0\ncurrent_ground_truth_query: 89\ncurrent_ground_truth_query_set: {1959, 1630, 1485, 2681, 628, 693, 406, 2326, 2105, 923, 254, 1663}\ncurrent_predictions_list: [406, 1959, 256, 1179, 1677, 1967, 2536, 504, 2018, 675]\n0.08333333333333333\n0.16666666666666666\n0.16666666666666666\n0.16666666666666666\n0.16666666666666666\n0.16666666666666666\n0.16666666666666666\n0.16666666666666666\n0.16666666666666666\n0.16666666666666666\ncurrent_ground_truth_query: 90\ncurrent_ground_truth_query_set: {609, 294, 1673, 2857, 750, 1368, 93}\ncurrent_predictions_list: [2051, 2825, 1451, 1906, 651, 664, 17, 1895, 5, 2206]\n0.0\n0.0\n0.0\n0.0\n0.0\n0.0\n0.0\n0.0\n0.0\n0.0\ncurrent_ground_truth_query: 91\ncurrent_ground_truth_query_set: {1795, 644, 1683, 1177, 2203, 1566, 1439, 178, 2104, 710, 2630, 1099, 83, 1619, 225, 1761, 229, 2548, 1018, 1661}\ncurrent_predictions_list: [2203, 2104, 178, 171, 1439, 1305, 1619, 1725, 284, 644]\n0.05\n0.1\n0.15000000000000002\n0.15000000000000002\n0.19000000000000003\n0.19000000000000003\n0.22571428571428576\n0.22571428571428576\n0.22571428571428576\n0.2557142857142858\ncurrent_ground_truth_query: 92\ncurrent_ground_truth_query_set: {2435, 646, 1671, 1546, 143, 1553, 21, 2840, 1311, 1197, 2872, 1471, 706, 2506, 1375, 876, 1260, 626, 1650, 120}\ncurrent_predictions_list: [2435, 2141, 502, 1671, 616, 1260, 1290, 601, 2073, 2120]\n0.05\n0.05\n0.05\n0.07500000000000001\n0.07500000000000001\n0.1\n0.1\n0.1\n0.1\n0.1\ncurrent_ground_truth_query: 93\ncurrent_ground_truth_query_set: {770, 776, 656, 658, 920, 799, 2212, 2085, 1574, 2866, 2869, 1465, 2109, 1725, 2120, 2767, 1880, 2650, 1754, 1123, 743, 2024}\ncurrent_predictions_list: [1754, 2767, 2501, 58, 1170, 2024, 1329, 1068, 224, 1484]\n0.045454545454545456\n0.09090909090909091\n0.09090909090909091\n0.09090909090909091\n0.09090909090909091\n0.11363636363636365\n0.11363636363636365\n0.11363636363636365\n0.11363636363636365\n0.11363636363636365\ncurrent_ground_truth_query: 94\ncurrent_ground_truth_query_set: {260, 779, 1940, 149, 1050, 26, 797, 1186, 2084, 2476, 443, 1213, 2113, 963, 2887, 1355, 460, 2763, 978, 2260, 735, 366}\ncurrent_predictions_list: [1940, 2322, 366, 418, 582, 2764, 2260, 2529, 2786, 2502]\n0.045454545454545456\n0.045454545454545456\n0.07575757575757576\n0.07575757575757576\n0.07575757575757576\n0.07575757575757576\n0.09523809523809523\n0.09523809523809523\n0.09523809523809523\n0.09523809523809523\ncurrent_ground_truth_query: 95\ncurrent_ground_truth_query_set: {2179, 2308, 873, 1263, 1435, 1020, 1087}\ncurrent_predictions_list: [1020, 2715, 429, 2308, 612, 2403, 1070, 2090, 2870, 2407]\n0.14285714285714285\n0.14285714285714285\n0.14285714285714285\n0.21428571428571427\n0.21428571428571427\n0.21428571428571427\n0.21428571428571427\n0.21428571428571427\n0.21428571428571427\n0.21428571428571427\ncurrent_ground_truth_query: 96\ncurrent_ground_truth_query_set: {2436, 1419, 2320, 2581, 2076, 2594, 1193, 1463, 2747, 2748, 2369, 2627, 198, 1746, 2522, 96, 1256, 2034, 374, 633}\ncurrent_predictions_list: [612, 2195, 2407, 1111, 890, 2718, 1617, 1985, 1746, 1660]\n0.0\n0.0\n0.0\n0.0\n0.0\n0.0\n0.0\n0.0\n0.005555555555555556\n0.005555555555555556\ncurrent_ground_truth_query: 97\ncurrent_ground_truth_query_set: {2755, 1510, 327, 2568, 2600, 1067, 1196, 397, 1549, 2060, 1457, 2353, 2547, 953, 1948}\ncurrent_predictions_list: [327, 1948, 2086, 2656, 1893, 1385, 858, 940, 523, 417]\n0.06666666666666667\n0.13333333333333333\n0.13333333333333333\n0.13333333333333333\n0.13333333333333333\n0.13333333333333333\n0.13333333333333333\n0.13333333333333333\n0.13333333333333333\n0.13333333333333333\ncurrent_ground_truth_query: 98\ncurrent_ground_truth_query_set: {1568, 2525, 2310, 775, 903, 1770, 1740, 942, 464, 720, 1886, 1942, 1335, 1913, 571, 957, 30}\ncurrent_predictions_list: [1740, 1568, 2525, 720, 1849, 2768, 2185, 2310, 958, 1298]\n0.058823529411764705\n0.11764705882352941\n0.1764705882352941\n0.23529411764705882\n0.23529411764705882\n0.23529411764705882\n0.23529411764705882\n0.27205882352941174\n0.27205882352941174\n0.27205882352941174\ncurrent_ground_truth_query: 99\ncurrent_ground_truth_query_set: {1795, 644, 1683, 1177, 2203, 1566, 1439, 178, 2104, 710, 2630, 1099, 83, 1619, 225, 1761, 229, 2548, 1018, 1661}\ncurrent_predictions_list: [1099, 1404, 1566, 345, 1966, 2365, 880, 2760, 122, 2699]\n0.05\n0.05\n0.08333333333333334\n0.08333333333333334\n0.08333333333333334\n0.08333333333333334\n0.08333333333333334\n0.08333333333333334\n0.08333333333333334\n0.08333333333333334\ncurrent_ground_truth_query: 100\ncurrent_ground_truth_query_set: {769, 131, 2563, 1416, 1932, 909, 1556, 2325, 2198, 1563, 27, 2593, 2082, 1187, 2343, 1333, 1612, 590, 975, 2131, 216, 857, 1503, 2786, 358, 1521, 2680}\ncurrent_predictions_list: [131, 909, 1612, 2135, 2561, 1333, 2042, 2198, 857, 27]\n0.037037037037037035\n0.07407407407407407\n0.1111111111111111\n0.1111111111111111\n0.1111111111111111\n0.13580246913580246\n0.13580246913580246\n0.1589506172839506\n0.18364197530864196\n0.20956790123456787\ncurrent_ground_truth_query: 101\ncurrent_ground_truth_query_set: {1859, 740, 2056, 969, 459, 2639, 2481, 818, 914, 1173, 57, 698}\ncurrent_predictions_list: [459, 2481, 46, 1605, 1283, 2384, 272, 971, 2289, 1495]\n0.08333333333333333\n0.16666666666666666\n0.16666666666666666\n0.16666666666666666\n0.16666666666666666\n0.16666666666666666\n0.16666666666666666\n0.16666666666666666\n0.16666666666666666\n0.16666666666666666\ncurrent_ground_truth_query: 102\ncurrent_ground_truth_query_set: {961, 2371, 2247, 2185, 10, 1356, 2157, 2669, 2643, 436, 1781, 316}\ncurrent_predictions_list: [2247, 10, 2670, 1658, 2371, 1507, 1781, 2508, 436, 1246]\n0.08333333333333333\n0.16666666666666666\n0.16666666666666666\n0.16666666666666666\n0.21666666666666665\n0.21666666666666665\n0.26428571428571423\n0.26428571428571423\n0.3105820105820105\n0.3105820105820105\ncurrent_ground_truth_query: 103\ncurrent_ground_truth_query_set: {2057, 2831, 530, 2454, 540, 1454, 2352, 1205, 1206, 1847, 442, 2556, 2620, 1600, 1856, 1474, 2497, 972, 981, 1122, 613, 742, 2796, 1390, 1660, 382}\ncurrent_predictions_list: [2831, 2594, 2454, 1600, 1875, 1001, 478, 1746, 2511, 2449]\n0.038461538461538464\n0.038461538461538464\n0.0641025641025641\n0.09294871794871795\n0.09294871794871795\n0.09294871794871795\n0.09294871794871795\n0.09294871794871795\n0.09294871794871795\n0.09294871794871795\ncurrent_ground_truth_query: 104\ncurrent_ground_truth_query_set: {1028, 1284, 1030, 2059, 2074, 2220, 1583, 1969, 1461, 2368, 716, 2510, 2132, 987, 1251, 2787, 2668, 1645, 2542, 1268, 887}\ncurrent_predictions_list: [979, 1895, 255, 2003, 206, 1525, 2787, 3, 1290, 2429]\n0.0\n0.0\n0.0\n0.0\n0.0\n0.0\n0.006802721088435373\n0.006802721088435373\n0.006802721088435373\n0.006802721088435373\ncurrent_ground_truth_query: 105\ncurrent_ground_truth_query_set: {1984, 2240, 482, 163, 1218, 2051, 2281, 2474, 2155, 915, 249, 2394, 1627, 990, 1118}\ncurrent_predictions_list: [2394, 1188, 2858, 2155, 1647, 1117, 1264, 1192, 704, 990]\n0.06666666666666667\n0.06666666666666667\n0.06666666666666667\n0.1\n0.1\n0.1\n0.1\n0.1\n0.1\n0.12000000000000001\ncurrent_ground_truth_query: 106\ncurrent_ground_truth_query_set: {901, 2566, 665, 2334, 168, 812, 1853, 1599, 448, 63, 68, 2629, 202, 1996, 1741, 2380, 80, 2137, 2015, 1249, 1762, 746, 2287, 2546, 503, 1528}\ncurrent_predictions_list: [168, 2156, 198, 2627, 1771, 2380, 1062, 1979, 1998, 2639]\n0.038461538461538464\n0.038461538461538464\n0.038461538461538464\n0.038461538461538464\n0.038461538461538464\n0.05128205128205128\n0.05128205128205128\n0.05128205128205128\n0.05128205128205128\n0.05128205128205128\ncurrent_ground_truth_query: 107\ncurrent_ground_truth_query_set: {1542, 1493, 342, 2396, 925, 1407}\ncurrent_predictions_list: [1493, 249, 1254, 1801, 330, 2349, 2402, 1542, 655, 1627]\n0.16666666666666666\n0.16666666666666666\n0.16666666666666666\n0.16666666666666666\n0.16666666666666666\n0.16666666666666666\n0.16666666666666666\n0.20833333333333331\n0.20833333333333331\n0.20833333333333331\ncurrent_ground_truth_query: 108\ncurrent_ground_truth_query_set: {484, 1834, 2580, 277, 2646, 860, 1151}\ncurrent_predictions_list: [2358, 1151, 2239, 747, 328, 450, 2192, 966, 1749, 1062]\n0.0\n0.07142857142857142\n0.07142857142857142\n0.07142857142857142\n0.07142857142857142\n0.07142857142857142\n0.07142857142857142\n0.07142857142857142\n0.07142857142857142\n0.07142857142857142\ncurrent_ground_truth_query: 109\ncurrent_ground_truth_query_set: {2528, 2147, 1765, 2590, 905, 1963, 2284, 494, 531, 341, 2039, 1112, 700, 1053, 638}\ncurrent_predictions_list: [228, 1478, 989, 126, 1951, 875, 269, 2598, 871, 327]\n0.0\n0.0\n0.0\n0.0\n0.0\n0.0\n0.0\n0.0\n0.0\n0.0\ncurrent_ground_truth_query: 110\ncurrent_ground_truth_query_set: {2437, 2182, 1161, 650, 1170, 1172, 795, 416, 546, 1703, 2350, 2235, 321, 451, 580, 1096, 332, 1359, 480, 2791, 1259, 879, 368, 1007, 1010, 2799, 1145, 1533}\ncurrent_predictions_list: [1010, 418, 2220, 224, 2322, 2701, 566, 1937, 2235, 1703]\n0.03571428571428571\n0.03571428571428571\n0.03571428571428571\n0.03571428571428571\n0.03571428571428571\n0.03571428571428571\n0.03571428571428571\n0.03571428571428571\n0.04365079365079365\n0.05436507936507936\ncurrent_ground_truth_query: 111\ncurrent_ground_truth_query_set: {1026, 645, 649, 15, 1941, 161, 2727, 2728, 2858, 299, 2865, 1079, 1227, 2641, 1750, 1379, 1254, 2026, 367, 2415, 119, 123, 1277}\ncurrent_predictions_list: [1254, 123, 2490, 1277, 2053, 1583, 381, 2728, 619, 636]\n0.043478260869565216\n0.08695652173913043\n0.08695652173913043\n0.11956521739130435\n0.11956521739130435\n0.11956521739130435\n0.11956521739130435\n0.14130434782608697\n0.14130434782608697\n0.14130434782608697\ncurrent_ground_truth_query: 112\ncurrent_ground_truth_query_set: {2567, 2837, 1049, 2202, 1437, 547, 296, 808, 2480, 2233, 2491, 2881, 1095, 2631, 849, 728, 2145, 357, 874, 2794, 492, 753, 2162}\ncurrent_predictions_list: [2881, 2162, 1049, 2316, 2567, 849, 1576, 517, 168, 2697]\n0.043478260869565216\n0.08695652173913043\n0.13043478260869565\n0.13043478260869565\n0.16521739130434782\n0.20144927536231882\n0.20144927536231882\n0.20144927536231882\n0.20144927536231882\n0.20144927536231882\ncurrent_ground_truth_query: 113\ncurrent_ground_truth_query_set: {1217, 676, 2468, 233, 138, 2828, 1165, 1357, 177, 2321, 1843, 1721, 1852, 2142}\ncurrent_predictions_list: [2828, 233, 138, 1664, 1217, 676, 1905, 2161, 540, 2180]\n0.07142857142857142\n0.14285714285714285\n0.21428571428571427\n0.21428571428571427\n0.2714285714285714\n0.33095238095238094\n0.33095238095238094\n0.33095238095238094\n0.33095238095238094\n0.33095238095238094\ncurrent_ground_truth_query: 114\ncurrent_ground_truth_query_set: {195, 1032, 747, 1964, 781, 1550, 1107, 1366, 2333}\ncurrent_predictions_list: [2490, 135, 2476, 224, 1460, 1294, 1603, 586, 1770, 2201]\n0.0\n0.0\n0.0\n0.0\n0.0\n0.0\n0.0\n0.0\n0.0\n0.0\ncurrent_ground_truth_query: 115\ncurrent_ground_truth_query_set: {1167, 1657, 2453, 1434, 2337, 1188, 806, 1192, 298, 1327, 1585, 1971, 823, 2615, 2625, 75, 722, 1874, 2644, 1879, 2406, 1526, 1785, 2683}\ncurrent_predictions_list: [1188, 482, 1585, 2453, 26, 2138, 1698, 341, 811, 1537]\n0.041666666666666664\n0.041666666666666664\n0.06944444444444445\n0.10069444444444445\n0.10069444444444445\n0.10069444444444445\n0.10069444444444445\n0.10069444444444445\n0.10069444444444445\n0.10069444444444445\ncurrent_ground_truth_query: 116\ncurrent_ground_truth_query_set: {518, 137, 2584, 537, 1564, 31, 1324, 1200, 1341, 453, 839, 2635, 340, 2006, 738, 1764, 2537, 1900, 114, 2292, 1909, 378, 124}\ncurrent_predictions_list: [137, 51, 2411, 124, 2337, 207, 1042, 1655, 2229, 738]\n0.043478260869565216\n0.043478260869565216\n0.043478260869565216\n0.06521739130434782\n0.06521739130434782\n0.06521739130434782\n0.06521739130434782\n0.06521739130434782\n0.06521739130434782\n0.07826086956521738\ncurrent_ground_truth_query: 117\ncurrent_ground_truth_query_set: {1037, 918, 2330, 1569, 1825, 166, 1584, 2882, 2374, 973, 2895, 1617, 851, 1108, 2403, 869, 103, 381, 2045}\ncurrent_predictions_list: [1366, 92, 616, 605, 37, 1935, 1083, 1611, 2065, 1829]\n0.0\n0.0\n0.0\n0.0\n0.0\n0.0\n0.0\n0.0\n0.0\n0.0\ncurrent_ground_truth_query: 118\ncurrent_ground_truth_query_set: {260, 779, 1940, 149, 1050, 26, 797, 1186, 2084, 2476, 443, 1213, 2113, 963, 2887, 1355, 460, 2763, 978, 2260, 735, 366}\ncurrent_predictions_list: [1940, 2463, 446, 2451, 425, 2386, 2765, 2547, 2145, 418]\n0.045454545454545456\n0.045454545454545456\n0.045454545454545456\n0.045454545454545456\n0.045454545454545456\n0.045454545454545456\n0.045454545454545456\n0.045454545454545456\n0.045454545454545456\n0.045454545454545456\ncurrent_ground_truth_query: 119\ncurrent_ground_truth_query_set: {1121, 1410, 2117, 2089, 1899, 495, 2740, 501, 1113, 922, 2555, 1692}\ncurrent_predictions_list: [498, 605, 1121, 1223, 1600, 122, 246, 2650, 1002, 345]\n0.0\n0.0\n0.027777777777777776\n0.027777777777777776\n0.027777777777777776\n0.027777777777777776\n0.027777777777777776\n0.027777777777777776\n0.027777777777777776\n0.027777777777777776\ncurrent_ground_truth_query: 120\ncurrent_ground_truth_query_set: {64, 256, 2016, 2340, 2536, 1353, 1677, 1967, 1968, 466, 1106, 308, 2582, 1468, 2718, 287}\ncurrent_predictions_list: [1771, 1726, 1863, 1682, 485, 2842, 1859, 1449, 1283, 1510]\n0.0\n0.0\n0.0\n0.0\n0.0\n0.0\n0.0\n0.0\n0.0\n0.0\ncurrent_ground_truth_query: 121\ncurrent_ground_truth_query_set: {2304, 551, 618, 2513, 1300, 692, 1814, 2421, 2425, 2876, 1085, 1694}\ncurrent_predictions_list: [641, 682, 1181, 1228, 1394, 1930, 2299, 656, 2304, 2013]\n0.0\n0.0\n0.0\n0.0\n0.0\n0.0\n0.0\n0.0\n0.009259259259259259\n0.009259259259259259\ncurrent_ground_truth_query: 122\ncurrent_ground_truth_query_set: {2660, 2252, 2126, 1593, 2225, 2355, 1973, 2710, 505, 159}\ncurrent_predictions_list: [2252, 182, 159, 1593, 505, 636, 2355, 56, 2710, 2031]\n0.1\n0.1\n0.16666666666666669\n0.2416666666666667\n0.3216666666666667\n0.3216666666666667\n0.39309523809523816\n0.39309523809523816\n0.4597619047619048\n0.4597619047619048\ncurrent_ground_truth_query: 123\ncurrent_ground_truth_query_set: {1153, 1698, 2583, 679, 1003, 588, 2228, 2357, 1143, 1656, 2139, 2047}\ncurrent_predictions_list: [2583, 2335, 2459, 245, 2357, 2143, 2557, 1656, 2889, 1792]\n0.08333333333333333\n0.08333333333333333\n0.08333333333333333\n0.08333333333333333\n0.11666666666666667\n0.11666666666666667\n0.11666666666666667\n0.14791666666666667\n0.14791666666666667\n0.14791666666666667\ncurrent_ground_truth_query: 124\ncurrent_ground_truth_query_set: {1216, 2149, 2278, 7, 1576, 1483, 2540, 1901, 1981, 1362, 2195, 2774, 632, 1401, 603, 1469, 2687}\ncurrent_predictions_list: [597, 1598, 1290, 2435, 1836, 388, 1239, 1611, 2442, 2648]\n0.0\n0.0\n0.0\n0.0\n0.0\n0.0\n0.0\n0.0\n0.0\n0.0\ncurrent_ground_truth_query: 125\ncurrent_ground_truth_query_set: {1281, 1803, 526, 1939, 2067, 2072, 2077, 2720, 1443, 680, 2473, 1855, 576, 1349, 2757, 2123, 463, 335, 1236, 1877, 343, 2655, 105, 244, 2422}\ncurrent_predictions_list: [1236, 2067, 1939, 2072, 1991, 1862, 1349, 762, 335, 463]\n0.04\n0.08\n0.12\n0.16\n0.16\n0.16\n0.18857142857142858\n0.18857142857142858\n0.21523809523809526\n0.24323809523809525\ncurrent_ground_truth_query: 126\ncurrent_ground_truth_query_set: {2049, 133, 520, 2184, 523, 2317, 14, 400, 2579, 1174, 2462, 2209, 162, 930, 1955, 1573, 2086, 2213, 1960, 2339, 810, 2342, 940, 2862, 47, 432, 1714, 2483, 2741, 183, 2617, 570, 1470, 2500, 837, 2888, 1865, 1354, 724, 853, 854, 1492, 1620, 2390, 2520, 1374, 1632, 2656, 1893, 235, 620, 2286, 1904, 755, 1139, 2291, 758, 2169, 2170, 1403, 2046, 1791}\ncurrent_predictions_list: [1470, 2741, 1960, 1893, 2086, 1632, 2888, 1354, 620, 235]\n0.016129032258064516\n0.03225806451612903\n0.04838709677419355\n0.06451612903225806\n0.08064516129032258\n0.0967741935483871\n0.11290322580645161\n0.12903225806451613\n0.14516129032258063\n0.16129032258064513\ncurrent_ground_truth_query: 127\ncurrent_ground_truth_query_set: {2690, 1670, 2183, 1036, 2445, 2451, 796, 284, 672, 1961, 2733, 1209, 2108, 2365, 1982, 986, 1245, 95, 1505, 995, 1644, 1647, 1903, 1912, 2175}\ncurrent_predictions_list: [1982, 2198, 1837, 461, 1204, 2812, 252, 1162, 999, 2301]\n0.04\n0.04\n0.04\n0.04\n0.04\n0.04\n0.04\n0.04\n0.04\n0.04\ncurrent_ground_truth_query: 128\ncurrent_ground_truth_query_set: {1920, 2081, 2466, 2752, 1092, 1477, 2821, 1608, 77, 1744, 1105, 1618, 2358, 1623, 985, 2266, 539, 764}\ncurrent_predictions_list: [1920, 1287, 978, 2138, 1620, 2668, 1477, 2161, 2128, 1681]\n0.05555555555555555\n0.05555555555555555\n0.05555555555555555\n0.05555555555555555\n0.05555555555555555\n0.05555555555555555\n0.07142857142857142\n0.07142857142857142\n0.07142857142857142\n0.07142857142857142\ncurrent_ground_truth_query: 129\ncurrent_ground_truth_query_set: {132, 2565, 2571, 2188, 2070, 800, 1697, 179, 1476, 2886, 2632, 2253, 2254, 1491, 2004, 599, 2264, 352, 2663, 1513, 1517, 1787}\ncurrent_predictions_list: [637, 1310, 2003, 2404, 22, 1297, 1525, 247, 2632, 2021]\n0.0\n0.0\n0.0\n0.0\n0.0\n0.0\n0.0\n0.0\n0.00505050505050505\n0.00505050505050505\ncurrent_ground_truth_query: 130\ncurrent_ground_truth_query_set: {1728, 2241, 2854, 1452, 399, 886, 822}\ncurrent_predictions_list: [609, 342, 2201, 2160, 2792, 371, 2421, 2031, 217, 1204]\n0.0\n0.0\n0.0\n0.0\n0.0\n0.0\n0.0\n0.0\n0.0\n0.0\ncurrent_ground_truth_query: 131\ncurrent_ground_truth_query_set: {1252, 1579, 1547, 2765, 2367}\ncurrent_predictions_list: [636, 2490, 2812, 224, 2053, 1593, 2391, 2031, 1863, 2201]\n0.0\n0.0\n0.0\n0.0\n0.0\n0.0\n0.0\n0.0\n0.0\n0.0\ncurrent_ground_truth_query: 132\ncurrent_ground_truth_query_set: {2400, 1059, 1124, 485, 486, 1156, 1571, 1701, 586, 1898, 1708, 1681, 1015, 52, 375, 2073, 1789, 766}\ncurrent_predictions_list: [2723, 2208, 1233, 1242, 2467, 470, 1858, 1899, 1310, 2720]\n0.0\n0.0\n0.0\n0.0\n0.0\n0.0\n0.0\n0.0\n0.0\n0.0\ncurrent_ground_truth_query: 133\ncurrent_ground_truth_query_set: {2435, 646, 1671, 1546, 143, 1553, 21, 2840, 1311, 1197, 2872, 1471, 706, 2506, 1375, 876, 1260, 626, 1650, 120}\ncurrent_predictions_list: [301, 1513, 103, 2514, 1813, 2847, 1711, 1810, 763, 146]\n0.0\n0.0\n0.0\n0.0\n0.0\n0.0\n0.0\n0.0\n0.0\n0.0\ncurrent_ground_truth_query: 134\ncurrent_ground_truth_query_set: {1282, 1538, 2052, 1669, 139, 2832, 154, 1690, 2586, 420, 1577, 427, 46, 437, 699, 2495, 1731, 329, 457, 87, 856, 1887, 489, 2027, 2797, 239, 635, 894}\ncurrent_predictions_list: [46, 2832, 2797, 329, 1887, 489, 1669, 437, 2495, 1690]\n0.03571428571428571\n0.07142857142857142\n0.10714285714285714\n0.14285714285714285\n0.17857142857142855\n0.21428571428571425\n0.24999999999999994\n0.28571428571428564\n0.32142857142857134\n0.35714285714285704\ncurrent_ground_truth_query: 135\ncurrent_ground_truth_query_set: {481, 1415, 2377, 1258, 268, 1917, 1358, 2638, 2807, 2174, 158, 2300, 1181, 1054, 479}\ncurrent_predictions_list: [2807, 2327, 1358, 460, 2726, 2120, 1763, 1231, 1952, 1366]\n0.06666666666666667\n0.06666666666666667\n0.1111111111111111\n0.1111111111111111\n0.1111111111111111\n0.1111111111111111\n0.1111111111111111\n0.1111111111111111\n0.1111111111111111\n0.1111111111111111\ncurrent_ground_truth_query: 136\ncurrent_ground_truth_query_set: {770, 776, 656, 658, 920, 799, 2212, 2085, 1574, 2866, 2869, 1465, 2109, 1725, 2120, 2767, 1880, 2650, 1754, 1123, 743, 2024}\ncurrent_predictions_list: [1123, 920, 1233, 1090, 1159, 1722, 1634, 343, 2626, 1511]\n0.045454545454545456\n0.09090909090909091\n0.09090909090909091\n0.09090909090909091\n0.09090909090909091\n0.09090909090909091\n0.09090909090909091\n0.09090909090909091\n0.09090909090909091\n0.09090909090909091\ncurrent_ground_truth_query: 137\ncurrent_ground_truth_query_set: {394, 144, 2707, 2461, 2596, 1581, 431, 952, 2877, 581, 2129, 339, 2645, 1757, 2402, 2789, 1768, 500, 2808, 127, 1535}\ncurrent_predictions_list: [2808, 1875, 1832, 23, 1991, 478, 1894, 171, 2067, 2809]\n0.047619047619047616\n0.047619047619047616\n0.047619047619047616\n0.047619047619047616\n0.047619047619047616\n0.047619047619047616\n0.047619047619047616\n0.047619047619047616\n0.047619047619047616\n0.047619047619047616\ncurrent_ground_truth_query: 138\ncurrent_ground_truth_query_set: {2437, 2182, 1161, 650, 1170, 1172, 795, 416, 546, 1703, 2350, 2235, 321, 451, 580, 1096, 332, 1359, 480, 2791, 1259, 879, 368, 1007, 1010, 2799, 1145, 1533}\ncurrent_predictions_list: [1367, 434, 1949, 2292, 1065, 1145, 1710, 1763, 1816, 920]\n0.0\n0.0\n0.0\n0.0\n0.0\n0.005952380952380952\n0.005952380952380952\n0.005952380952380952\n0.005952380952380952\n0.005952380952380952\ncurrent_ground_truth_query: 139\ncurrent_ground_truth_query_set: {1280, 1, 390, 2054, 9, 396, 2703, 2192, 1691, 1308, 2204, 160, 288, 2426, 176, 2867, 1985, 1730, 579, 196, 1862, 974, 2642, 212, 2133, 2007, 91, 2273, 2792, 2154, 1772, 890}\ncurrent_predictions_list: [293, 1280, 215, 2273, 2378, 1306, 2343, 1685, 2897, 2475]\n0.0\n0.015625\n0.015625\n0.03125\n0.03125\n0.03125\n0.03125\n0.03125\n0.03125\n0.03125\ncurrent_ground_truth_query: 140\ncurrent_ground_truth_query_set: {705, 4, 550, 2439, 1224, 1352, 1384, 337, 1747, 1974, 1752, 2554, 1309, 318}\ncurrent_predictions_list: [2391, 514, 1320, 2660, 550, 1674, 2201, 1593, 2421, 217]\n0.0\n0.0\n0.0\n0.0\n0.014285714285714285\n0.014285714285714285\n0.014285714285714285\n0.014285714285714285\n0.014285714285714285\n0.014285714285714285\ncurrent_ground_truth_query: 141\ncurrent_ground_truth_query_set: {2567, 2837, 1049, 2202, 1437, 547, 296, 808, 2480, 2233, 2491, 2881, 1095, 2631, 849, 728, 2145, 357, 874, 2794, 492, 753, 2162}\ncurrent_predictions_list: [753, 2480, 2491, 2305, 2233, 2624, 658, 2347, 332, 1256]\n0.043478260869565216\n0.08695652173913043\n0.13043478260869565\n0.13043478260869565\n0.16521739130434782\n0.16521739130434782\n0.16521739130434782\n0.16521739130434782\n0.16521739130434782\n0.16521739130434782\ncurrent_ground_truth_query: 142\ncurrent_ground_truth_query_set: {385, 2438, 1175, 932, 38, 2604, 1582, 2485, 1729, 455, 982, 612, 1508, 999, 617, 1514, 2409, 1136, 1524}\ncurrent_predictions_list: [1729, 612, 2409, 2485, 2715, 125, 1284, 297, 2001, 2403]\n0.05263157894736842\n0.10526315789473684\n0.15789473684210525\n0.21052631578947367\n0.21052631578947367\n0.21052631578947367\n0.21052631578947367\n0.21052631578947367\n0.21052631578947367\n0.21052631578947367\ncurrent_ground_truth_query: 143\ncurrent_ground_truth_query_set: {1216, 2149, 2278, 7, 1576, 1483, 2540, 1901, 1981, 1362, 2195, 2774, 632, 1401, 603, 1469, 2687}\ncurrent_predictions_list: [2540, 1862, 2195, 2197, 2407, 1469, 1001, 406, 2718, 1939]\n0.058823529411764705\n0.058823529411764705\n0.09803921568627451\n0.09803921568627451\n0.09803921568627451\n0.12745098039215685\n0.12745098039215685\n0.12745098039215685\n0.12745098039215685\n0.12745098039215685\ncurrent_ground_truth_query: 144\ncurrent_ground_truth_query_set: {2144, 1025, 1922, 1798, 778, 1069, 1005, 1071, 1935, 1997, 1980, 2429}\ncurrent_predictions_list: [1935, 206, 1025, 2387, 2429, 1290, 970, 2069, 2056, 979]\n0.08333333333333333\n0.08333333333333333\n0.1388888888888889\n0.1388888888888889\n0.18888888888888888\n0.18888888888888888\n0.18888888888888888\n0.18888888888888888\n0.18888888888888888\n0.18888888888888888\ncurrent_ground_truth_query: 145\ncurrent_ground_truth_query_set: {263, 2314, 2842, 1947, 1950, 2079, 1824, 2592, 421, 814, 1073, 306, 1467, 192, 594, 611, 739, 2672, 1522, 1907}\ncurrent_predictions_list: [814, 2449, 1467, 422, 141, 1864, 927, 2541, 46, 374]\n0.05\n0.05\n0.08333333333333334\n0.08333333333333334\n0.08333333333333334\n0.08333333333333334\n0.08333333333333334\n0.08333333333333334\n0.08333333333333334\n0.08333333333333334\ncurrent_ground_truth_query: 146\ncurrent_ground_truth_query_set: {387, 1164, 141, 1420, 2444, 2576, 2701, 2452, 1302, 23, 1817, 419, 2470, 2090, 44, 300, 1070, 1459, 2614, 592, 1875, 213, 598, 1495, 2135, 1115, 1888, 2407, 745, 1387, 1135, 2803, 2805, 2809, 634, 2044}\ncurrent_predictions_list: [1077, 2135, 2407, 2452, 416, 595, 1937, 374, 835, 850]\n0.0\n0.013888888888888888\n0.032407407407407406\n0.05324074074074074\n0.05324074074074074\n0.05324074074074074\n0.05324074074074074\n0.05324074074074074\n0.05324074074074074\n0.05324074074074074\ncurrent_ground_truth_query: 147\ncurrent_ground_truth_query_set: {834, 2884, 454, 1735, 1064, 2502, 2634, 2861, 2574, 2031, 976, 371, 435, 852, 2165, 506, 861, 2239}\ncurrent_predictions_list: [1765, 1829, 1954, 535, 2358, 115, 2113, 1872, 963, 1255]\n0.0\n0.0\n0.0\n0.0\n0.0\n0.0\n0.0\n0.0\n0.0\n0.0\ncurrent_ground_truth_query: 148\ncurrent_ground_truth_query_set: {896, 2824, 297, 1292, 269, 2860, 1586, 2387, 2488, 2553, 1821}\ncurrent_predictions_list: [1746, 478, 1094, 202, 2553, 1179, 1001, 2522, 488, 1943]\n0.0\n0.0\n0.0\n0.0\n0.018181818181818184\n0.018181818181818184\n0.018181818181818184\n0.018181818181818184\n0.018181818181818184\n0.018181818181818184\ncurrent_ground_truth_query: 149\ncurrent_ground_truth_query_set: {2441, 2569, 148, 2585, 1572, 685, 2863, 1456, 2739, 1972, 2360, 1743, 2516, 359, 490, 1902, 113, 627, 2296}\ncurrent_predictions_list: [2434, 1480, 1033, 1726, 113, 1510, 224, 909, 685, 2276]\n0.0\n0.0\n0.0\n0.0\n0.010526315789473684\n0.010526315789473684\n0.010526315789473684\n0.010526315789473684\n0.02222222222222222\n0.02222222222222222\ncurrent_ground_truth_query: 150\ncurrent_ground_truth_query_set: {512, 257, 1927, 1801, 2316, 18, 1427, 1682, 924, 423, 2859, 2348, 819, 2498, 2246, 334, 2382, 338, 2269, 864, 1767, 234, 1771, 883, 1270, 2686}\ncurrent_predictions_list: [2382, 2010, 2569, 1161, 2322, 994, 2220, 105, 2043, 359]\n0.038461538461538464\n0.038461538461538464\n0.038461538461538464\n0.038461538461538464\n0.038461538461538464\n0.038461538461538464\n0.038461538461538464\n0.038461538461538464\n0.038461538461538464\n0.038461538461538464\ncurrent_ground_truth_query: 151\ncurrent_ground_truth_query_set: {132, 2565, 2571, 2188, 2070, 800, 1697, 179, 1476, 2886, 2632, 2253, 2254, 1491, 2004, 599, 2264, 352, 2663, 1513, 1517, 1787}\ncurrent_predictions_list: [1697, 1594, 2795, 245, 1835, 2060, 247, 532, 2025, 680]\n0.045454545454545456\n0.045454545454545456\n0.045454545454545456\n0.045454545454545456\n0.045454545454545456\n0.045454545454545456\n0.045454545454545456\n0.045454545454545456\n0.045454545454545456\n0.045454545454545456\ncurrent_ground_truth_query: 152\ncurrent_ground_truth_query_set: {1408, 2700, 1047, 792, 929, 35, 304, 945, 2100, 1337, 60, 573, 1343, 2112, 2754, 1479, 2512, 1235, 1371, 2267, 1892, 232, 1389, 752}\ncurrent_predictions_list: [2754, 755, 1408, 901, 1337, 47, 746, 2680, 1462, 1238]\n0.041666666666666664\n0.041666666666666664\n0.06944444444444445\n0.06944444444444445\n0.09444444444444444\n0.09444444444444444\n0.09444444444444444\n0.09444444444444444\n0.09444444444444444\n0.09444444444444444\ncurrent_ground_truth_query: 153\ncurrent_ground_truth_query_set: {1933, 1295, 1807, 2577, 402, 1944, 1826, 165, 807, 2875, 1215, 1475, 582, 1993, 721, 1234, 1759, 997, 1386, 1399}\ncurrent_predictions_list: [1993, 544, 1255, 1344, 1666, 1776, 1684, 997, 2588, 2259]\n0.05\n0.05\n0.05\n0.05\n0.05\n0.05\n0.05\n0.0625\n0.0625\n0.0625\ncurrent_ground_truth_query: 154\ncurrent_ground_truth_query_set: {1444, 2180, 614, 1210, 2344, 1962, 2633, 208, 20, 279, 1178, 1212}\ncurrent_predictions_list: [1894, 2223, 1028, 144, 1832, 2734, 2145, 2106, 188, 1461]\n0.0\n0.0\n0.0\n0.0\n0.0\n0.0\n0.0\n0.0\n0.0\n0.0\ncurrent_ground_truth_query: 155\ncurrent_ground_truth_query_set: {2690, 1670, 2183, 1036, 2445, 2451, 796, 284, 672, 1961, 2733, 1209, 2108, 2365, 1982, 986, 1245, 95, 1505, 995, 1644, 1647, 1903, 1912, 2175}\ncurrent_predictions_list: [2365, 986, 1710, 2175, 2183, 2279, 2760, 472, 1793, 152]\n0.04\n0.08\n0.08\n0.11\n0.14200000000000002\n0.14200000000000002\n0.14200000000000002\n0.14200000000000002\n0.14200000000000002\n0.14200000000000002\ncurrent_ground_truth_query: 156\ncurrent_ground_truth_query_set: {2312, 2249, 785, 50, 1523, 1394, 1137, 2417}\ncurrent_predictions_list: [50, 2558, 2404, 1119, 1501, 1784, 1856, 1778, 884, 1156]\n0.125\n0.125\n0.125\n0.125\n0.125\n0.125\n0.125\n0.125\n0.125\n0.125\ncurrent_ground_truth_query: 157\ncurrent_ground_truth_query_set: {674, 1883, 2043, 2855, 2093, 303, 1329, 210, 1780, 344, 313, 731, 575}\ncurrent_predictions_list: [865, 210, 2657, 344, 197, 120, 2724, 1621, 2305, 640]\n0.0\n0.038461538461538464\n0.038461538461538464\n0.07692307692307693\n0.07692307692307693\n0.07692307692307693\n0.07692307692307693\n0.07692307692307693\n0.07692307692307693\n0.07692307692307693\ncurrent_ground_truth_query: 158\ncurrent_ground_truth_query_set: {768, 2573, 1779, 85, 2677, 439, 1340}\ncurrent_predictions_list: [1779, 2677, 1976, 2394, 1264, 915, 2365, 1587, 2231, 507]\n0.14285714285714285\n0.2857142857142857\n0.2857142857142857\n0.2857142857142857\n0.2857142857142857\n0.2857142857142857\n0.2857142857142857\n0.2857142857142857\n0.2857142857142857\n0.2857142857142857\ncurrent_ground_truth_query: 159\ncurrent_ground_truth_query_set: {1633, 2401, 803, 868, 1797, 647, 461, 815, 1719, 1147, 1756}\ncurrent_predictions_list: [803, 1797, 868, 2195, 1729, 612, 1147, 2871, 2401, 591]\n0.09090909090909091\n0.18181818181818182\n0.2727272727272727\n0.2727272727272727\n0.2727272727272727\n0.2727272727272727\n0.3246753246753247\n0.3246753246753247\n0.37518037518037517\n0.37518037518037517\ncurrent_ground_truth_query: 160\ncurrent_ground_truth_query_set: {897, 266, 2708, 1429, 1046, 1441, 2341, 174, 1604, 1223, 333, 596, 1369, 2010, 2009, 1383, 1895, 362, 112, 757}\ncurrent_predictions_list: [850, 566, 2347, 2296, 1377, 835, 1066, 1095, 2809, 362]\n0.0\n0.0\n0.0\n0.0\n0.0\n0.0\n0.0\n0.0\n0.0\n0.005000000000000001\ncurrent_ground_truth_query: 161\ncurrent_ground_truth_query_set: {263, 2314, 2842, 1947, 1950, 2079, 1824, 2592, 421, 814, 1073, 306, 1467, 192, 594, 611, 739, 2672, 1522, 1907}\ncurrent_predictions_list: [1073, 2530, 739, 1948, 696, 2588, 1016, 2726, 345, 1710]\n0.05\n0.05\n0.08333333333333334\n0.08333333333333334\n0.08333333333333334\n0.08333333333333334\n0.08333333333333334\n0.08333333333333334\n0.08333333333333334\n0.08333333333333334\ncurrent_ground_truth_query: 162\ncurrent_ground_truth_query_set: {931, 2307, 871, 2088, 2670, 2768, 376, 1658}\ncurrent_predictions_list: [931, 2307, 316, 1221, 2157, 961, 641, 871, 2549, 1032]\n0.125\n0.25\n0.25\n0.25\n0.25\n0.25\n0.25\n0.296875\n0.296875\n0.296875\ncurrent_ground_truth_query: 163\ncurrent_ground_truth_query_set: {2432, 2561, 773, 1159, 2695, 2825, 1802, 1035, 654, 16, 2193, 1042, 22, 663, 2463, 2208, 1185, 2210, 548, 1319, 425, 1578, 1588, 1716, 1334, 2742, 702, 960, 1088, 707, 1990, 200, 841, 842, 1229, 2766, 1103, 1487, 2388, 2773, 2518, 2782, 2405, 1126, 1512, 363, 2160, 2293, 1782, 1530, 2171, 892, 2814}\ncurrent_predictions_list: [702, 1578, 2293, 2432, 1281, 22, 1121, 1159, 2821, 526]\n0.018867924528301886\n0.03773584905660377\n0.05660377358490566\n0.07547169811320754\n0.07547169811320754\n0.09119496855345911\n0.09119496855345911\n0.10534591194968553\n0.10534591194968553\n0.10534591194968553\ncurrent_ground_truth_query: 164\ncurrent_ground_truth_query_set: {1472, 1699, 1640, 621, 2349, 2675, 180, 980, 566, 2014, 1048, 155, 317, 1758}\ncurrent_predictions_list: [2161, 947, 1594, 5, 2801, 247, 2523, 2474, 786, 2070]\n0.0\n0.0\n0.0\n0.0\n0.0\n0.0\n0.0\n0.0\n0.0\n0.0\ncurrent_ground_truth_query: 165\ncurrent_ground_truth_query_set: {259, 2826, 1168, 1296, 405, 542, 1061, 689, 691, 1977, 1722, 711, 2889, 207, 2519, 602, 1516, 2673, 125, 1918}\ncurrent_predictions_list: [495, 1785, 970, 388, 460, 3, 1805, 1710, 2141, 1239]\n0.0\n0.0\n0.0\n0.0\n0.0\n0.0\n0.0\n0.0\n0.0\n0.0\ncurrent_ground_truth_query: 166\ncurrent_ground_truth_query_set: {1539, 2309, 1158, 1799, 2575, 913, 1938, 1811, 1688, 25, 2457, 29, 1957, 2853, 2856, 1449, 2731, 563, 1332, 1986, 1239, 1625, 1250, 2019, 1261, 2030, 2033, 510, 1279}\ncurrent_predictions_list: [345, 732, 1239, 1710, 1811, 1223, 2374, 1763, 2192, 1173]\n0.0\n0.0\n0.011494252873563218\n0.011494252873563218\n0.02528735632183908\n0.02528735632183908\n0.02528735632183908\n0.02528735632183908\n0.02528735632183908\n0.02528735632183908\ncurrent_ground_truth_query: 167\ncurrent_ground_truth_query_set: {2049, 133, 520, 2184, 523, 2317, 14, 400, 2579, 1174, 2462, 2209, 162, 930, 1955, 1573, 2086, 2213, 1960, 2339, 810, 2342, 940, 2862, 47, 432, 1714, 2483, 2741, 183, 2617, 570, 1470, 2500, 837, 2888, 1865, 1354, 724, 853, 854, 1492, 1620, 2390, 2520, 1374, 1632, 2656, 1893, 235, 620, 2286, 1904, 755, 1139, 2291, 758, 2169, 2170, 1403, 2046, 1791}\ncurrent_predictions_list: [1403, 520, 2184, 802, 2818, 2579, 2401, 47, 523, 765]\n0.016129032258064516\n0.03225806451612903\n0.04838709677419355\n0.04838709677419355\n0.04838709677419355\n0.059139784946236555\n0.059139784946236555\n0.06922043010752688\n0.07997311827956989\n0.07997311827956989\ncurrent_ground_truth_query: 168\ncurrent_ground_truth_query_set: {2433, 1734, 393, 1965, 2559}\ncurrent_predictions_list: [393, 1934, 2174, 2753, 2267, 2632, 2177, 1895, 2513, 1318]\n0.2\n0.2\n0.2\n0.2\n0.2\n0.2\n0.2\n0.2\n0.2\n0.2\ncurrent_ground_truth_query: 169\ncurrent_ground_truth_query_set: {704, 140, 1004, 1548, 2062, 241, 754, 817, 2035, 661, 1141, 1531, 2844, 1885, 2111}\ncurrent_predictions_list: [2523, 93, 1161, 661, 2010, 2227, 119, 2840, 1918, 754]\n0.0\n0.0\n0.0\n0.016666666666666666\n0.016666666666666666\n0.016666666666666666\n0.016666666666666666\n0.016666666666666666\n0.016666666666666666\n0.03\ncurrent_ground_truth_query: 170\ncurrent_ground_truth_query_set: {1313, 2276, 870, 1031, 1450, 2443, 2603, 2892, 528, 912, 1680, 2262, 569, 444, 2750}\ncurrent_predictions_list: [2779, 1305, 2459, 2892, 171, 1579, 1578, 2750, 1886, 912]\n0.0\n0.0\n0.0\n0.016666666666666666\n0.016666666666666666\n0.016666666666666666\n0.016666666666666666\n0.03333333333333333\n0.03333333333333333\n0.05333333333333333\ncurrent_ground_truth_query: 171\ncurrent_ground_truth_query_set: {1984, 2240, 482, 163, 1218, 2051, 2281, 2474, 2155, 915, 249, 2394, 1627, 990, 1118}\ncurrent_predictions_list: [2051, 482, 163, 1900, 990, 669, 1787, 2644, 838, 719]\n0.06666666666666667\n0.13333333333333333\n0.2\n0.2\n0.25333333333333335\n0.25333333333333335\n0.25333333333333335\n0.25333333333333335\n0.25333333333333335\n0.25333333333333335\ncurrent_ground_truth_query: 172\ncurrent_ground_truth_query_set: {388, 908, 142, 655, 1166, 2194, 2589, 1310, 2597, 1580, 2868, 1595, 446, 833, 1232, 1748, 2658, 2285, 1905, 508}\ncurrent_predictions_list: [1595, 2285, 1589, 1237, 1991, 1977, 2072, 1158, 1918, 1835]\n0.05\n0.1\n0.1\n0.1\n0.1\n0.1\n0.1\n0.1\n0.1\n0.1\ncurrent_ground_truth_query: 173\ncurrent_ground_truth_query_set: {2437, 2182, 1161, 650, 1170, 1172, 795, 416, 546, 1703, 2350, 2235, 321, 451, 580, 1096, 332, 1359, 480, 2791, 1259, 879, 368, 1007, 1010, 2799, 1145, 1533}\ncurrent_predictions_list: [1236, 711, 1991, 1939, 2067, 773, 1147, 1359, 1184, 335]\n0.0\n0.0\n0.0\n0.0\n0.0\n0.0\n0.0\n0.004464285714285714\n0.004464285714285714\n0.004464285714285714\ncurrent_ground_truth_query: 174\ncurrent_ground_truth_query_set: {2692, 5, 262, 1414, 1288, 1835, 947, 1845, 2761, 205, 2523, 2141, 1381, 360, 1132, 1519, 1775, 1776, 2801, 1267, 891, 2303}\ncurrent_predictions_list: [1991, 1862, 1775, 1717, 2032, 895, 1614, 1675, 2523, 762]\n0.0\n0.0\n0.015151515151515152\n0.015151515151515152\n0.015151515151515152\n0.015151515151515152\n0.015151515151515152\n0.015151515151515152\n0.025252525252525252\n0.025252525252525252\ncurrent_ground_truth_query: 175\ncurrent_ground_truth_query_set: {271, 2418, 2005, 1367, 1724}\ncurrent_predictions_list: [748, 439, 1208, 85, 2726, 129, 212, 2850, 1099, 1065]\n0.0\n0.0\n0.0\n0.0\n0.0\n0.0\n0.0\n0.0\n0.0\n0.0\ncurrent_ground_truth_query: 176\ncurrent_ground_truth_query_set: {394, 144, 2707, 2461, 2596, 1581, 431, 952, 2877, 581, 2129, 339, 2645, 1757, 2402, 2789, 1768, 500, 2808, 127, 1535}\ncurrent_predictions_list: [952, 1535, 355, 168, 1853, 844, 1998, 466, 1616, 2156]\n0.047619047619047616\n0.09523809523809523\n0.09523809523809523\n0.09523809523809523\n0.09523809523809523\n0.09523809523809523\n0.09523809523809523\n0.09523809523809523\n0.09523809523809523\n0.09523809523809523\ncurrent_ground_truth_query: 177\ncurrent_ground_truth_query_set: {545, 2538, 2379, 1101, 1869, 1713, 2385, 2678, 600, 762, 2236, 2591}\ncurrent_predictions_list: [1101, 2678, 923, 783, 313, 2439, 2777, 1730, 1862, 1058]\n0.08333333333333333\n0.16666666666666666\n0.16666666666666666\n0.16666666666666666\n0.16666666666666666\n0.16666666666666666\n0.16666666666666666\n0.16666666666666666\n0.16666666666666666\n0.16666666666666666\ncurrent_ground_truth_query: 178\ncurrent_ground_truth_query_set: {134, 1655, 392, 651, 1675, 13, 660, 2709, 790, 283, 2460, 2588, 544, 2598, 430, 2606, 309, 2102, 311, 1975, 2744, 2364, 320, 1345, 1219, 2118, 1351, 1991, 2376, 2250, 984, 1498, 989, 478, 2270, 2148, 2404, 2025, 2665, 875, 2667, 2795, 1646, 2032, 247, 2428, 126}\ncurrent_predictions_list: [182, 636, 2895, 2161, 224, 750, 757, 1593, 1664, 2291]\n0.0\n0.0\n0.0\n0.0\n0.0\n0.0\n0.0\n0.0\n0.0\n0.0\ncurrent_ground_truth_query: 179\ncurrent_ground_truth_query_set: {2436, 1419, 2320, 2581, 2076, 2594, 1193, 1463, 2747, 2748, 2369, 2627, 198, 1746, 2522, 96, 1256, 2034, 374, 633}\ncurrent_predictions_list: [2778, 2522, 1652, 1037, 2526, 557, 2299, 103, 251, 478]\n0.0\n0.025\n0.025\n0.025\n0.025\n0.025\n0.025\n0.025\n0.025\n0.025\ncurrent_ground_truth_query: 180\ncurrent_ground_truth_query_set: {353, 1060, 167, 2440, 426, 1002, 1484, 2477, 1870, 2616, 1712, 2226, 950, 1527, 1560, 190}\ncurrent_predictions_list: [1068, 1899, 919, 1075, 2570, 1587, 2208, 2878, 71, 2196]\n0.0\n0.0\n0.0\n0.0\n0.0\n0.0\n0.0\n0.0\n0.0\n0.0\ncurrent_ground_truth_query: 181\ncurrent_ground_truth_query_set: {513, 2050, 2447, 2199, 927, 2850, 293, 1318, 1958, 2471, 2601, 429, 2223, 1841, 2103, 1989, 330, 1482, 78, 2511, 2003, 215, 2391, 89, 2013, 98, 1637, 108, 1021}\ncurrent_predictions_list: [2513, 2850, 1201, 1321, 1318, 1934, 2827, 886, 1208, 1611]\n0.0\n0.017241379310344827\n0.017241379310344827\n0.017241379310344827\n0.03103448275862069\n0.03103448275862069\n0.03103448275862069\n0.03103448275862069\n0.03103448275862069\n0.03103448275862069\ncurrent_ground_truth_query: 182\ncurrent_ground_truth_query_set: {906, 1676, 1818, 2587, 1828, 933, 1447, 1321, 1068, 1453, 51, 184, 2363, 2878, 1861, 583, 968, 863, 1388, 1778, 756, 2167, 253}\ncurrent_predictions_list: [2814, 134, 2167, 2702, 1572, 2278, 1392, 1443, 2265, 1553]\n0.0\n0.0\n0.014492753623188404\n0.014492753623188404\n0.014492753623188404\n0.014492753623188404\n0.014492753623188404\n0.014492753623188404\n0.014492753623188404\n0.014492753623188404\ncurrent_ground_truth_query: 183\ncurrent_ground_truth_query_set: {1121, 1410, 2117, 2089, 1899, 495, 2740, 501, 1113, 922, 2555, 1692}\ncurrent_predictions_list: [2117, 1899, 1841, 1121, 492, 2335, 62, 142, 40, 277]\n0.08333333333333333\n0.16666666666666666\n0.16666666666666666\n0.22916666666666666\n0.22916666666666666\n0.22916666666666666\n0.22916666666666666\n0.22916666666666666\n0.22916666666666666\n0.22916666666666666\ncurrent_ground_truth_query: 184\ncurrent_ground_truth_query_set: {263, 2314, 2842, 1947, 1950, 2079, 1824, 2592, 421, 814, 1073, 306, 1467, 192, 594, 611, 739, 2672, 1522, 1907}\ncurrent_predictions_list: [263, 1522, 1517, 1158, 1950, 1947, 814, 1490, 1467, 26]\n0.05\n0.1\n0.1\n0.1\n0.13\n0.16333333333333333\n0.19904761904761906\n0.19904761904761906\n0.23238095238095238\n0.23238095238095238\ncurrent_ground_truth_query: 185\ncurrent_ground_truth_query_set: {2562, 643, 2823, 1418, 11, 2186, 2191, 1702, 424, 1592, 2619, 2492, 2366, 66, 325, 458, 2127, 2392, 347, 228, 2416, 499, 1651, 1017}\ncurrent_predictions_list: [1592, 325, 228, 203, 2795, 2696, 1079, 2404, 1958, 761]\n0.041666666666666664\n0.08333333333333333\n0.125\n0.125\n0.125\n0.125\n0.125\n0.125\n0.125\n0.125\ncurrent_ground_truth_query: 186\ncurrent_ground_truth_query_set: {1808, 19, 1306, 1819, 413, 2214, 553, 2298, 1710, 1838, 2618, 1086, 2110, 1602, 840, 1738, 1100, 1871, 1489, 2517, 2524, 2790, 1648, 1906, 1402, 1150}\ncurrent_predictions_list: [1799, 1837, 510, 592, 2627, 2534, 11, 966, 2212, 2786]\n0.0\n0.0\n0.0\n0.0\n0.0\n0.0\n0.0\n0.0\n0.0\n0.0\ncurrent_ground_truth_query: 187\ncurrent_ground_truth_query_set: {2717, 688, 593, 1910, 1848, 1597}\ncurrent_predictions_list: [2717, 1848, 688, 526, 593, 1597, 1239, 872, 2215, 36]\n0.16666666666666666\n0.3333333333333333\n0.5\n0.5\n0.6333333333333333\n0.7722222222222221\n0.7722222222222221\n0.7722222222222221\n0.7722222222222221\n0.7722222222222221\ncurrent_ground_truth_query: 188\ncurrent_ground_truth_query_set: {2049, 133, 520, 2184, 523, 2317, 14, 400, 2579, 1174, 2462, 2209, 162, 930, 1955, 1573, 2086, 2213, 1960, 2339, 810, 2342, 940, 2862, 47, 432, 1714, 2483, 2741, 183, 2617, 570, 1470, 2500, 837, 2888, 1865, 1354, 724, 853, 854, 1492, 1620, 2390, 2520, 1374, 1632, 2656, 1893, 235, 620, 2286, 1904, 755, 1139, 2291, 758, 2169, 2170, 1403, 2046, 1791}\ncurrent_predictions_list: [853, 2342, 2579, 940, 2462, 520, 1620, 432, 523, 2617]\n0.016129032258064516\n0.03225806451612903\n0.04838709677419355\n0.06451612903225806\n0.08064516129032258\n0.0967741935483871\n0.11290322580645161\n0.12903225806451613\n0.14516129032258063\n0.16129032258064513\ncurrent_ground_truth_query: 189\ncurrent_ground_truth_query_set: {1280, 1, 390, 2054, 9, 396, 2703, 2192, 1691, 1308, 2204, 160, 288, 2426, 176, 2867, 1985, 1730, 579, 196, 1862, 974, 2642, 212, 2133, 2007, 91, 2273, 2792, 2154, 1772, 890}\ncurrent_predictions_list: [579, 1713, 1177, 2867, 2007, 827, 2700, 903, 182, 2743]\n0.03125\n0.03125\n0.03125\n0.046875\n0.065625\n0.065625\n0.065625\n0.065625\n0.065625\n0.065625\ncurrent_ground_truth_query: 190\ncurrent_ground_truth_query_set: {1056, 1376, 418, 1315, 1220, 552, 2322, 2196, 2711, 1304, 188, 2238}\ncurrent_predictions_list: [1376, 1274, 26, 2523, 2265, 1564, 2237, 1037, 1855, 140]\n0.08333333333333333\n0.08333333333333333\n0.08333333333333333\n0.08333333333333333\n0.08333333333333333\n0.08333333333333333\n0.08333333333333333\n0.08333333333333333\n0.08333333333333333\n0.08333333333333333\ncurrent_ground_truth_query: 191\ncurrent_ground_truth_query_set: {901, 2566, 665, 2334, 168, 812, 1853, 1599, 448, 63, 68, 2629, 202, 1996, 1741, 2380, 80, 2137, 2015, 1249, 1762, 746, 2287, 2546, 503, 1528}\ncurrent_predictions_list: [1996, 716, 1894, 573, 354, 992, 1500, 2404, 1668, 2846]\n0.038461538461538464\n0.038461538461538464\n0.038461538461538464\n0.038461538461538464\n0.038461538461538464\n0.038461538461538464\n0.038461538461538464\n0.038461538461538464\n0.038461538461538464\n0.038461538461538464\ncurrent_ground_truth_query: 192\ncurrent_ground_truth_query_set: {1506, 1541, 712, 1641, 1930, 1228, 557, 1934, 2671, 2288, 662, 2648}\ncurrent_predictions_list: [1226, 269, 222, 1601, 403, 2671, 1290, 513, 966, 2534]\n0.0\n0.0\n0.0\n0.0\n0.0\n0.013888888888888888\n0.013888888888888888\n0.013888888888888888\n0.013888888888888888\n0.013888888888888888\ncurrent_ground_truth_query: 193\ncurrent_ground_truth_query_set: {134, 1655, 392, 651, 1675, 13, 660, 2709, 790, 283, 2460, 2588, 544, 2598, 430, 2606, 309, 2102, 311, 1975, 2744, 2364, 320, 1345, 1219, 2118, 1351, 1991, 2376, 2250, 984, 1498, 989, 478, 2270, 2148, 2404, 2025, 2665, 875, 2667, 2795, 1646, 2032, 247, 2428, 126}\ncurrent_predictions_list: [1882, 262, 2795, 981, 2025, 2012, 466, 1997, 2404, 680]\n0.0\n0.0\n0.0070921985815602835\n0.0070921985815602835\n0.015602836879432624\n0.015602836879432624\n0.015602836879432624\n0.015602836879432624\n0.022695035460992906\n0.022695035460992906\ncurrent_ground_truth_query: 194\ncurrent_ground_truth_query_set: {2432, 2561, 773, 1159, 2695, 2825, 1802, 1035, 654, 16, 2193, 1042, 22, 663, 2463, 2208, 1185, 2210, 548, 1319, 425, 1578, 1588, 1716, 1334, 2742, 702, 960, 1088, 707, 1990, 200, 841, 842, 1229, 2766, 1103, 1487, 2388, 2773, 2518, 2782, 2405, 1126, 1512, 363, 2160, 2293, 1782, 1530, 2171, 892, 2814}\ncurrent_predictions_list: [654, 2405, 1760, 2463, 1795, 1505, 846, 1418, 1578, 344]\n0.018867924528301886\n0.03773584905660377\n0.03773584905660377\n0.05188679245283019\n0.05188679245283019\n0.05188679245283019\n0.05188679245283019\n0.05188679245283019\n0.06027253668763103\n0.06027253668763103\ncurrent_ground_truth_query: 195\ncurrent_ground_truth_query_set: {1472, 1699, 1640, 621, 2349, 2675, 180, 980, 566, 2014, 1048, 155, 317, 1758}\ncurrent_predictions_list: [1196, 537, 643, 2467, 2707, 1863, 1640, 1634, 1143, 1519]\n0.0\n0.0\n0.0\n0.0\n0.0\n0.0\n0.01020408163265306\n0.01020408163265306\n0.01020408163265306\n0.01020408163265306\ncurrent_ground_truth_query: 196\ncurrent_ground_truth_query_set: {2305, 675, 1190, 937, 1033, 941, 1133, 1230, 1809, 307, 2420, 2040, 2879}\ncurrent_predictions_list: [1033, 598, 977, 819, 2316, 937, 224, 1583, 419, 2044]\n0.07692307692307693\n0.07692307692307693\n0.07692307692307693\n0.07692307692307693\n0.07692307692307693\n0.10256410256410256\n0.10256410256410256\n0.10256410256410256\n0.10256410256410256\n0.10256410256410256\ncurrent_ground_truth_query: 197\ncurrent_ground_truth_query_set: {2057, 2831, 530, 2454, 540, 1454, 2352, 1205, 1206, 1847, 442, 2556, 2620, 1600, 1856, 1474, 2497, 972, 981, 1122, 613, 742, 2796, 1390, 1660, 382}\ncurrent_predictions_list: [2556, 2620, 6, 1965, 1996, 612, 1175, 1856, 1875, 2715]\n0.038461538461538464\n0.07692307692307693\n0.07692307692307693\n0.07692307692307693\n0.07692307692307693\n0.07692307692307693\n0.07692307692307693\n0.09134615384615385\n0.09134615384615385\n0.09134615384615385\ncurrent_ground_truth_query: 198\ncurrent_ground_truth_query_set: {1925, 270, 1678, 1679, 1426, 1554, 2841, 282, 670, 2464, 53, 1987, 848, 1872, 1365, 220, 1129, 1130, 2156, 1146, 1278}\ncurrent_predictions_list: [848, 1003, 2047, 2120, 1465, 1952, 24, 1105, 158, 1233]\n0.047619047619047616\n0.047619047619047616\n0.047619047619047616\n0.047619047619047616\n0.047619047619047616\n0.047619047619047616\n0.047619047619047616\n0.047619047619047616\n0.047619047619047616\n0.047619047619047616\ncurrent_ground_truth_query: 199\ncurrent_ground_truth_query_set: {2880, 292, 2725, 934, 2599, 2539, 364, 1038, 111, 911, 2190, 2897, 1718, 312, 380}\ncurrent_predictions_list: [1897, 733, 2870, 1871, 2190, 2417, 170, 575, 2871, 1179]\n0.0\n0.0\n0.0\n0.0\n0.013333333333333334\n0.013333333333333334\n0.013333333333333334\n0.013333333333333334\n0.013333333333333334\n0.013333333333333334\ncurrent_ground_truth_query: 200\ncurrent_ground_truth_query_set: {2689, 642, 1794, 1413, 2058, 2329, 1182, 1191, 1589, 2229, 1082, 1732, 84, 730, 732, 2783, 2146, 2411, 115, 1013, 1400, 2041}\ncurrent_predictions_list: [2812, 2031, 521, 1587, 2476, 1296, 2660, 586, 2861, 903]\n0.0\n0.0\n0.0\n0.0\n0.0\n0.0\n0.0\n0.0\n0.0\n0.0\ncurrent_ground_truth_query: 201\ncurrent_ground_truth_query_set: {1280, 1, 390, 2054, 9, 396, 2703, 2192, 1691, 1308, 2204, 160, 288, 2426, 176, 2867, 1985, 1730, 579, 196, 1862, 974, 2642, 212, 2133, 2007, 91, 2273, 2792, 2154, 1772, 890}\ncurrent_predictions_list: [1772, 1985, 974, 869, 344, 1282, 865, 733, 1691, 1675]\n0.03125\n0.0625\n0.09375\n0.09375\n0.09375\n0.09375\n0.09375\n0.09375\n0.1076388888888889\n0.1076388888888889\ncurrent_ground_truth_query: 202\ncurrent_ground_truth_query_set: {384, 2178, 659, 2197, 2455, 687, 2101, 1350, 1992, 1481, 1739, 1995, 847, 1509, 2022, 493, 237, 238, 878, 2811}\ncurrent_predictions_list: [1509, 1030, 1969, 1383, 333, 1604, 2341, 266, 2701, 2479]\n0.05\n0.05\n0.05\n0.05\n0.05\n0.05\n0.05\n0.05\n0.05\n0.05\ncurrent_ground_truth_query: 203\ncurrent_ground_truth_query_set: {134, 1655, 392, 651, 1675, 13, 660, 2709, 790, 283, 2460, 2588, 544, 2598, 430, 2606, 309, 2102, 311, 1975, 2744, 2364, 320, 1345, 1219, 2118, 1351, 1991, 2376, 2250, 984, 1498, 989, 478, 2270, 2148, 2404, 2025, 2665, 875, 2667, 2795, 1646, 2032, 247, 2428, 126}\ncurrent_predictions_list: [651, 1878, 2322, 247, 2025, 1164, 2795, 2889, 2235, 2882]\n0.02127659574468085\n0.02127659574468085\n0.02127659574468085\n0.031914893617021274\n0.04468085106382978\n0.04468085106382978\n0.056838905775075985\n0.056838905775075985\n0.056838905775075985\n0.056838905775075985\ncurrent_ground_truth_query: 204\ncurrent_ground_truth_query_set: {1281, 1803, 526, 1939, 2067, 2072, 2077, 2720, 1443, 680, 2473, 1855, 576, 1349, 2757, 2123, 463, 335, 1236, 1877, 343, 2655, 105, 244, 2422}\ncurrent_predictions_list: [576, 2542, 259, 2322, 680, 224, 333, 2795, 2689, 1096]\n0.04\n0.04\n0.04\n0.04\n0.056\n0.056\n0.056\n0.056\n0.056\n0.056\ncurrent_ground_truth_query: 205\ncurrent_ground_truth_query_set: {2560, 1442, 1603, 2053, 1480, 361, 171, 619, 843, 1707, 2572, 1520, 1745, 2545, 1749, 694, 56, 541}\ncurrent_predictions_list: [1749, 1837, 1906, 2664, 1213, 71, 2031, 679, 58, 636]\n0.05555555555555555\n0.05555555555555555\n0.05555555555555555\n0.05555555555555555\n0.05555555555555555\n0.05555555555555555\n0.05555555555555555\n0.05555555555555555\n0.05555555555555555\n0.05555555555555555\ncurrent_ground_truth_query: 206\ncurrent_ground_truth_query_set: {1347, 164, 2023, 2729, 782, 116, 1271, 1274}\ncurrent_predictions_list: [2702, 785, 1370, 2370, 1553, 1934, 509, 345, 1290, 2387]\n0.0\n0.0\n0.0\n0.0\n0.0\n0.0\n0.0\n0.0\n0.0\n0.0\ncurrent_ground_truth_query: 207\ncurrent_ground_truth_query_set: {387, 1164, 141, 1420, 2444, 2576, 2701, 2452, 1302, 23, 1817, 419, 2470, 2090, 44, 300, 1070, 1459, 2614, 592, 1875, 213, 598, 1495, 2135, 1115, 1888, 2407, 745, 1387, 1135, 2803, 2805, 2809, 634, 2044}\ncurrent_predictions_list: [141, 1135, 850, 1725, 2001, 2576, 2540, 890, 2105, 2195]\n0.027777777777777776\n0.05555555555555555\n0.05555555555555555\n0.05555555555555555\n0.05555555555555555\n0.06944444444444445\n0.06944444444444445\n0.06944444444444445\n0.06944444444444445\n0.06944444444444445\ncurrent_ground_truth_query: 208\ncurrent_ground_truth_query_set: {2176, 2064, 274, 1945, 1946, 2205, 1693, 1695, 2215, 1065, 2092, 1840, 1204, 2612, 2232, 1089, 322, 2531, 1769, 1662}\ncurrent_predictions_list: [2479, 165, 2808, 2439, 1206, 966, 1499, 2667, 2223, 2720]\n0.0\n0.0\n0.0\n0.0\n0.0\n0.0\n0.0\n0.0\n0.0\n0.0\ncurrent_ground_truth_query: 209\ncurrent_ground_truth_query_set: {2306, 1412, 1128, 2091, 686, 2323, 1590, 217, 2557, 2207}\ncurrent_predictions_list: [2323, 2781, 1275, 171, 808, 2203, 2557, 2517, 2851, 1094]\n0.1\n0.1\n0.1\n0.1\n0.1\n0.1\n0.1285714285714286\n0.1285714285714286\n0.1285714285714286\n0.1285714285714286\ncurrent_ground_truth_query: 210\ncurrent_ground_truth_query_set: {1317, 2373, 1672, 1515, 2891, 398, 1774, 2894, 821, 1557, 793}\ncurrent_predictions_list: [1515, 2523, 786, 1775, 188, 247, 1274, 966, 1557, 2239]\n0.09090909090909091\n0.09090909090909091\n0.09090909090909091\n0.09090909090909091\n0.09090909090909091\n0.09090909090909091\n0.09090909090909091\n0.09090909090909091\n0.1111111111111111\n0.1111111111111111\ncurrent_ground_truth_query: 211\ncurrent_ground_truth_query_set: {1792, 34, 1634, 2275, 741, 2245, 1127, 2662, 1611, 2605, 597, 245, 949, 1014, 2459, 447}\ncurrent_predictions_list: [245, 2459, 2143, 1505, 1617, 171, 865, 575, 741, 491]\n0.0625\n0.125\n0.125\n0.125\n0.125\n0.125\n0.125\n0.125\n0.14583333333333334\n0.14583333333333334\ncurrent_ground_truth_query: 212\ncurrent_ground_truth_query_set: {387, 1164, 141, 1420, 2444, 2576, 2701, 2452, 1302, 23, 1817, 419, 2470, 2090, 44, 300, 1070, 1459, 2614, 592, 1875, 213, 598, 1495, 2135, 1115, 1888, 2407, 745, 1387, 1135, 2803, 2805, 2809, 634, 2044}\ncurrent_predictions_list: [1115, 419, 592, 598, 1837, 387, 1593, 2192, 2743, 2867]\n0.027777777777777776\n0.05555555555555555\n0.08333333333333333\n0.1111111111111111\n0.1111111111111111\n0.13425925925925924\n0.13425925925925924\n0.13425925925925924\n0.13425925925925924\n0.13425925925925924\ncurrent_ground_truth_query: 213\ncurrent_ground_truth_query_set: {610, 323, 1091, 2274, 1609, 2776, 1328, 2490, 2705, 1203, 1684, 1397, 2770, 152, 2778, 474, 1949, 1598}\ncurrent_predictions_list: [1537, 2765, 1203, 2143, 967, 267, 93, 1961, 245, 279]\n0.0\n0.0\n0.018518518518518517\n0.018518518518518517\n0.018518518518518517\n0.018518518518518517\n0.018518518518518517\n0.018518518518518517\n0.018518518518518517\n0.018518518518518517\ncurrent_ground_truth_query: 214\ncurrent_ground_truth_query_set: {1312, 1409, 2244, 389, 1131, 1396, 191}\ncurrent_predictions_list: [2771, 2342, 2499, 520, 2571, 945, 2169, 2527, 2500, 497]\n0.0\n0.0\n0.0\n0.0\n0.0\n0.0\n0.0\n0.0\n0.0\n0.0\ncurrent_ground_truth_query: 215\ncurrent_ground_truth_query_set: {865, 328, 109, 2871, 275, 1045, 150, 1621, 248, 1979, 926}\ncurrent_predictions_list: [478, 2514, 34, 2824, 1714, 103, 1813, 1711, 557, 1271]\n0.0\n0.0\n0.0\n0.0\n0.0\n0.0\n0.0\n0.0\n0.0\n0.0\ncurrent_ground_truth_query: 216\ncurrent_ground_truth_query_set: {515, 8, 1421, 1432, 2458, 2332, 805, 1448, 2222, 1970, 67, 2628, 70, 838, 2758, 1097, 336, 2134, 2395, 476, 94, 1635, 2151, 2038}\ncurrent_predictions_list: [515, 2515, 1970, 1511, 134, 51, 2033, 2395, 1722, 1655]\n0.041666666666666664\n0.041666666666666664\n0.06944444444444445\n0.06944444444444445\n0.06944444444444445\n0.06944444444444445\n0.06944444444444445\n0.08506944444444445\n0.08506944444444445\n0.08506944444444445\ncurrent_ground_truth_query: 217\ncurrent_ground_truth_query_set: {1793, 1058, 291, 2532, 487, 1160, 2279, 236, 272, 2289, 2384, 595, 2800, 1269, 2295, 1016}\ncurrent_predictions_list: [1580, 96, 2135, 1595, 687, 382, 2138, 2682, 680, 2460]\n0.0\n0.0\n0.0\n0.0\n0.0\n0.0\n0.0\n0.0\n0.0\n0.0\ncurrent_ground_truth_query: 218\ncurrent_ground_truth_query_set: {2819, 1291, 2699, 1293, 1294, 2061, 2065, 2834, 1305, 666, 153, 1689, 2719, 2721, 1831, 1837, 2094, 816, 58, 1850, 65, 1733, 585, 1868, 2002, 2515, 1109, 1373, 2397, 483, 1382, 1511, 1638, 2153, 2280, 118, 1272, 122}\ncurrent_predictions_list: [2676, 2089, 2285, 1121, 528, 1293, 2070, 1185, 65, 1490]\n0.0\n0.0\n0.0\n0.0\n0.0\n0.0043859649122807015\n0.0043859649122807015\n0.0043859649122807015\n0.01023391812865497\n0.01023391812865497\ncurrent_ground_truth_query: 219\ncurrent_ground_truth_query_set: {1167, 1657, 2453, 1434, 2337, 1188, 806, 1192, 298, 1327, 1585, 1971, 823, 2615, 2625, 75, 722, 1874, 2644, 1879, 2406, 1526, 1785, 2683}\ncurrent_predictions_list: [2138, 1462, 1188, 2585, 1192, 1450, 1279, 2231, 2725, 2252]\n0.0\n0.0\n0.013888888888888888\n0.013888888888888888\n0.030555555555555555\n0.030555555555555555\n0.030555555555555555\n0.030555555555555555\n0.030555555555555555\n0.030555555555555555\ncurrent_ground_truth_query: 220\ncurrent_ground_truth_query_set: {2152, 2331, 2624, 315}\ncurrent_predictions_list: [2748, 856, 139, 2347, 98, 1688, 251, 2050, 1006, 1600]\n0.0\n0.0\n0.0\n0.0\n0.0\n0.0\n0.0\n0.0\n0.0\n0.0\ncurrent_ground_truth_query: 221\ncurrent_ground_truth_query_set: {1408, 2700, 1047, 792, 929, 35, 304, 945, 2100, 1337, 60, 573, 1343, 2112, 2754, 1479, 2512, 1235, 1371, 2267, 1892, 232, 1389, 752}\ncurrent_predictions_list: [1343, 627, 962, 896, 1490, 1459, 220, 1230, 1249, 1705]\n0.041666666666666664\n0.041666666666666664\n0.041666666666666664\n0.041666666666666664\n0.041666666666666664\n0.041666666666666664\n0.041666666666666664\n0.041666666666666664\n0.041666666666666664\n0.041666666666666664\ncurrent_ground_truth_query: 222\ncurrent_ground_truth_query_set: {512, 257, 1927, 1801, 2316, 18, 1427, 1682, 924, 423, 2859, 2348, 819, 2498, 2246, 334, 2382, 338, 2269, 864, 1767, 234, 1771, 883, 1270, 2686}\ncurrent_predictions_list: [1270, 1962, 667, 2220, 2542, 355, 2043, 1206, 1535, 466]\n0.038461538461538464\n0.038461538461538464\n0.038461538461538464\n0.038461538461538464\n0.038461538461538464\n0.038461538461538464\n0.038461538461538464\n0.038461538461538464\n0.038461538461538464\n0.038461538461538464\ncurrent_ground_truth_query: 223\ncurrent_ground_truth_query_set: {2530, 2372, 935, 2472, 2696, 2282, 555, 2734, 2324, 534, 2071, 2106}\ncurrent_predictions_list: [1215, 1274, 1228, 682, 1463, 269, 513, 657, 328, 2299]\n0.0\n0.0\n0.0\n0.0\n0.0\n0.0\n0.0\n0.0\n0.0\n0.0\ncurrent_ground_truth_query: 224\ncurrent_ground_truth_query_set: {2499, 1956, 1322, 2187, 2290}\ncurrent_predictions_list: [1366, 2187, 2652, 2513, 2267, 652, 17, 1611, 1567, 535]\n0.0\n0.1\n0.1\n0.1\n0.1\n0.1\n0.1\n0.1\n0.1\n0.1\ncurrent_ground_truth_query: 225\ncurrent_ground_truth_query_set: {259, 2826, 1168, 1296, 405, 542, 1061, 689, 691, 1977, 1722, 711, 2889, 207, 2519, 602, 1516, 2673, 125, 1918}\ncurrent_predictions_list: [1516, 2072, 711, 1349, 1789, 1977, 2403, 1184, 2870, 1236]\n0.05\n0.05\n0.08333333333333334\n0.08333333333333334\n0.08333333333333334\n0.10833333333333334\n0.10833333333333334\n0.10833333333333334\n0.10833333333333334\n0.10833333333333334\ncurrent_ground_truth_query: 226\ncurrent_ground_truth_query_set: {899, 1283, 517, 2698, 2200, 39, 2609, 2874, 1988, 1605, 971, 2896, 727, 1116, 1897, 2163, 117, 2423, 1788}\ncurrent_predictions_list: [1605, 1116, 2481, 2609, 2200, 46, 2330, 459, 1988, 329]\n0.05263157894736842\n0.10526315789473684\n0.10526315789473684\n0.14473684210526316\n0.1868421052631579\n0.1868421052631579\n0.1868421052631579\n0.1868421052631579\n0.21608187134502924\n0.21608187134502924\ncurrent_ground_truth_query: 227\ncurrent_ground_truth_query_set: {2408, 713, 491, 1262, 1422, 1561, 2835, 1301, 246, 729, 1978, 763, 2813, 1755, 2143}\ncurrent_predictions_list: [2835, 1755, 1811, 1321, 1666, 1382, 1689, 1262, 748, 1412]\n0.06666666666666667\n0.13333333333333333\n0.13333333333333333\n0.13333333333333333\n0.13333333333333333\n0.13333333333333333\n0.13333333333333333\n0.15833333333333333\n0.15833333333333333\n0.15833333333333333\ncurrent_ground_truth_query: 228\ncurrent_ground_truth_query_set: {897, 266, 2708, 1429, 1046, 1441, 2341, 174, 1604, 1223, 333, 596, 1369, 2010, 2009, 1383, 1895, 362, 112, 757}\ncurrent_predictions_list: [1775, 333, 1236, 1617, 1835, 2778, 365, 1010, 2540, 1991]\n0.0\n0.025\n0.025\n0.025\n0.025\n0.025\n0.025\n0.025\n0.025\n0.025\ncurrent_ground_truth_query: 229\ncurrent_ground_truth_query_set: {1537, 1666, 529, 919, 1954, 2595, 434, 1075, 2234, 1083, 452, 71, 715, 1231, 723, 726, 2521, 2011, 734, 2168}\ncurrent_predictions_list: [2011, 1162, 2585, 715, 387, 637, 769, 224, 2322, 418]\n0.05\n0.05\n0.05\n0.07500000000000001\n0.07500000000000001\n0.07500000000000001\n0.07500000000000001\n0.07500000000000001\n0.07500000000000001\n0.07500000000000001\ncurrent_ground_truth_query: 230\ncurrent_ground_truth_query_set: {1936, 977, 954, 1615}\ncurrent_predictions_list: [1263, 2437, 704, 1145, 1684, 354, 1451, 236, 983, 2542]\n0.0\n0.0\n0.0\n0.0\n0.0\n0.0\n0.0\n0.0\n0.0\n0.0\ncurrent_ground_truth_query: 231\ncurrent_ground_truth_query_set: {1858, 1478, 1000, 2827, 1804, 2318, 2096, 786, 1878, 2714, 475, 1951}\ncurrent_predictions_list: [134, 1391, 1478, 301, 2096, 126, 327, 763, 1991, 179]\n0.0\n0.0\n0.027777777777777776\n0.027777777777777776\n0.06111111111111111\n0.06111111111111111\n0.06111111111111111\n0.06111111111111111\n0.06111111111111111\n0.06111111111111111\ncurrent_ground_truth_query: 232\ncurrent_ground_truth_query_set: {387, 1164, 141, 1420, 2444, 2576, 2701, 2452, 1302, 23, 1817, 419, 2470, 2090, 44, 300, 1070, 1459, 2614, 592, 1875, 213, 598, 1495, 2135, 1115, 1888, 2407, 745, 1387, 1135, 2803, 2805, 2809, 634, 2044}\ncurrent_predictions_list: [2407, 575, 1897, 1875, 1070, 125, 612, 2809, 210, 1058]\n0.027777777777777776\n0.027777777777777776\n0.027777777777777776\n0.041666666666666664\n0.058333333333333334\n0.058333333333333334\n0.058333333333333334\n0.07222222222222222\n0.07222222222222222\n0.07222222222222222\ncurrent_ground_truth_query: 233\ncurrent_ground_truth_query_set: {2272, 73, 42, 2414, 2383, 1008, 562, 1844, 2550, 2008, 1976, 1081, 1342, 223}\ncurrent_predictions_list: [2550, 1710, 494, 92, 1404, 1342, 260, 1966, 17, 2753]\n0.07142857142857142\n0.07142857142857142\n0.07142857142857142\n0.07142857142857142\n0.07142857142857142\n0.09523809523809523\n0.09523809523809523\n0.09523809523809523\n0.09523809523809523\n0.09523809523809523\ncurrent_ground_truth_query: 234\ncurrent_ground_truth_query_set: {1026, 645, 649, 15, 1941, 161, 2727, 2728, 2858, 299, 2865, 1079, 1227, 2641, 1750, 1379, 1254, 2026, 367, 2415, 119, 123, 1277}\ncurrent_predictions_list: [1227, 1503, 1042, 142, 1656, 1839, 548, 1991, 1349, 2597]\n0.043478260869565216\n0.043478260869565216\n0.043478260869565216\n0.043478260869565216\n0.043478260869565216\n0.043478260869565216\n0.043478260869565216\n0.043478260869565216\n0.043478260869565216\n0.043478260869565216\ncurrent_ground_truth_query: 235\ncurrent_ground_truth_query_set: {899, 1283, 517, 2698, 2200, 39, 2609, 2874, 1988, 1605, 971, 2896, 727, 1116, 1897, 2163, 117, 2423, 1788}\ncurrent_predictions_list: [517, 2698, 2774, 1730, 922, 1088, 960, 1839, 2489, 2455]\n0.05263157894736842\n0.10526315789473684\n0.10526315789473684\n0.10526315789473684\n0.10526315789473684\n0.10526315789473684\n0.10526315789473684\n0.10526315789473684\n0.10526315789473684\n0.10526315789473684\ncurrent_ground_truth_query: 236\ncurrent_ground_truth_query_set: {2816, 836, 295, 2760, 587, 172, 2478, 623, 1039, 1436, 1114, 2075, 1404}\ncurrent_predictions_list: [1039, 2760, 587, 1404, 880, 1791, 2365, 1790, 1052, 724]\n0.07692307692307693\n0.15384615384615385\n0.23076923076923078\n0.3076923076923077\n0.3076923076923077\n0.3076923076923077\n0.3076923076923077\n0.3076923076923077\n0.3076923076923077\n0.3076923076923077\ncurrent_ground_truth_query: 237\ncurrent_ground_truth_query_set: {1152, 2465, 2723, 1062, 2393, 1833, 1226, 558, 209, 1525, 1241, 59}\ncurrent_predictions_list: [2050, 1062, 2847, 763, 1753, 2646, 1702, 1226, 856, 2808]\n0.0\n0.041666666666666664\n0.041666666666666664\n0.041666666666666664\n0.041666666666666664\n0.041666666666666664\n0.041666666666666664\n0.0625\n0.0625\n0.0625\ncurrent_ground_truth_query: 238\ncurrent_ground_truth_query_set: {1665, 637, 910, 527, 409, 2713, 2080, 2726, 1326, 1587, 54, 696, 2251, 2764, 79, 345, 1501, 2277, 748, 1784, 1149, 2302, 1023}\ncurrent_predictions_list: [1587, 2262, 1489, 1520, 993, 2325, 2313, 1188, 2207, 244]\n0.043478260869565216\n0.043478260869565216\n0.043478260869565216\n0.043478260869565216\n0.043478260869565216\n0.043478260869565216\n0.043478260869565216\n0.043478260869565216\n0.043478260869565216\n0.043478260869565216\ncurrent_ground_truth_query: 239\ncurrent_ground_truth_query_set: {1953, 1700, 456, 2345, 204, 369, 433, 2578, 1876, 789, 1919, 824, 1214, 1628, 862, 607}\ncurrent_predictions_list: [456, 1919, 1214, 1953, 2578, 137, 1647, 1876, 2366, 253]\n0.0625\n0.125\n0.1875\n0.25\n0.3125\n0.3125\n0.3125\n0.359375\n0.359375\n0.359375\ncurrent_ground_truth_query: 240\ncurrent_ground_truth_query_set: {2437, 2182, 1161, 650, 1170, 1172, 795, 416, 546, 1703, 2350, 2235, 321, 451, 580, 1096, 332, 1359, 480, 2791, 1259, 879, 368, 1007, 1010, 2799, 1145, 1533}\ncurrent_predictions_list: [2542, 2135, 657, 2795, 1832, 2882, 247, 2220, 1444, 333]\n0.0\n0.0\n0.0\n0.0\n0.0\n0.0\n0.0\n0.0\n0.0\n0.0\ncurrent_ground_truth_query: 241\ncurrent_ground_truth_query_set: {513, 2050, 2447, 2199, 927, 2850, 293, 1318, 1958, 2471, 2601, 429, 2223, 1841, 2103, 1989, 330, 1482, 78, 2511, 2003, 215, 2391, 89, 2013, 98, 1637, 108, 1021}\ncurrent_predictions_list: [2883, 504, 2509, 612, 1137, 2403, 2730, 2270, 245, 1637]\n0.0\n0.0\n0.0\n0.0\n0.0\n0.0\n0.0\n0.0\n0.0\n0.0034482758620689655\ncurrent_ground_truth_query: 242\ncurrent_ground_truth_query_set: {385, 2438, 1175, 932, 38, 2604, 1582, 2485, 1729, 455, 982, 612, 1508, 999, 617, 1514, 2409, 1136, 1524}\ncurrent_predictions_list: [2299, 1001, 2347, 455, 1180, 2535, 1642, 328, 617, 2496]\n0.0\n0.0\n0.0\n0.013157894736842105\n0.013157894736842105\n0.013157894736842105\n0.013157894736842105\n0.013157894736842105\n0.024853801169590642\n0.024853801169590642\ncurrent_ground_truth_query: 243\ncurrent_ground_truth_query_set: {2057, 2831, 530, 2454, 540, 1454, 2352, 1205, 1206, 1847, 442, 2556, 2620, 1600, 1856, 1474, 2497, 972, 981, 1122, 613, 742, 2796, 1390, 1660, 382}\ncurrent_predictions_list: [311, 1474, 1946, 134, 660, 775, 1361, 494, 347, 1553]\n0.0\n0.019230769230769232\n0.019230769230769232\n0.019230769230769232\n0.019230769230769232\n0.019230769230769232\n0.019230769230769232\n0.019230769230769232\n0.019230769230769232\n0.019230769230769232\ncurrent_ground_truth_query: 244\ncurrent_ground_truth_query_set: {2176, 2064, 274, 1945, 1946, 2205, 1693, 1695, 2215, 1065, 2092, 1840, 1204, 2612, 2232, 1089, 322, 2531, 1769, 1662}\ncurrent_predictions_list: [1695, 62, 671, 1570, 1660, 2737, 2148, 2744, 1827, 408]\n0.05\n0.05\n0.05\n0.05\n0.05\n0.05\n0.05\n0.05\n0.05\n0.05\ncurrent_ground_truth_query: 245\ncurrent_ground_truth_query_set: {1286, 777, 2833, 278, 2211, 549, 2469, 2346, 2610, 948, 2749, 2508, 1613, 1102, 2769, 1246, 2271, 351, 97, 2654, 1507, 100, 2410, 1142, 2551, 121, 2815}\ncurrent_predictions_list: [1896, 1392, 2769, 121, 1942, 1221, 2307, 1004, 1431, 1714]\n0.0\n0.0\n0.012345679012345678\n0.030864197530864196\n0.030864197530864196\n0.030864197530864196\n0.030864197530864196\n0.030864197530864196\n0.030864197530864196\n0.030864197530864196\ncurrent_ground_truth_query: 246\ncurrent_ground_truth_query_set: {705, 4, 550, 2439, 1224, 1352, 1384, 337, 1747, 1974, 1752, 2554, 1309, 318}\ncurrent_predictions_list: [358, 1611, 345, 942, 48, 2886, 1811, 1828, 2807, 1465]\n0.0\n0.0\n0.0\n0.0\n0.0\n0.0\n0.0\n0.0\n0.0\n0.0\ncurrent_ground_truth_query: 247\ncurrent_ground_truth_query_set: {1539, 2309, 1158, 1799, 2575, 913, 1938, 1811, 1688, 25, 2457, 29, 1957, 2853, 2856, 1449, 2731, 563, 1332, 1986, 1239, 1625, 1250, 2019, 1261, 2030, 2033, 510, 1279}\ncurrent_predictions_list: [1332, 2731, 2892, 913, 1957, 2038, 259, 2689, 2457, 29]\n0.034482758620689655\n0.06896551724137931\n0.06896551724137931\n0.09482758620689655\n0.12241379310344827\n0.12241379310344827\n0.12241379310344827\n0.12241379310344827\n0.14157088122605363\n0.16226053639846744\ncurrent_ground_truth_query: 248\ncurrent_ground_truth_query_set: {2528, 2147, 1765, 2590, 905, 1963, 2284, 494, 531, 341, 2039, 1112, 700, 1053, 638}\ncurrent_predictions_list: [2282, 1600, 1652, 1711, 370, 1476, 1561, 2, 2667, 154]\n0.0\n0.0\n0.0\n0.0\n0.0\n0.0\n0.0\n0.0\n0.0\n0.0\ncurrent_ground_truth_query: 249\ncurrent_ground_truth_query_set: {2819, 1291, 2699, 1293, 1294, 2061, 2065, 2834, 1305, 666, 153, 1689, 2719, 2721, 1831, 1837, 2094, 816, 58, 1850, 65, 1733, 585, 1868, 2002, 2515, 1109, 1373, 2397, 483, 1382, 1511, 1638, 2153, 2280, 118, 1272, 122}\ncurrent_predictions_list: [1143, 2504, 767, 1868, 1656, 1647, 2396, 26, 279, 2773]\n0.0\n0.0\n0.0\n0.006578947368421052\n0.006578947368421052\n0.006578947368421052\n0.006578947368421052\n0.006578947368421052\n0.006578947368421052\n0.006578947368421052\ncurrent_ground_truth_query: 250\ncurrent_ground_truth_query_set: {2017, 391, 1832, 2666, 2448, 2161, 2482, 243, 1654, 827, 477, 1631}\ncurrent_predictions_list: [1292, 581, 2648, 2312, 428, 1201, 2588, 1065, 1935, 2376]\n0.0\n0.0\n0.0\n0.0\n0.0\n0.0\n0.0\n0.0\n0.0\n0.0\ncurrent_ground_truth_query: 251\ncurrent_ground_truth_query_set: {2435, 646, 1671, 1546, 143, 1553, 21, 2840, 1311, 1197, 2872, 1471, 706, 2506, 1375, 876, 1260, 626, 1650, 120}\ncurrent_predictions_list: [626, 646, 120, 706, 1375, 2840, 1380, 1723, 1471, 397]\n0.05\n0.1\n0.15000000000000002\n0.2\n0.25\n0.3\n0.3\n0.3\n0.3388888888888889\n0.3388888888888889\ncurrent_ground_truth_query: 252\ncurrent_ground_truth_query_set: {834, 2884, 454, 1735, 1064, 2502, 2634, 2861, 2574, 2031, 976, 371, 435, 852, 2165, 506, 861, 2239}\ncurrent_predictions_list: [2165, 2762, 2266, 1448, 1287, 2642, 2659, 2852, 1066, 1030]\n0.05555555555555555\n0.05555555555555555\n0.05555555555555555\n0.05555555555555555\n0.05555555555555555\n0.05555555555555555\n0.05555555555555555\n0.05555555555555555\n0.05555555555555555\n0.05555555555555555\ncurrent_ground_truth_query: 253\ncurrent_ground_truth_query_set: {513, 2050, 2447, 2199, 927, 2850, 293, 1318, 1958, 2471, 2601, 429, 2223, 1841, 2103, 1989, 330, 1482, 78, 2511, 2003, 215, 2391, 89, 2013, 98, 1637, 108, 1021}\ncurrent_predictions_list: [2780, 1460, 1543, 2007, 1751, 2601, 21, 550, 988, 2421]\n0.0\n0.0\n0.0\n0.0\n0.0\n0.005747126436781609\n0.005747126436781609\n0.005747126436781609\n0.005747126436781609\n0.005747126436781609\ncurrent_ground_truth_query: 254\ncurrent_ground_truth_query_set: {519, 265, 1162, 780, 411, 1438, 1445, 2475, 956, 61, 703, 1225, 714, 2637, 2258, 472, 1244, 2140, 227, 240, 881, 2042, 252}\ncurrent_predictions_list: [703, 61, 1438, 982, 213, 1225, 240, 573, 881, 780]\n0.043478260869565216\n0.08695652173913043\n0.13043478260869565\n0.13043478260869565\n0.13043478260869565\n0.15942028985507245\n0.19047619047619047\n0.19047619047619047\n0.21946169772256727\n0.2498964803312629\ncurrent_ground_truth_query: 255\ncurrent_ground_truth_query_set: {1298, 1567, 554, 175, 560, 2351, 2230, 1849, 1466, 958, 1983, 1221, 1999, 1622, 2263, 2775, 2652, 2412, 2549, 2424}\ncurrent_predictions_list: [2525, 1298, 1849, 1466, 2185, 720, 958, 2768, 1939, 1740]\n0.0\n0.025\n0.058333333333333334\n0.09583333333333334\n0.09583333333333334\n0.09583333333333334\n0.1244047619047619\n0.1244047619047619\n0.1244047619047619\n0.1244047619047619\ncurrent_ground_truth_query: 256\ncurrent_ground_truth_query_set: {2, 522, 1805, 407, 1570, 1829, 1446, 62, 1346, 589, 471, 2136, 473, 2012, 605, 1502, 222, 998, 1398, 255}\ncurrent_predictions_list: [1829, 1954, 1805, 605, 1255, 1915, 255, 1672, 1105, 246]\n0.05\n0.05\n0.08333333333333334\n0.12083333333333335\n0.12083333333333335\n0.12083333333333335\n0.14940476190476193\n0.14940476190476193\n0.14940476190476193\n0.14940476190476193\ncurrent_ground_truth_query: 257\ncurrent_ground_truth_query_set: {1665, 637, 910, 527, 409, 2713, 2080, 2726, 1326, 1587, 54, 696, 2251, 2764, 79, 345, 1501, 2277, 748, 1784, 1149, 2302, 1023}\ncurrent_predictions_list: [973, 2892, 1442, 1280, 1964, 691, 245, 2404, 637, 1505]\n0.0\n0.0\n0.0\n0.0\n0.0\n0.0\n0.0\n0.0\n0.004830917874396135\n0.004830917874396135\ncurrent_ground_truth_query: 258\ncurrent_ground_truth_query_set: {2567, 2837, 1049, 2202, 1437, 547, 296, 808, 2480, 2233, 2491, 2881, 1095, 2631, 849, 728, 2145, 357, 874, 2794, 492, 753, 2162}\ncurrent_predictions_list: [2661, 1859, 2474, 2808, 364, 2220, 1010, 2707, 2145, 247]\n0.0\n0.0\n0.0\n0.0\n0.0\n0.0\n0.0\n0.0\n0.004830917874396135\n0.004830917874396135\ncurrent_ground_truth_query: 259\ncurrent_ground_truth_query_set: {2336, 450, 1222, 521, 653, 1773, 1264, 2864, 1715, 1080, 2777, 955}\ncurrent_predictions_list: [171, 955, 1264, 2813, 245, 2143, 771, 1031, 2294, 1537]\n0.0\n0.041666666666666664\n0.09722222222222221\n0.09722222222222221\n0.09722222222222221\n0.09722222222222221\n0.09722222222222221\n0.09722222222222221\n0.09722222222222221\n0.09722222222222221\ncurrent_ground_truth_query: 260\ncurrent_ground_truth_query_set: {2441, 2569, 148, 2585, 1572, 685, 2863, 1456, 2739, 1972, 2360, 1743, 2516, 359, 490, 1902, 113, 627, 2296}\ncurrent_predictions_list: [157, 2706, 2022, 1299, 2165, 2010, 512, 1984, 2251, 1902]\n0.0\n0.0\n0.0\n0.0\n0.0\n0.0\n0.0\n0.0\n0.0\n0.005263157894736842\ncurrent_ground_truth_query: 261\ncurrent_ground_truth_query_set: {1760, 1325, 2702, 1072, 81, 1138, 2674, 1783, 440, 1626}\ncurrent_predictions_list: [960, 1939, 2489, 2826, 171, 2105, 1172, 2149, 773, 1116]\n0.0\n0.0\n0.0\n0.0\n0.0\n0.0\n0.0\n0.0\n0.0\n0.0\ncurrent_ground_truth_query: 262\ncurrent_ground_truth_query_set: {2657, 1255, 1320, 2313, 1034, 2378, 2413, 1360, 1201, 1873, 2259, 2036, 2389, 502, 983, 2706, 830}\ncurrent_predictions_list: [330, 28, 1368, 1294, 1204, 2490, 999, 2660, 2391, 1320]\n0.0\n0.0\n0.0\n0.0\n0.0\n0.0\n0.0\n0.0\n0.0\n0.0058823529411764705\ncurrent_ground_truth_query: 263\ncurrent_ground_truth_query_set: {962, 1411, 2820, 615, 2431, 681, 2206, 2095, 1307, 916, 1012, 90, 379, 349, 350, 831}\ncurrent_predictions_list: [105, 2539, 2024, 244, 1837, 444, 820, 2431, 441, 681]\n0.0\n0.0\n0.0\n0.0\n0.0\n0.0\n0.0\n0.0078125\n0.0078125\n0.0203125\ncurrent_ground_truth_query: 264\ncurrent_ground_truth_query_set: {1120, 1157, 616, 1290, 267, 630, 28}\ncurrent_predictions_list: [1189, 2330, 1617, 2021, 120, 1471, 1862, 772, 396, 2549]\n0.0\n0.0\n0.0\n0.0\n0.0\n0.0\n0.0\n0.0\n0.0\n0.0\ncurrent_ground_truth_query: 265\ncurrent_ground_truth_query_set: {674, 1883, 2043, 2855, 2093, 303, 1329, 210, 1780, 344, 313, 731, 575}\ncurrent_predictions_list: [968, 600, 674, 2093, 348, 1443, 423, 2029, 898, 110]\n0.0\n0.0\n0.02564102564102564\n0.0641025641025641\n0.0641025641025641\n0.0641025641025641\n0.0641025641025641\n0.0641025641025641\n0.0641025641025641\n0.0641025641025641\ncurrent_ground_truth_query: 266\ncurrent_ground_truth_query_set: {2529, 1316, 2116, 2781, 1966, 1275, 784, 1711, 370, 788, 1238, 1240, 251, 92, 2173}\ncurrent_predictions_list: [1100, 92, 616, 151, 784, 2435, 683, 1966, 2065, 2886]\n0.0\n0.03333333333333333\n0.03333333333333333\n0.03333333333333333\n0.06\n0.06\n0.06\n0.08499999999999999\n0.08499999999999999\n0.08499999999999999\ncurrent_ground_truth_query: 267\ncurrent_ground_truth_query_set: {515, 8, 1421, 1432, 2458, 2332, 805, 1448, 2222, 1970, 67, 2628, 70, 838, 2758, 1097, 336, 2134, 2395, 476, 94, 1635, 2151, 2038}\ncurrent_predictions_list: [824, 1327, 2439, 843, 726, 1168, 474, 30, 361, 1874]\n0.0\n0.0\n0.0\n0.0\n0.0\n0.0\n0.0\n0.0\n0.0\n0.0\ncurrent_ground_truth_query: 268\ncurrent_ground_truth_query_set: {2177, 2311, 1428, 1812, 921, 2338, 1827, 1199, 1455, 2870, 567, 2487, 2873, 189, 2751, 964, 69, 1881, 1882, 1243, 733, 1119, 2028, 751, 884, 1908, 2676}\ncurrent_predictions_list: [751, 329, 189, 2734, 2426, 2404, 320, 1119, 869, 1708]\n0.037037037037037035\n0.037037037037037035\n0.06172839506172839\n0.06172839506172839\n0.06172839506172839\n0.06172839506172839\n0.06172839506172839\n0.07561728395061729\n0.07561728395061729\n0.07561728395061729\ncurrent_ground_truth_query: 269\ncurrent_ground_truth_query_set: {1565, 2852, 2297, 231, 1287, 809, 525, 664, 1433, 1211, 1117, 1854}\ncurrent_predictions_list: [1917, 2421, 2053, 473, 2792, 2031, 1075, 655, 2023, 1587]\n0.0\n0.0\n0.0\n0.0\n0.0\n0.0\n0.0\n0.0\n0.0\n0.0\ncurrent_ground_truth_query: 270\ncurrent_ground_truth_query_set: {2819, 1291, 2699, 1293, 1294, 2061, 2065, 2834, 1305, 666, 153, 1689, 2719, 2721, 1831, 1837, 2094, 816, 58, 1850, 65, 1733, 585, 1868, 2002, 2515, 1109, 1373, 2397, 483, 1382, 1511, 1638, 2153, 2280, 118, 1272, 122}\ncurrent_predictions_list: [1511, 347, 2515, 775, 2153, 2033, 358, 51, 585, 134]\n0.02631578947368421\n0.02631578947368421\n0.043859649122807015\n0.043859649122807015\n0.059649122807017535\n0.059649122807017535\n0.059649122807017535\n0.059649122807017535\n0.07134502923976607\n0.07134502923976607\ncurrent_ground_truth_query: 271\ncurrent_ground_truth_query_set: {1281, 1803, 526, 1939, 2067, 2072, 2077, 2720, 1443, 680, 2473, 1855, 576, 1349, 2757, 2123, 463, 335, 1236, 1877, 343, 2655, 105, 244, 2422}\ncurrent_predictions_list: [680, 105, 244, 2720, 2803, 2042, 857, 470, 1270, 355]\n0.04\n0.08\n0.12\n0.16\n0.16\n0.16\n0.16\n0.16\n0.16\n0.16\ncurrent_ground_truth_query: 272\ncurrent_ground_truth_query_set: {1163, 1931, 2319, 2449, 917, 1686, 1074, 2486, 826, 1726, 959, 1473, 709, 2503, 2001, 1884, 2018, 2533, 2544, 497, 888}\ncurrent_predictions_list: [753, 2233, 1163, 214, 2491, 1074, 1866, 251, 2347, 102]\n0.0\n0.0\n0.015873015873015872\n0.015873015873015872\n0.015873015873015872\n0.031746031746031744\n0.031746031746031744\n0.031746031746031744\n0.031746031746031744\n0.031746031746031744\ncurrent_ground_truth_query: 273\ncurrent_ground_truth_query_set: {515, 8, 1421, 1432, 2458, 2332, 805, 1448, 2222, 1970, 67, 2628, 70, 838, 2758, 1097, 336, 2134, 2395, 476, 94, 1635, 2151, 2038}\ncurrent_predictions_list: [343, 1698, 71, 2693, 2158, 1022, 2786, 576, 2655, 2453]\n0.0\n0.0\n0.0\n0.0\n0.0\n0.0\n0.0\n0.0\n0.0\n0.0\ncurrent_ground_truth_query: 274\ncurrent_ground_truth_query_set: {259, 2826, 1168, 1296, 405, 542, 1061, 689, 691, 1977, 1722, 711, 2889, 207, 2519, 602, 1516, 2673, 125, 1918}\ncurrent_predictions_list: [2889, 224, 2226, 774, 1587, 539, 418, 2443, 1837, 679]\n0.05\n0.05\n0.05\n0.05\n0.05\n0.05\n0.05\n0.05\n0.05\n0.05\ncurrent_ground_truth_query: 275\ncurrent_ground_truth_query_set: {906, 1676, 1818, 2587, 1828, 933, 1447, 1321, 1068, 1453, 51, 184, 2363, 2878, 1861, 583, 968, 863, 1388, 1778, 756, 2167, 253}\ncurrent_predictions_list: [1083, 1231, 1785, 2064, 151, 24, 1100, 1611, 1842, 1715]\n0.0\n0.0\n0.0\n0.0\n0.0\n0.0\n0.0\n0.0\n0.0\n0.0\ncurrent_ground_truth_query: 276\ncurrent_ground_truth_query_set: {2370, 2810, 2504, 331, 1006, 2608, 1559, 1370}\ncurrent_predictions_list: [1559, 178, 2104, 2732, 329, 1746, 2485, 1305, 1020, 229]\n0.125\n0.125\n0.125\n0.125\n0.125\n0.125\n0.125\n0.125\n0.125\n0.125\ncurrent_ground_truth_query: 277\ncurrent_ground_truth_query_set: {1378, 516, 1540, 902, 1607, 1766, 1866, 2189, 1424, 242, 535, 1336, 2359, 383}\ncurrent_predictions_list: [1378, 856, 77, 837, 2574, 2373, 941, 1735, 2752, 479]\n0.07142857142857142\n0.07142857142857142\n0.07142857142857142\n0.07142857142857142\n0.07142857142857142\n0.07142857142857142\n0.07142857142857142\n0.07142857142857142\n0.07142857142857142\n0.07142857142857142\ncurrent_ground_truth_query: 278\ncurrent_ground_truth_query_set: {1539, 2309, 1158, 1799, 2575, 913, 1938, 1811, 1688, 25, 2457, 29, 1957, 2853, 2856, 1449, 2731, 563, 1332, 1986, 1239, 1625, 1250, 2019, 1261, 2030, 2033, 510, 1279}\ncurrent_predictions_list: [29, 913, 1957, 1332, 284, 1861, 2457, 733, 1156, 340]\n0.034482758620689655\n0.06896551724137931\n0.10344827586206896\n0.13793103448275862\n0.13793103448275862\n0.13793103448275862\n0.1625615763546798\n0.1625615763546798\n0.1625615763546798\n0.1625615763546798\ncurrent_ground_truth_query: 279\ncurrent_ground_truth_query_set: {519, 265, 1162, 780, 411, 1438, 1445, 2475, 956, 61, 703, 1225, 714, 2637, 2258, 472, 1244, 2140, 227, 240, 881, 2042, 252}\ncurrent_predictions_list: [411, 1225, 978, 2258, 2269, 2497, 2042, 1410, 672, 780]\n0.043478260869565216\n0.08695652173913043\n0.08695652173913043\n0.11956521739130435\n0.11956521739130435\n0.11956521739130435\n0.14440993788819875\n0.14440993788819875\n0.14440993788819875\n0.16614906832298137\ncurrent_ground_truth_query: 280\ncurrent_ground_truth_query_set: {41, 170, 846, 1297, 1753, 1494, 2679, 601}\ncurrent_predictions_list: [1494, 1553, 345, 1582, 2513, 92, 1606, 1290, 494, 132]\n0.125\n0.125\n0.125\n0.125\n0.125\n0.125\n0.125\n0.125\n0.125\n0.125\ncurrent_ground_truth_query: 281\ncurrent_ground_truth_query_set: {2819, 1291, 2699, 1293, 1294, 2061, 2065, 2834, 1305, 666, 153, 1689, 2719, 2721, 1831, 1837, 2094, 816, 58, 1850, 65, 1733, 585, 1868, 2002, 2515, 1109, 1373, 2397, 483, 1382, 1511, 1638, 2153, 2280, 118, 1272, 122}\ncurrent_predictions_list: [585, 2153, 1655, 2515, 920, 1511, 1704, 1397, 875, 2850]\n0.02631578947368421\n0.05263157894736842\n0.05263157894736842\n0.07236842105263158\n0.07236842105263158\n0.08991228070175439\n0.08991228070175439\n0.08991228070175439\n0.08991228070175439\n0.08991228070175439\ncurrent_ground_truth_query: 282\ncurrent_ground_truth_query_set: {2694, 1194, 2730, 2450, 88, 2489, 1499, 1596, 2237}\ncurrent_predictions_list: [1708, 189, 1882, 1156, 706, 2795, 2265, 1, 2426, 1274]\n0.0\n0.0\n0.0\n0.0\n0.0\n0.0\n0.0\n0.0\n0.0\n0.0\ncurrent_ground_truth_query: 283\ncurrent_ground_truth_query_set: {64, 256, 2016, 2340, 2536, 1353, 1677, 1967, 1968, 466, 1106, 308, 2582, 1468, 2718, 287}\ncurrent_predictions_list: [1204, 1771, 1863, 1460, 2867, 746, 21, 1796, 1480, 1837]\n0.0\n0.0\n0.0\n0.0\n0.0\n0.0\n0.0\n0.0\n0.0\n0.0\ncurrent_ground_truth_query: 284\ncurrent_ground_truth_query_set: {2689, 642, 1794, 1413, 2058, 2329, 1182, 1191, 1589, 2229, 1082, 1732, 84, 730, 732, 2783, 2146, 2411, 115, 1013, 1400, 2041}\ncurrent_predictions_list: [1191, 863, 2123, 2359, 2210, 2689, 978, 31, 418, 1578]\n0.045454545454545456\n0.045454545454545456\n0.045454545454545456\n0.045454545454545456\n0.045454545454545456\n0.06060606060606061\n0.06060606060606061\n0.06060606060606061\n0.06060606060606061\n0.06060606060606061\ncurrent_ground_truth_query: 285\ncurrent_ground_truth_query_set: {2408, 713, 491, 1262, 1422, 1561, 2835, 1301, 246, 729, 1978, 763, 2813, 1755, 2143}\ncurrent_predictions_list: [2813, 1125, 1388, 1406, 1670, 491, 2640, 1128, 1382, 1262]\n0.06666666666666667\n0.06666666666666667\n0.06666666666666667\n0.06666666666666667\n0.06666666666666667\n0.08888888888888888\n0.08888888888888888\n0.08888888888888888\n0.08888888888888888\n0.10888888888888888\ncurrent_ground_truth_query: 286\ncurrent_ground_truth_query_set: {524, 1552, 2838, 2078, 673, 290, 43, 811, 2737, 2354, 2613, 186, 2890, 2381, 1363, 1500, 993, 2661, 2534, 1643, 1134, 2166, 1276, 639}\ncurrent_predictions_list: [811, 2542, 1863, 2534, 224, 2895, 559, 2156, 746, 2320]\n0.041666666666666664\n0.041666666666666664\n0.041666666666666664\n0.0625\n0.0625\n0.0625\n0.0625\n0.0625\n0.0625\n0.0625\ncurrent_ground_truth_query: 287\ncurrent_ground_truth_query_set: {264, 201, 648, 2107, 2505, 365, 1742, 591, 1144, 2779, 1051, 1534}\ncurrent_predictions_list: [1051, 1642, 450, 747, 2107, 365, 469, 264, 610, 591]\n0.08333333333333333\n0.08333333333333333\n0.08333333333333333\n0.08333333333333333\n0.11666666666666667\n0.15833333333333333\n0.15833333333333333\n0.19999999999999998\n0.19999999999999998\n0.24166666666666664\ncurrent_ground_truth_query: 288\ncurrent_ground_truth_query_set: {386, 1800, 151, 24, 286, 928, 2848, 943, 1207, 572, 1727, 2125, 718, 82, 470, 1504, 2784, 866, 872, 1532}\ncurrent_predictions_list: [2210, 2848, 1918, 2032, 2463, 229, 418, 40, 2123, 592]\n0.0\n0.025\n0.025\n0.025\n0.025\n0.025\n0.025\n0.025\n0.025\n0.025\ncurrent_ground_truth_query: 289\ncurrent_ground_truth_query_set: {2819, 1291, 2699, 1293, 1294, 2061, 2065, 2834, 1305, 666, 153, 1689, 2719, 2721, 1831, 1837, 2094, 816, 58, 1850, 65, 1733, 585, 1868, 2002, 2515, 1109, 1373, 2397, 483, 1382, 1511, 1638, 2153, 2280, 118, 1272, 122}\ncurrent_predictions_list: [2515, 1511, 2721, 1291, 1382, 51, 585, 2153, 2065, 134]\n0.02631578947368421\n0.05263157894736842\n0.07894736842105263\n0.10526315789473684\n0.13157894736842105\n0.13157894736842105\n0.15413533834586465\n0.17716165413533833\n0.2005534670008354\n0.2005534670008354\ncurrent_ground_truth_query: 290\ncurrent_ground_truth_query_set: {1286, 777, 2833, 278, 2211, 549, 2469, 2346, 2610, 948, 2749, 2508, 1613, 1102, 2769, 1246, 2271, 351, 97, 2654, 1507, 100, 2410, 1142, 2551, 121, 2815}\ncurrent_predictions_list: [2749, 2508, 1613, 1658, 2670, 2088, 2469, 1507, 99, 2048]\n0.037037037037037035\n0.07407407407407407\n0.1111111111111111\n0.1111111111111111\n0.1111111111111111\n0.1111111111111111\n0.13227513227513227\n0.1554232804232804\n0.1554232804232804\n0.1554232804232804\ncurrent_ground_truth_query: 291\ncurrent_ground_truth_query_set: {2467, 1233, 820, 441, 636, 2558, 767}\ncurrent_predictions_list: [2467, 2451, 767, 2765, 2558, 2322, 1487, 920, 193, 1328]\n0.14285714285714285\n0.14285714285714285\n0.23809523809523808\n0.23809523809523808\n0.32380952380952377\n0.32380952380952377\n0.32380952380952377\n0.32380952380952377\n0.32380952380952377\n0.32380952380952377\ncurrent_ground_truth_query: 292\ncurrent_ground_truth_query_set: {388, 908, 142, 655, 1166, 2194, 2589, 1310, 2597, 1580, 2868, 1595, 446, 833, 1232, 1748, 2658, 2285, 1905, 508}\ncurrent_predictions_list: [142, 2597, 508, 1232, 2337, 1556, 425, 2518, 137, 1656]\n0.05\n0.1\n0.15000000000000002\n0.2\n0.2\n0.2\n0.2\n0.2\n0.2\n0.2\ncurrent_ground_truth_query: 293\ncurrent_ground_truth_query_set: {134, 1655, 392, 651, 1675, 13, 660, 2709, 790, 283, 2460, 2588, 544, 2598, 430, 2606, 309, 2102, 311, 1975, 2744, 2364, 320, 1345, 1219, 2118, 1351, 1991, 2376, 2250, 984, 1498, 989, 478, 2270, 2148, 2404, 2025, 2665, 875, 2667, 2795, 1646, 2032, 247, 2428, 126}\ncurrent_predictions_list: [13, 1812, 875, 2709, 478, 202, 2403, 171, 1882, 1939]\n0.02127659574468085\n0.02127659574468085\n0.035460992907801414\n0.05141843971631205\n0.06843971631205673\n0.06843971631205673\n0.06843971631205673\n0.06843971631205673\n0.06843971631205673\n0.06843971631205673\ncurrent_ground_truth_query: 294\ncurrent_ground_truth_query_set: {2530, 2372, 935, 2472, 2696, 2282, 555, 2734, 2324, 534, 2071, 2106}\ncurrent_predictions_list: [2106, 2404, 2472, 2632, 629, 22, 2461, 1119, 2131, 2878]\n0.08333333333333333\n0.08333333333333333\n0.1388888888888889\n0.1388888888888889\n0.1388888888888889\n0.1388888888888889\n0.1388888888888889\n0.1388888888888889\n0.1388888888888889\n0.1388888888888889\ncurrent_ground_truth_query: 295\ncurrent_ground_truth_query_set: {387, 1164, 141, 1420, 2444, 2576, 2701, 2452, 1302, 23, 1817, 419, 2470, 2090, 44, 300, 1070, 1459, 2614, 592, 1875, 213, 598, 1495, 2135, 1115, 1888, 2407, 745, 1387, 1135, 2803, 2805, 2809, 634, 2044}\ncurrent_predictions_list: [2805, 1459, 1888, 1420, 627, 220, 2135, 141, 46, 448]\n0.027777777777777776\n0.05555555555555555\n0.08333333333333333\n0.1111111111111111\n0.1111111111111111\n0.1111111111111111\n0.13095238095238093\n0.15178571428571427\n0.15178571428571427\n0.15178571428571427\ncurrent_ground_truth_query: 296\ncurrent_ground_truth_query_set: {769, 131, 2563, 1416, 1932, 909, 1556, 2325, 2198, 1563, 27, 2593, 2082, 1187, 2343, 1333, 1612, 590, 975, 2131, 216, 857, 1503, 2786, 358, 1521, 2680}\ncurrent_predictions_list: [27, 2131, 769, 1416, 131, 2094, 1578, 2325, 674, 630]\n0.037037037037037035\n0.07407407407407407\n0.1111111111111111\n0.14814814814814814\n0.18518518518518517\n0.18518518518518517\n0.18518518518518517\n0.21296296296296297\n0.21296296296296297\n0.21296296296296297\ncurrent_ground_truth_query: 297\ncurrent_ground_truth_query_set: {2114, 2242, 1668, 422, 428, 2732, 1423, 624, 2735, 2846, 2611, 1430, 2806, 536, 2682, 285, 574, 671}\ncurrent_predictions_list: [2846, 2682, 2352, 2581, 2838, 716, 2645, 1678, 2242, 1430]\n0.05555555555555555\n0.1111111111111111\n0.1111111111111111\n0.1111111111111111\n0.1111111111111111\n0.1111111111111111\n0.1111111111111111\n0.1111111111111111\n0.12962962962962962\n0.15185185185185185\ncurrent_ground_truth_query: 298\ncurrent_ground_truth_query_set: {1024, 1914, 2712, 182}\ncurrent_predictions_list: [1914, 2849, 1643, 342, 1547, 2446, 2349, 1296, 1863, 2792]\n0.25\n0.25\n0.25\n0.25\n0.25\n0.25\n0.25\n0.25\n0.25\n0.25\ncurrent_ground_truth_query: 299\ncurrent_ground_truth_query_set: {504, 1009, 1330, 2552}\ncurrent_predictions_list: [2743, 2867, 2660, 2275, 9, 2396, 1204, 1837, 2391, 1593]\n0.0\n0.0\n0.0\n0.0\n0.0\n0.0\n0.0\n0.0\n0.0\n0.0\ncurrent_ground_truth_query: 300\ncurrent_ground_truth_query_set: {1953, 1700, 456, 2345, 204, 369, 433, 2578, 1876, 789, 1919, 824, 1214, 1628, 862, 607}\ncurrent_predictions_list: [789, 862, 369, 1700, 2345, 1778, 1953, 1628, 2717, 204]\n0.0625\n0.125\n0.1875\n0.25\n0.3125\n0.3125\n0.36607142857142855\n0.42075892857142855\n0.42075892857142855\n0.47075892857142854\ncurrent_ground_truth_query: 301\ncurrent_ground_truth_query_set: {2049, 133, 520, 2184, 523, 2317, 14, 400, 2579, 1174, 2462, 2209, 162, 930, 1955, 1573, 2086, 2213, 1960, 2339, 810, 2342, 940, 2862, 47, 432, 1714, 2483, 2741, 183, 2617, 570, 1470, 2500, 837, 2888, 1865, 1354, 724, 853, 854, 1492, 1620, 2390, 2520, 1374, 1632, 2656, 1893, 235, 620, 2286, 1904, 755, 1139, 2291, 758, 2169, 2170, 1403, 2046, 1791}\ncurrent_predictions_list: [389, 1620, 2629, 1139, 1497, 525, 1374, 2216, 2317, 809]\n0.0\n0.008064516129032258\n0.008064516129032258\n0.016129032258064516\n0.016129032258064516\n0.016129032258064516\n0.023041474654377878\n0.023041474654377878\n0.030209933435739883\n0.030209933435739883\ncurrent_ground_truth_query: 302\ncurrent_ground_truth_query_set: {2049, 133, 520, 2184, 523, 2317, 14, 400, 2579, 1174, 2462, 2209, 162, 930, 1955, 1573, 2086, 2213, 1960, 2339, 810, 2342, 940, 2862, 47, 432, 1714, 2483, 2741, 183, 2617, 570, 1470, 2500, 837, 2888, 1865, 1354, 724, 853, 854, 1492, 1620, 2390, 2520, 1374, 1632, 2656, 1893, 235, 620, 2286, 1904, 755, 1139, 2291, 758, 2169, 2170, 1403, 2046, 1791}\ncurrent_predictions_list: [1632, 1470, 2741, 930, 2888, 620, 1960, 235, 1354, 1893]\n0.016129032258064516\n0.03225806451612903\n0.04838709677419355\n0.06451612903225806\n0.08064516129032258\n0.0967741935483871\n0.11290322580645161\n0.12903225806451613\n0.14516129032258063\n0.16129032258064513\ncurrent_ground_truth_query: 303\ncurrent_ground_truth_query_set: {1289, 12, 273, 1822, 543, 1189, 1704, 565, 438, 2745, 314, 1867, 2640, 1237, 2138, 1253, 1391, 2159, 2430, 895}\ncurrent_predictions_list: [531, 543, 184, 2254, 1763, 1321, 1013, 2688, 1752, 830]\n0.0\n0.025\n0.025\n0.025\n0.025\n0.025\n0.025\n0.025\n0.025\n0.025\ncurrent_ground_truth_query: 304\ncurrent_ground_truth_query_set: {1792, 34, 1634, 2275, 741, 2245, 1127, 2662, 1611, 2605, 597, 245, 949, 1014, 2459, 447}\ncurrent_predictions_list: [2648, 462, 1611, 1935, 1763, 1391, 597, 1154, 345, 1598]\n0.0\n0.0\n0.020833333333333332\n0.020833333333333332\n0.020833333333333332\n0.020833333333333332\n0.03869047619047619\n0.03869047619047619\n0.03869047619047619\n0.03869047619047619\ncurrent_ground_truth_query: 305\ncurrent_ground_truth_query_set: {1184, 1154, 2564, 488, 2697, 1706, 2347, 1836, 2509, 206, 559, 1842, 2738, 1176, 1179, 1148, 414}\ncurrent_predictions_list: [328, 641, 2299, 2347, 1228, 2836, 1974, 2013, 1706, 1311]\n0.0\n0.0\n0.0\n0.014705882352941176\n0.014705882352941176\n0.014705882352941176\n0.014705882352941176\n0.014705882352941176\n0.027777777777777776\n0.027777777777777776\ncurrent_ground_truth_query: 306\ncurrent_ground_truth_query_set: {1857, 844, 45, 2893, 1040, 828}\ncurrent_predictions_list: [1040, 801, 315, 1363, 671, 2037, 558, 2464, 2148, 1094]\n0.16666666666666666\n0.16666666666666666\n0.16666666666666666\n0.16666666666666666\n0.16666666666666666\n0.16666666666666666\n0.16666666666666666\n0.16666666666666666\n0.16666666666666666\n0.16666666666666666\ncurrent_ground_truth_query: 307\ncurrent_ground_truth_query_set: {524, 1552, 2838, 2078, 673, 290, 43, 811, 2737, 2354, 2613, 186, 2890, 2381, 1363, 1500, 993, 2661, 2534, 1643, 1134, 2166, 1276, 639}\ncurrent_predictions_list: [811, 2661, 2010, 908, 224, 1918, 2441, 1359, 1448, 1780]\n0.041666666666666664\n0.08333333333333333\n0.08333333333333333\n0.08333333333333333\n0.08333333333333333\n0.08333333333333333\n0.08333333333333333\n0.08333333333333333\n0.08333333333333333\n0.08333333333333333\ncurrent_ground_truth_query: 308\ncurrent_ground_truth_query_set: {2432, 2561, 773, 1159, 2695, 2825, 1802, 1035, 654, 16, 2193, 1042, 22, 663, 2463, 2208, 1185, 2210, 548, 1319, 425, 1578, 1588, 1716, 1334, 2742, 702, 960, 1088, 707, 1990, 200, 841, 842, 1229, 2766, 1103, 1487, 2388, 2773, 2518, 2782, 2405, 1126, 1512, 363, 2160, 2293, 1782, 1530, 2171, 892, 2814}\ncurrent_predictions_list: [2695, 2262, 2463, 1490, 2207, 526, 295, 2813, 1977, 993]\n0.018867924528301886\n0.018867924528301886\n0.031446540880503145\n0.031446540880503145\n0.031446540880503145\n0.031446540880503145\n0.031446540880503145\n0.031446540880503145\n0.031446540880503145\n0.031446540880503145\ncurrent_ground_truth_query: 309\ncurrent_ground_truth_query_set: {481, 1415, 2377, 1258, 268, 1917, 1358, 2638, 2807, 2174, 158, 2300, 1181, 1054, 479}\ncurrent_predictions_list: [1054, 214, 1415, 1056, 1976, 2764, 1092, 402, 1807, 2172]\n0.06666666666666667\n0.06666666666666667\n0.1111111111111111\n0.1111111111111111\n0.1111111111111111\n0.1111111111111111\n0.1111111111111111\n0.1111111111111111\n0.1111111111111111\n0.1111111111111111\ncurrent_ground_truth_query: 310\ncurrent_ground_truth_query_set: {32, 355, 1636, 230, 1019, 1894, 1926, 1338, 1518, 1616, 1937, 725, 86, 410, 667, 1820, 2493, 2622}\ncurrent_predictions_list: [811, 2661, 982, 418, 2087, 2145, 1863, 2542, 1536, 2265]\n0.0\n0.0\n0.0\n0.0\n0.0\n0.0\n0.0\n0.0\n0.0\n0.0\ncurrent_ground_truth_query: 311\ncurrent_ground_truth_query_set: {2883, 682, 1451, 2514, 408, 2623}\ncurrent_predictions_list: [1510, 679, 2391, 1480, 1971, 2031, 988, 2539, 1146, 2023]\n0.0\n0.0\n0.0\n0.0\n0.0\n0.0\n0.0\n0.0\n0.0\n0.0\ncurrent_ground_truth_query: 312\ncurrent_ground_truth_query_set: {1286, 777, 2833, 278, 2211, 549, 2469, 2346, 2610, 948, 2749, 2508, 1613, 1102, 2769, 1246, 2271, 351, 97, 2654, 1507, 100, 2410, 1142, 2551, 121, 2815}\ncurrent_predictions_list: [1142, 100, 351, 1356, 2833, 2643, 2410, 549, 2211, 1286]\n0.037037037037037035\n0.07407407407407407\n0.1111111111111111\n0.1111111111111111\n0.14074074074074072\n0.14074074074074072\n0.16719576719576718\n0.19497354497354497\n0.2237801293356849\n0.25340975896531454\ncurrent_ground_truth_query: 313\ncurrent_ground_truth_query_set: {384, 2178, 659, 2197, 2455, 687, 2101, 1350, 1992, 1481, 1739, 1995, 847, 1509, 2022, 493, 237, 238, 878, 2811}\ncurrent_predictions_list: [1858, 811, 2010, 247, 224, 493, 2087, 2542, 2278, 2586]\n0.0\n0.0\n0.0\n0.0\n0.0\n0.008333333333333333\n0.008333333333333333\n0.008333333333333333\n0.008333333333333333\n0.008333333333333333\ncurrent_ground_truth_query: 314\ncurrent_ground_truth_query_set: {1280, 1, 390, 2054, 9, 396, 2703, 2192, 1691, 1308, 2204, 160, 288, 2426, 176, 2867, 1985, 1730, 579, 196, 1862, 974, 2642, 212, 2133, 2007, 91, 2273, 2792, 2154, 1772, 890}\ncurrent_predictions_list: [2001, 1078, 396, 284, 2426, 2871, 733, 181, 2576, 141]\n0.0\n0.0\n0.010416666666666666\n0.010416666666666666\n0.02291666666666667\n0.02291666666666667\n0.02291666666666667\n0.02291666666666667\n0.02291666666666667\n0.02291666666666667\ncurrent_ground_truth_query: 315\ncurrent_ground_truth_query_set: {610, 323, 1091, 2274, 1609, 2776, 1328, 2490, 2705, 1203, 1684, 1397, 2770, 152, 2778, 474, 1949, 1598}\ncurrent_predictions_list: [1010, 786, 2523, 1274, 1263, 1022, 1564, 936, 2083, 333]\n0.0\n0.0\n0.0\n0.0\n0.0\n0.0\n0.0\n0.0\n0.0\n0.0\ncurrent_ground_truth_query: 316\ncurrent_ground_truth_query_set: {1248, 2716, 354, 2691, 804, 2851, 1864, 1545, 683, 305, 1490, 1076, 1460, 2772, 1911, 412, 606, 415}\ncurrent_predictions_list: [1864, 1490, 1235, 804, 1690, 927, 962, 220, 2207, 2851]\n0.05555555555555555\n0.1111111111111111\n0.1111111111111111\n0.15277777777777776\n0.15277777777777776\n0.15277777777777776\n0.15277777777777776\n0.15277777777777776\n0.15277777777777776\n0.175\ncurrent_ground_truth_query: 317\ncurrent_ground_truth_query_set: {845, 37, 1486, 2020}\ncurrent_predictions_list: [1391, 2886, 494, 37, 352, 179, 1486, 132, 1758, 1606]\n0.0\n0.0\n0.0\n0.0625\n0.0625\n0.0625\n0.13392857142857142\n0.13392857142857142\n0.13392857142857142\n0.13392857142857142\ncurrent_ground_truth_query: 318\ncurrent_ground_truth_query_set: {2560, 1442, 1603, 2053, 1480, 361, 171, 619, 843, 1707, 2572, 1520, 1745, 2545, 1749, 694, 56, 541}\ncurrent_predictions_list: [1643, 56, 2473, 470, 1593, 2710, 2396, 342, 2658, 123]\n0.0\n0.027777777777777776\n0.027777777777777776\n0.027777777777777776\n0.027777777777777776\n0.027777777777777776\n0.027777777777777776\n0.027777777777777776\n0.027777777777777776\n0.027777777777777776\ncurrent_ground_truth_query: 319\ncurrent_ground_truth_query_set: {962, 1411, 2820, 615, 2431, 681, 2206, 2095, 1307, 916, 1012, 90, 379, 349, 350, 831}\ncurrent_predictions_list: [2031, 1440, 2201, 123, 1603, 2198, 371, 765, 1796, 1238]\n0.0\n0.0\n0.0\n0.0\n0.0\n0.0\n0.0\n0.0\n0.0\n0.0\ncurrent_ground_truth_query: 320\ncurrent_ground_truth_query_set: {1536, 324, 199, 1543, 1323, 173, 496, 1649, 690, 1555, 2098, 2130, 2224, 1529}\ncurrent_predictions_list: [2474, 2098, 2845, 2130, 2785, 2324, 1555, 1206, 1832, 2220]\n0.0\n0.03571428571428571\n0.03571428571428571\n0.07142857142857142\n0.07142857142857142\n0.07142857142857142\n0.1020408163265306\n0.1020408163265306\n0.1020408163265306\n0.1020408163265306\ncurrent_ground_truth_query: 321\ncurrent_ground_truth_query_set: {1808, 19, 1306, 1819, 413, 2214, 553, 2298, 1710, 1838, 2618, 1086, 2110, 1602, 840, 1738, 1100, 1871, 1489, 2517, 2524, 2790, 1648, 1906, 1402, 1150}\ncurrent_predictions_list: [601, 1710, 587, 413, 2175, 2183, 92, 458, 2537, 1321]\n0.0\n0.019230769230769232\n0.019230769230769232\n0.038461538461538464\n0.038461538461538464\n0.038461538461538464\n0.038461538461538464\n0.038461538461538464\n0.038461538461538464\n0.038461538461538464\ncurrent_ground_truth_query: 322\ncurrent_ground_truth_query_set: {356, 1830, 2535, 1001, 1642, 561, 2066, 310, 798, 2847}\ncurrent_predictions_list: [1122, 1856, 612, 927, 1461, 1284, 1230, 2258, 1030, 6]\n0.0\n0.0\n0.0\n0.0\n0.0\n0.0\n0.0\n0.0\n0.0\n0.0\ncurrent_ground_truth_query: 323\ncurrent_ground_truth_query_set: {1664, 129, 135, 72, 1928, 1098, 1929, 652, 1084, 1806, 1011, 759, 2843, 668, 701}\ncurrent_predictions_list: [704, 1639, 1846, 2231, 2252, 391, 398, 2179, 774, 292]\n0.0\n0.0\n0.0\n0.0\n0.0\n0.0\n0.0\n0.0\n0.0\n0.0\ncurrent_ground_truth_query: 324\ncurrent_ground_truth_query_set: {1890, 2083, 900, 1591, 2115, 1639, 719, 1202, 532, 1594, 855, 1624, 281, 218, 859, 2812, 669, 2494}\ncurrent_predictions_list: [2115, 774, 886, 205, 900, 750, 1000, 2506, 17, 2858]\n0.05555555555555555\n0.05555555555555555\n0.05555555555555555\n0.05555555555555555\n0.07777777777777778\n0.07777777777777778\n0.07777777777777778\n0.07777777777777778\n0.07777777777777778\n0.07777777777777778\ncurrent_ground_truth_query: 325\ncurrent_ground_truth_query_set: {2114, 2242, 1668, 422, 428, 2732, 1423, 624, 2735, 2846, 2611, 1430, 2806, 536, 2682, 285, 574, 671}\ncurrent_predictions_list: [422, 2611, 1205, 671, 1116, 2436, 2838, 1660, 875, 2393]\n0.05555555555555555\n0.1111111111111111\n0.1111111111111111\n0.15277777777777776\n0.15277777777777776\n0.15277777777777776\n0.15277777777777776\n0.15277777777777776\n0.15277777777777776\n0.15277777777777776\ncurrent_ground_truth_query: 326\ncurrent_ground_truth_query_set: {708, 2822, 1575, 136, 76, 1614, 2128, 1041, 1777, 979, 468, 1813, 1462, 2068, 2164, 250, 2684, 2301}\ncurrent_predictions_list: [2128, 2523, 2250, 140, 2032, 2006, 1698, 136, 2140, 2193]\n0.05555555555555555\n0.05555555555555555\n0.05555555555555555\n0.05555555555555555\n0.05555555555555555\n0.05555555555555555\n0.05555555555555555\n0.06944444444444445\n0.06944444444444445\n0.06944444444444445\ncurrent_ground_truth_query: 327\ncurrent_ground_truth_query_set: {897, 266, 2708, 1429, 1046, 1441, 2341, 174, 1604, 1223, 333, 596, 1369, 2010, 2009, 1383, 1895, 362, 112, 757}\ncurrent_predictions_list: [174, 757, 208, 2010, 2474, 2427, 1056, 2313, 2122, 333]\n0.05\n0.1\n0.1\n0.1375\n0.1375\n0.1375\n0.1375\n0.1375\n0.1375\n0.15750000000000003\ncurrent_ground_truth_query: 328\ncurrent_ground_truth_query_set: {1378, 516, 1540, 902, 1607, 1766, 1866, 2189, 1424, 242, 535, 1336, 2359, 383}\ncurrent_predictions_list: [389, 2822, 2216, 1532, 372, 2814, 2027, 1832, 2590, 2449]\n0.0\n0.0\n0.0\n0.0\n0.0\n0.0\n0.0\n0.0\n0.0\n0.0\ncurrent_ground_truth_query: 329\ncurrent_ground_truth_query_set: {992, 1440, 1737, 1488, 1169, 951}\ncurrent_predictions_list: [1169, 977, 2528, 1337, 382, 2844, 2539, 944, 2725, 1762]\n0.16666666666666666\n0.16666666666666666\n0.16666666666666666\n0.16666666666666666\n0.16666666666666666\n0.16666666666666666\n0.16666666666666666\n0.16666666666666666\n0.16666666666666666\n0.16666666666666666\ncurrent_ground_truth_query: 330\ncurrent_ground_truth_query_set: {1163, 1931, 2319, 2449, 917, 1686, 1074, 2486, 826, 1726, 959, 1473, 709, 2503, 2001, 1884, 2018, 2533, 2544, 497, 888}\ncurrent_predictions_list: [2533, 917, 2319, 497, 888, 513, 2527, 275, 2668, 328]\n0.047619047619047616\n0.09523809523809523\n0.14285714285714285\n0.19047619047619047\n0.23809523809523808\n0.23809523809523808\n0.23809523809523808\n0.23809523809523808\n0.23809523809523808\n0.23809523809523808\ncurrent_ground_truth_query: 331\ncurrent_ground_truth_query_set: {1408, 2700, 1047, 792, 929, 35, 304, 945, 2100, 1337, 60, 573, 1343, 2112, 2754, 1479, 2512, 1235, 1371, 2267, 1892, 232, 1389, 752}\ncurrent_predictions_list: [746, 2754, 2539, 1771, 2380, 1343, 2566, 977, 1863, 2015]\n0.0\n0.020833333333333332\n0.020833333333333332\n0.020833333333333332\n0.020833333333333332\n0.034722222222222224\n0.034722222222222224\n0.034722222222222224\n0.034722222222222224\n0.034722222222222224\ncurrent_ground_truth_query: 332\ncurrent_ground_truth_query_set: {224, 226, 1667, 677, 102, 106, 2283, 2442, 877, 48, 657, 946, 1361, 1044, 1685, 1078, 2484, 2621}\ncurrent_predictions_list: [1037, 1924, 2322, 1274, 228, 1228, 786, 2800, 2235, 641]\n0.0\n0.0\n0.0\n0.0\n0.0\n0.0\n0.0\n0.0\n0.0\n0.0\ncurrent_ground_truth_query: 333\ncurrent_ground_truth_query_set: {1037, 918, 2330, 1569, 1825, 166, 1584, 2882, 2374, 973, 2895, 1617, 851, 1108, 2403, 869, 103, 381, 2045}\ncurrent_predictions_list: [236, 1037, 23, 1835, 197, 1375, 2557, 1077, 1884, 2159]\n0.0\n0.02631578947368421\n0.02631578947368421\n0.02631578947368421\n0.02631578947368421\n0.02631578947368421\n0.02631578947368421\n0.02631578947368421\n0.02631578947368421\n0.02631578947368421\ncurrent_ground_truth_query: 334\ncurrent_ground_truth_query_set: {640, 737, 194, 578, 2756, 1736, 1266, 1943, 697, 156, 1405, 2526}\ncurrent_predictions_list: [1266, 2598, 2827, 1704, 2340, 875, 2667, 596, 1634, 126]\n0.08333333333333333\n0.08333333333333333\n0.08333333333333333\n0.08333333333333333\n0.08333333333333333\n0.08333333333333333\n0.08333333333333333\n0.08333333333333333\n0.08333333333333333\n0.08333333333333333\ncurrent_ground_truth_query: 335\ncurrent_ground_truth_query_set: {1313, 2276, 870, 1031, 1450, 2443, 2603, 2892, 528, 912, 1680, 2262, 569, 444, 2750}\ncurrent_predictions_list: [1031, 2892, 864, 1964, 259, 1537, 2193, 245, 2227, 1388]\n0.06666666666666667\n0.13333333333333333\n0.13333333333333333\n0.13333333333333333\n0.13333333333333333\n0.13333333333333333\n0.13333333333333333\n0.13333333333333333\n0.13333333333333333\n0.13333333333333333\ncurrent_ground_truth_query: 336\ncurrent_ground_truth_query_set: {128, 1027, 36, 1155, 2651, 2119, 584, 744, 2788, 2793, 2798, 2704, 467, 791, 346, 507, 2268}\ncurrent_predictions_list: [1388, 1819, 361, 529, 51, 2574, 1412, 1062, 600, 1755]\n0.0\n0.0\n0.0\n0.0\n0.0\n0.0\n0.0\n0.0\n0.0\n0.0\ncurrent_ground_truth_query: 337\ncurrent_ground_truth_query_set: {1921, 907, 1171, 1183, 802, 2607, 1464, 829, 2121, 2771, 1496, 2649, 221, 1247, 622, 2543, 880, 765, 1790}\ncurrent_predictions_list: [802, 95, 2084, 1403, 995, 2184, 2818, 2568, 765, 354]\n0.05263157894736842\n0.05263157894736842\n0.05263157894736842\n0.05263157894736842\n0.05263157894736842\n0.05263157894736842\n0.05263157894736842\n0.05263157894736842\n0.06432748538011696\n0.06432748538011696\ncurrent_ground_truth_query: 338\ncurrent_ground_truth_query_set: {2818, 771, 145, 404, 280, 1052, 2216, 302, 2356, 185, 2746, 193, 203, 2386, 1497, 858, 219, 608, 867, 631}\ncurrent_predictions_list: [432, 2086, 809, 2746, 929, 302, 1043, 2291, 2656, 2216]\n0.0\n0.0\n0.0\n0.0125\n0.0125\n0.029166666666666667\n0.029166666666666667\n0.029166666666666667\n0.029166666666666667\n0.04416666666666667\ncurrent_ground_truth_query: 339\ncurrent_ground_truth_query_set: {1028, 1284, 1030, 2059, 2074, 2220, 1583, 1969, 1461, 2368, 716, 2510, 2132, 987, 1251, 2787, 2668, 1645, 2542, 1268, 887}\ncurrent_predictions_list: [2407, 1897, 716, 1875, 2509, 2090, 2715, 612, 1856, 595]\n0.0\n0.0\n0.015873015873015872\n0.015873015873015872\n0.015873015873015872\n0.015873015873015872\n0.015873015873015872\n0.015873015873015872\n0.015873015873015872\n0.015873015873015872\ncurrent_ground_truth_query: 340\ncurrent_ground_truth_query_set: {1921, 907, 1171, 1183, 802, 2607, 1464, 829, 2121, 2771, 1496, 2649, 221, 1247, 622, 2543, 880, 765, 1790}\ncurrent_predictions_list: [1921, 802, 292, 221, 404, 2568, 880, 47, 1718, 2579]\n0.05263157894736842\n0.10526315789473684\n0.10526315789473684\n0.14473684210526316\n0.14473684210526316\n0.14473684210526316\n0.17481203007518797\n0.17481203007518797\n0.17481203007518797\n0.17481203007518797\ncurrent_ground_truth_query: 341\ncurrent_ground_truth_query_set: {2692, 5, 262, 1414, 1288, 1835, 947, 1845, 2761, 205, 2523, 2141, 1381, 360, 1132, 1519, 1775, 1776, 2801, 1267, 891, 2303}\ncurrent_predictions_list: [2523, 5, 1918, 947, 1010, 786, 1594, 1153, 1890, 259]\n0.045454545454545456\n0.09090909090909091\n0.09090909090909091\n0.125\n0.125\n0.125\n0.125\n0.125\n0.125\n0.125\ncurrent_ground_truth_query: 342\ncurrent_ground_truth_query_set: {1184, 1154, 2564, 488, 2697, 1706, 2347, 1836, 2509, 206, 559, 1842, 2738, 1176, 1179, 1148, 414}\ncurrent_predictions_list: [559, 186, 1583, 1198, 290, 819, 2114, 2867, 1276, 1581]\n0.058823529411764705\n0.058823529411764705\n0.058823529411764705\n0.058823529411764705\n0.058823529411764705\n0.058823529411764705\n0.058823529411764705\n0.058823529411764705\n0.058823529411764705\n0.058823529411764705\ncurrent_ground_truth_query: 343\ncurrent_ground_truth_query_set: {128, 1027, 36, 1155, 2651, 2119, 584, 744, 2788, 2793, 2798, 2704, 467, 791, 346, 507, 2268}\ncurrent_predictions_list: [2119, 2798, 2788, 2118, 968, 128, 600, 1976, 756, 715]\n0.058823529411764705\n0.11764705882352941\n0.1764705882352941\n0.1764705882352941\n0.1764705882352941\n0.2156862745098039\n0.2156862745098039\n0.2156862745098039\n0.2156862745098039\n0.2156862745098039\ncurrent_ground_truth_query: 344\ncurrent_ground_truth_query_set: {0, 1610, 2219, 556, 1265, 2715}\ncurrent_predictions_list: [191, 1001, 2219, 0, 2020, 1130, 845, 647, 941, 1190]\n0.0\n0.0\n0.05555555555555555\n0.1388888888888889\n0.1388888888888889\n0.1388888888888889\n0.1388888888888889\n0.1388888888888889\n0.1388888888888889\n0.1388888888888889\ncurrent_ground_truth_query: 345\ncurrent_ground_truth_query_set: {1282, 1538, 2052, 1669, 139, 2832, 154, 1690, 2586, 420, 1577, 427, 46, 437, 699, 2495, 1731, 329, 457, 87, 856, 1887, 489, 2027, 2797, 239, 635, 894}\ncurrent_predictions_list: [239, 2027, 92, 144, 232, 2524, 986, 1966, 977, 88]\n0.03571428571428571\n0.07142857142857142\n0.07142857142857142\n0.07142857142857142\n0.07142857142857142\n0.07142857142857142\n0.07142857142857142\n0.07142857142857142\n0.07142857142857142\n0.07142857142857142\ncurrent_ground_truth_query: 346\ncurrent_ground_truth_query_set: {1860, 2055, 2029, 110, 49, 1111, 348}\ncurrent_predictions_list: [1058, 2756, 2299, 1274, 2105, 1862, 1168, 400, 2777, 228]\n0.0\n0.0\n0.0\n0.0\n0.0\n0.0\n0.0\n0.0\n0.0\n0.0\ncurrent_ground_truth_query: 347\ncurrent_ground_truth_query_set: {1026, 645, 649, 15, 1941, 161, 2727, 2728, 2858, 299, 2865, 1079, 1227, 2641, 1750, 1379, 1254, 2026, 367, 2415, 119, 123, 1277}\ncurrent_predictions_list: [123, 1254, 1941, 2865, 1484, 1277, 2053, 2115, 2728, 1379]\n0.043478260869565216\n0.08695652173913043\n0.13043478260869565\n0.17391304347826086\n0.17391304347826086\n0.21014492753623187\n0.21014492753623187\n0.21014492753623187\n0.23913043478260868\n0.26956521739130435\ncurrent_ground_truth_query: 348\ncurrent_ground_truth_query_set: {1889, 2122, 813, 2257, 1299, 787, 885, 2456, 2427}\ncurrent_predictions_list: [2427, 925, 2324, 105, 2010, 863, 1299, 1059, 2627, 576]\n0.1111111111111111\n0.1111111111111111\n0.1111111111111111\n0.1111111111111111\n0.1111111111111111\n0.1111111111111111\n0.14285714285714285\n0.14285714285714285\n0.14285714285714285\n0.14285714285714285\ncurrent_ground_truth_query: 349\ncurrent_ground_truth_query_set: {2818, 771, 145, 404, 280, 1052, 2216, 302, 2356, 185, 2746, 193, 203, 2386, 1497, 858, 219, 608, 867, 631}\ncurrent_predictions_list: [404, 2216, 2356, 2138, 608, 2818, 389, 858, 802, 1497]\n0.05\n0.1\n0.15000000000000002\n0.15000000000000002\n0.19000000000000003\n0.2316666666666667\n0.2316666666666667\n0.26916666666666667\n0.26916666666666667\n0.30416666666666664\ncurrent_ground_truth_query: 350\ncurrent_ground_truth_query_set: {2272, 73, 42, 2414, 2383, 1008, 562, 1844, 2550, 2008, 1976, 1081, 1342, 223}\ncurrent_predictions_list: [747, 2008, 1662, 1875, 2383, 1011, 2723, 2803, 966, 1844]\n0.0\n0.03571428571428571\n0.03571428571428571\n0.03571428571428571\n0.06428571428571428\n0.06428571428571428\n0.06428571428571428\n0.06428571428571428\n0.06428571428571428\n0.0857142857142857\ncurrent_ground_truth_query: 351\ncurrent_ground_truth_query_set: {514, 1863, 1257, 2097, 2201, 1786, 1055}\ncurrent_predictions_list: [1786, 1476, 1958, 1167, 2021, 2322, 2235, 1787, 20, 5]\n0.14285714285714285\n0.14285714285714285\n0.14285714285714285\n0.14285714285714285\n0.14285714285714285\n0.14285714285714285\n0.14285714285714285\n0.14285714285714285\n0.14285714285714285\n0.14285714285714285\ncurrent_ground_truth_query: 352\ncurrent_ground_truth_query_set: {2880, 292, 2725, 934, 2599, 2539, 364, 1038, 111, 911, 2190, 2897, 1718, 312, 380}\ncurrent_predictions_list: [2599, 802, 535, 1661, 1718, 880, 1080, 573, 2239, 1403]\n0.06666666666666667\n0.06666666666666667\n0.06666666666666667\n0.06666666666666667\n0.09333333333333334\n0.09333333333333334\n0.09333333333333334\n0.09333333333333334\n0.09333333333333334\n0.09333333333333334\ncurrent_ground_truth_query: 353\ncurrent_ground_truth_query_set: {1859, 740, 2056, 969, 459, 2639, 2481, 818, 914, 1173, 57, 698}\ncurrent_predictions_list: [2808, 2497, 1859, 2620, 2682, 168, 530, 1570, 2707, 1151]\n0.0\n0.0\n0.027777777777777776\n0.027777777777777776\n0.027777777777777776\n0.027777777777777776\n0.027777777777777776\n0.027777777777777776\n0.027777777777777776\n0.027777777777777776\ncurrent_ground_truth_query: 354\ncurrent_ground_truth_query_set: {1289, 12, 273, 1822, 543, 1189, 1704, 565, 438, 2745, 314, 1867, 2640, 1237, 2138, 1253, 1391, 2159, 2430, 895}\ncurrent_predictions_list: [1704, 585, 499, 2873, 2883, 2730, 2709, 565, 2667, 301]\n0.05\n0.05\n0.05\n0.05\n0.05\n0.05\n0.05\n0.0625\n0.0625\n0.0625\ncurrent_ground_truth_query: 355\ncurrent_ground_truth_query_set: {326, 625, 373, 181, 214, 2527}\ncurrent_predictions_list: [2522, 2195, 2407, 2830, 1189, 2424, 2001, 2197, 2509, 2076]\n0.0\n0.0\n0.0\n0.0\n0.0\n0.0\n0.0\n0.0\n0.0\n0.0\ncurrent_ground_truth_query: 356\ncurrent_ground_truth_query_set: {1537, 1666, 529, 919, 1954, 2595, 434, 1075, 2234, 1083, 452, 71, 715, 1231, 723, 726, 2521, 2011, 734, 2168}\ncurrent_predictions_list: [1290, 2239, 1326, 748, 1819, 1367, 255, 861, 877, 1805]\n0.0\n0.0\n0.0\n0.0\n0.0\n0.0\n0.0\n0.0\n0.0\n0.0\ncurrent_ground_truth_query: 357\ncurrent_ground_truth_query_set: {1344, 2753, 1924, 970, 2315, 1198, 533, 1687, 2299}\ncurrent_predictions_list: [1189, 2195, 2154, 733, 1351, 2576, 1137, 2509, 2288, 772]\n0.0\n0.0\n0.0\n0.0\n0.0\n0.0\n0.0\n0.0\n0.0\n0.0\ncurrent_ground_truth_query: 358\ncurrent_ground_truth_query_set: {289, 130, 965, 678, 774, 2217, 2570, 2636, 717, 2158, 401, 1425, 55, 2231, 1851, 1916, 2685, 991}\ncurrent_predictions_list: [2217, 1349, 2615, 2377, 1977, 717, 1305, 1729, 137, 1812]\n0.05555555555555555\n0.05555555555555555\n0.05555555555555555\n0.05555555555555555\n0.05555555555555555\n0.07407407407407407\n0.07407407407407407\n0.07407407407407407\n0.07407407407407407\n0.07407407407407407\nmAP: 0.08851287628738476\n"
        }
      ],
      "source": [
        "test_mAP(model, val_loader, val_queries_loader, id_ground_truth_dict, config, save_model=False)"
      ]
    },
    {
      "cell_type": "code",
      "execution_count": 18,
      "metadata": {},
      "outputs": [
        {
          "output_type": "execute_result",
          "data": {
            "text/plain": "12"
          },
          "metadata": {},
          "execution_count": 18
        }
      ],
      "source": []
    },
    {
      "cell_type": "code",
      "execution_count": null,
      "metadata": {},
      "outputs": [],
      "source": [
        "import torch\n",
        "import torch.nn as nn\n",
        "import torch.nn.functional as F\n",
        "\n",
        "class IdentificationModel(nn.Module):\n",
        "    \"\"\"\n",
        "    Model trained to produce a vector representation of the image\n",
        "    input_size: size of the input vector -> features size + attributes size\n",
        "    embedding_size: size of the output vector\n",
        "    \"\"\"\n",
        "    # So far it is a simple fully connected network\n",
        "    def __init__(self, input_size, embedding_size):\n",
        "        super().__init__()\n",
        "        self.feature_extractor = nn.Sequential(\n",
        "            nn.Linear(in_features=input_size, out_features=512),\n",
        "            #nn.BatchNorm1d(512),\n",
        "            nn.ReLU(),\n",
        "            nn.Linear(in_features=512, out_features=embedding_size),\n",
        "            nn.Flatten()\n",
        "        )\n",
        "\n",
        "\n",
        "    def forward(self, x):\n",
        "        x = self.feature_extractor(x)\n",
        "        return x"
      ]
    }
  ],
  "metadata": {
    "colab": {
      "name": "DL Project wandb embedding.ipynb",
      "provenance": [],
      "collapsed_sections": [],
      "include_colab_link": true
    },
    "kernelspec": {
      "display_name": "Python 3.7.10 64-bit ('dl_unitn': conda)",
      "name": "python371064bitdlunitncondad5dd323ef49745509346e8124c4613ec"
    },
    "language_info": {
      "name": "python",
      "version": "3.7.10-final"
    },
    "widgets": {
      "application/vnd.jupyter.widget-state+json": {
        "8d7a383683b94cbd9cc1ec3bf0ab4a1b": {
          "model_module": "@jupyter-widgets/controls",
          "model_name": "HBoxModel",
          "state": {
            "_view_name": "HBoxView",
            "_dom_classes": [],
            "_model_name": "HBoxModel",
            "_view_module": "@jupyter-widgets/controls",
            "_model_module_version": "1.5.0",
            "_view_count": null,
            "_view_module_version": "1.5.0",
            "box_style": "",
            "layout": "IPY_MODEL_baa3593a3dd54b409ef96082796a4206",
            "_model_module": "@jupyter-widgets/controls",
            "children": [
              "IPY_MODEL_8436877b0aab449ba79fc5940bf6ce04",
              "IPY_MODEL_fdf0c08feda840c2a33656c4205148a3"
            ]
          }
        },
        "baa3593a3dd54b409ef96082796a4206": {
          "model_module": "@jupyter-widgets/base",
          "model_name": "LayoutModel",
          "state": {
            "_view_name": "LayoutView",
            "grid_template_rows": null,
            "right": null,
            "justify_content": null,
            "_view_module": "@jupyter-widgets/base",
            "overflow": null,
            "_model_module_version": "1.2.0",
            "_view_count": null,
            "flex_flow": null,
            "width": null,
            "min_width": null,
            "border": null,
            "align_items": null,
            "bottom": null,
            "_model_module": "@jupyter-widgets/base",
            "top": null,
            "grid_column": null,
            "overflow_y": null,
            "overflow_x": null,
            "grid_auto_flow": null,
            "grid_area": null,
            "grid_template_columns": null,
            "flex": null,
            "_model_name": "LayoutModel",
            "justify_items": null,
            "grid_row": null,
            "max_height": null,
            "align_content": null,
            "visibility": null,
            "align_self": null,
            "height": null,
            "min_height": null,
            "padding": null,
            "grid_auto_rows": null,
            "grid_gap": null,
            "max_width": null,
            "order": null,
            "_view_module_version": "1.2.0",
            "grid_template_areas": null,
            "object_position": null,
            "object_fit": null,
            "grid_auto_columns": null,
            "margin": null,
            "display": null,
            "left": null
          }
        },
        "8436877b0aab449ba79fc5940bf6ce04": {
          "model_module": "@jupyter-widgets/controls",
          "model_name": "FloatProgressModel",
          "state": {
            "_view_name": "ProgressView",
            "style": "IPY_MODEL_5a53a49c868b44d1a49f547329beb7b0",
            "_dom_classes": [],
            "description": "100%",
            "_model_name": "FloatProgressModel",
            "bar_style": "success",
            "max": 40,
            "_view_module": "@jupyter-widgets/controls",
            "_model_module_version": "1.5.0",
            "value": 40,
            "_view_count": null,
            "_view_module_version": "1.5.0",
            "orientation": "horizontal",
            "min": 0,
            "description_tooltip": null,
            "_model_module": "@jupyter-widgets/controls",
            "layout": "IPY_MODEL_8c25c72677d640e5aa17afde4335ad35"
          }
        },
        "fdf0c08feda840c2a33656c4205148a3": {
          "model_module": "@jupyter-widgets/controls",
          "model_name": "HTMLModel",
          "state": {
            "_view_name": "HTMLView",
            "style": "IPY_MODEL_93d5592446bb4009a0d55af127c8473b",
            "_dom_classes": [],
            "description": "",
            "_model_name": "HTMLModel",
            "placeholder": "​",
            "_view_module": "@jupyter-widgets/controls",
            "_model_module_version": "1.5.0",
            "value": " 40/40 [03:17&lt;00:00,  4.95s/it]",
            "_view_count": null,
            "_view_module_version": "1.5.0",
            "description_tooltip": null,
            "_model_module": "@jupyter-widgets/controls",
            "layout": "IPY_MODEL_f58cd72a65d14ba5b5c358e972b9630c"
          }
        },
        "5a53a49c868b44d1a49f547329beb7b0": {
          "model_module": "@jupyter-widgets/controls",
          "model_name": "ProgressStyleModel",
          "state": {
            "_view_name": "StyleView",
            "_model_name": "ProgressStyleModel",
            "description_width": "initial",
            "_view_module": "@jupyter-widgets/base",
            "_model_module_version": "1.5.0",
            "_view_count": null,
            "_view_module_version": "1.2.0",
            "bar_color": null,
            "_model_module": "@jupyter-widgets/controls"
          }
        },
        "8c25c72677d640e5aa17afde4335ad35": {
          "model_module": "@jupyter-widgets/base",
          "model_name": "LayoutModel",
          "state": {
            "_view_name": "LayoutView",
            "grid_template_rows": null,
            "right": null,
            "justify_content": null,
            "_view_module": "@jupyter-widgets/base",
            "overflow": null,
            "_model_module_version": "1.2.0",
            "_view_count": null,
            "flex_flow": null,
            "width": null,
            "min_width": null,
            "border": null,
            "align_items": null,
            "bottom": null,
            "_model_module": "@jupyter-widgets/base",
            "top": null,
            "grid_column": null,
            "overflow_y": null,
            "overflow_x": null,
            "grid_auto_flow": null,
            "grid_area": null,
            "grid_template_columns": null,
            "flex": null,
            "_model_name": "LayoutModel",
            "justify_items": null,
            "grid_row": null,
            "max_height": null,
            "align_content": null,
            "visibility": null,
            "align_self": null,
            "height": null,
            "min_height": null,
            "padding": null,
            "grid_auto_rows": null,
            "grid_gap": null,
            "max_width": null,
            "order": null,
            "_view_module_version": "1.2.0",
            "grid_template_areas": null,
            "object_position": null,
            "object_fit": null,
            "grid_auto_columns": null,
            "margin": null,
            "display": null,
            "left": null
          }
        },
        "93d5592446bb4009a0d55af127c8473b": {
          "model_module": "@jupyter-widgets/controls",
          "model_name": "DescriptionStyleModel",
          "state": {
            "_view_name": "StyleView",
            "_model_name": "DescriptionStyleModel",
            "description_width": "",
            "_view_module": "@jupyter-widgets/base",
            "_model_module_version": "1.5.0",
            "_view_count": null,
            "_view_module_version": "1.2.0",
            "_model_module": "@jupyter-widgets/controls"
          }
        },
        "f58cd72a65d14ba5b5c358e972b9630c": {
          "model_module": "@jupyter-widgets/base",
          "model_name": "LayoutModel",
          "state": {
            "_view_name": "LayoutView",
            "grid_template_rows": null,
            "right": null,
            "justify_content": null,
            "_view_module": "@jupyter-widgets/base",
            "overflow": null,
            "_model_module_version": "1.2.0",
            "_view_count": null,
            "flex_flow": null,
            "width": null,
            "min_width": null,
            "border": null,
            "align_items": null,
            "bottom": null,
            "_model_module": "@jupyter-widgets/base",
            "top": null,
            "grid_column": null,
            "overflow_y": null,
            "overflow_x": null,
            "grid_auto_flow": null,
            "grid_area": null,
            "grid_template_columns": null,
            "flex": null,
            "_model_name": "LayoutModel",
            "justify_items": null,
            "grid_row": null,
            "max_height": null,
            "align_content": null,
            "visibility": null,
            "align_self": null,
            "height": null,
            "min_height": null,
            "padding": null,
            "grid_auto_rows": null,
            "grid_gap": null,
            "max_width": null,
            "order": null,
            "_view_module_version": "1.2.0",
            "grid_template_areas": null,
            "object_position": null,
            "object_fit": null,
            "grid_auto_columns": null,
            "margin": null,
            "display": null,
            "left": null
          }
        },
        "163f6464546c40e4a3179697a520db3c": {
          "model_module": "@jupyter-widgets/controls",
          "model_name": "VBoxModel",
          "state": {
            "_view_name": "VBoxView",
            "_dom_classes": [],
            "_model_name": "VBoxModel",
            "_view_module": "@jupyter-widgets/controls",
            "_model_module_version": "1.5.0",
            "_view_count": null,
            "_view_module_version": "1.5.0",
            "box_style": "",
            "layout": "IPY_MODEL_29cab8f22ede4d529c006f22b27e5ff2",
            "_model_module": "@jupyter-widgets/controls",
            "children": [
              "IPY_MODEL_e02f90060b0c4c2fbc0d075fccd0b599",
              "IPY_MODEL_ff3ed4fab6844d08bebf2b049b88f1fd"
            ]
          }
        },
        "29cab8f22ede4d529c006f22b27e5ff2": {
          "model_module": "@jupyter-widgets/base",
          "model_name": "LayoutModel",
          "state": {
            "_view_name": "LayoutView",
            "grid_template_rows": null,
            "right": null,
            "justify_content": null,
            "_view_module": "@jupyter-widgets/base",
            "overflow": null,
            "_model_module_version": "1.2.0",
            "_view_count": null,
            "flex_flow": null,
            "width": null,
            "min_width": null,
            "border": null,
            "align_items": null,
            "bottom": null,
            "_model_module": "@jupyter-widgets/base",
            "top": null,
            "grid_column": null,
            "overflow_y": null,
            "overflow_x": null,
            "grid_auto_flow": null,
            "grid_area": null,
            "grid_template_columns": null,
            "flex": null,
            "_model_name": "LayoutModel",
            "justify_items": null,
            "grid_row": null,
            "max_height": null,
            "align_content": null,
            "visibility": null,
            "align_self": null,
            "height": null,
            "min_height": null,
            "padding": null,
            "grid_auto_rows": null,
            "grid_gap": null,
            "max_width": null,
            "order": null,
            "_view_module_version": "1.2.0",
            "grid_template_areas": null,
            "object_position": null,
            "object_fit": null,
            "grid_auto_columns": null,
            "margin": null,
            "display": null,
            "left": null
          }
        },
        "e02f90060b0c4c2fbc0d075fccd0b599": {
          "model_module": "@jupyter-widgets/controls",
          "model_name": "LabelModel",
          "state": {
            "_view_name": "LabelView",
            "style": "IPY_MODEL_9527b7df2a4a4e1caf9efa359733e7d7",
            "_dom_classes": [],
            "description": "",
            "_model_name": "LabelModel",
            "placeholder": "​",
            "_view_module": "@jupyter-widgets/controls",
            "_model_module_version": "1.5.0",
            "value": " 3.20MB of 3.20MB uploaded (0.00MB deduped)\r",
            "_view_count": null,
            "_view_module_version": "1.5.0",
            "description_tooltip": null,
            "_model_module": "@jupyter-widgets/controls",
            "layout": "IPY_MODEL_e8794ee8c3f34ff897708bdf6cd9cdcf"
          }
        },
        "ff3ed4fab6844d08bebf2b049b88f1fd": {
          "model_module": "@jupyter-widgets/controls",
          "model_name": "FloatProgressModel",
          "state": {
            "_view_name": "ProgressView",
            "style": "IPY_MODEL_2a28f8b9891c40be9c2e0d7f0f429602",
            "_dom_classes": [],
            "description": "",
            "_model_name": "FloatProgressModel",
            "bar_style": "",
            "max": 1,
            "_view_module": "@jupyter-widgets/controls",
            "_model_module_version": "1.5.0",
            "value": 1,
            "_view_count": null,
            "_view_module_version": "1.5.0",
            "orientation": "horizontal",
            "min": 0,
            "description_tooltip": null,
            "_model_module": "@jupyter-widgets/controls",
            "layout": "IPY_MODEL_adcdaf9c9cd645cfb8dc3a830268bcf8"
          }
        },
        "9527b7df2a4a4e1caf9efa359733e7d7": {
          "model_module": "@jupyter-widgets/controls",
          "model_name": "DescriptionStyleModel",
          "state": {
            "_view_name": "StyleView",
            "_model_name": "DescriptionStyleModel",
            "description_width": "",
            "_view_module": "@jupyter-widgets/base",
            "_model_module_version": "1.5.0",
            "_view_count": null,
            "_view_module_version": "1.2.0",
            "_model_module": "@jupyter-widgets/controls"
          }
        },
        "e8794ee8c3f34ff897708bdf6cd9cdcf": {
          "model_module": "@jupyter-widgets/base",
          "model_name": "LayoutModel",
          "state": {
            "_view_name": "LayoutView",
            "grid_template_rows": null,
            "right": null,
            "justify_content": null,
            "_view_module": "@jupyter-widgets/base",
            "overflow": null,
            "_model_module_version": "1.2.0",
            "_view_count": null,
            "flex_flow": null,
            "width": null,
            "min_width": null,
            "border": null,
            "align_items": null,
            "bottom": null,
            "_model_module": "@jupyter-widgets/base",
            "top": null,
            "grid_column": null,
            "overflow_y": null,
            "overflow_x": null,
            "grid_auto_flow": null,
            "grid_area": null,
            "grid_template_columns": null,
            "flex": null,
            "_model_name": "LayoutModel",
            "justify_items": null,
            "grid_row": null,
            "max_height": null,
            "align_content": null,
            "visibility": null,
            "align_self": null,
            "height": null,
            "min_height": null,
            "padding": null,
            "grid_auto_rows": null,
            "grid_gap": null,
            "max_width": null,
            "order": null,
            "_view_module_version": "1.2.0",
            "grid_template_areas": null,
            "object_position": null,
            "object_fit": null,
            "grid_auto_columns": null,
            "margin": null,
            "display": null,
            "left": null
          }
        },
        "2a28f8b9891c40be9c2e0d7f0f429602": {
          "model_module": "@jupyter-widgets/controls",
          "model_name": "ProgressStyleModel",
          "state": {
            "_view_name": "StyleView",
            "_model_name": "ProgressStyleModel",
            "description_width": "",
            "_view_module": "@jupyter-widgets/base",
            "_model_module_version": "1.5.0",
            "_view_count": null,
            "_view_module_version": "1.2.0",
            "bar_color": null,
            "_model_module": "@jupyter-widgets/controls"
          }
        },
        "adcdaf9c9cd645cfb8dc3a830268bcf8": {
          "model_module": "@jupyter-widgets/base",
          "model_name": "LayoutModel",
          "state": {
            "_view_name": "LayoutView",
            "grid_template_rows": null,
            "right": null,
            "justify_content": null,
            "_view_module": "@jupyter-widgets/base",
            "overflow": null,
            "_model_module_version": "1.2.0",
            "_view_count": null,
            "flex_flow": null,
            "width": null,
            "min_width": null,
            "border": null,
            "align_items": null,
            "bottom": null,
            "_model_module": "@jupyter-widgets/base",
            "top": null,
            "grid_column": null,
            "overflow_y": null,
            "overflow_x": null,
            "grid_auto_flow": null,
            "grid_area": null,
            "grid_template_columns": null,
            "flex": null,
            "_model_name": "LayoutModel",
            "justify_items": null,
            "grid_row": null,
            "max_height": null,
            "align_content": null,
            "visibility": null,
            "align_self": null,
            "height": null,
            "min_height": null,
            "padding": null,
            "grid_auto_rows": null,
            "grid_gap": null,
            "max_width": null,
            "order": null,
            "_view_module_version": "1.2.0",
            "grid_template_areas": null,
            "object_position": null,
            "object_fit": null,
            "grid_auto_columns": null,
            "margin": null,
            "display": null,
            "left": null
          }
        },
        "4f213c4ae7114969b216c2fd8a16ac38": {
          "model_module": "@jupyter-widgets/controls",
          "model_name": "HBoxModel",
          "state": {
            "_view_name": "HBoxView",
            "_dom_classes": [],
            "_model_name": "HBoxModel",
            "_view_module": "@jupyter-widgets/controls",
            "_model_module_version": "1.5.0",
            "_view_count": null,
            "_view_module_version": "1.5.0",
            "box_style": "",
            "layout": "IPY_MODEL_220d8ffb72b34ff88b369a46c2cbbb14",
            "_model_module": "@jupyter-widgets/controls",
            "children": [
              "IPY_MODEL_9c67147c5a014f5fb9d0e385deae31b7",
              "IPY_MODEL_114b30c76af649aaa8680be69ea5c99c"
            ]
          }
        },
        "220d8ffb72b34ff88b369a46c2cbbb14": {
          "model_module": "@jupyter-widgets/base",
          "model_name": "LayoutModel",
          "state": {
            "_view_name": "LayoutView",
            "grid_template_rows": null,
            "right": null,
            "justify_content": null,
            "_view_module": "@jupyter-widgets/base",
            "overflow": null,
            "_model_module_version": "1.2.0",
            "_view_count": null,
            "flex_flow": null,
            "width": null,
            "min_width": null,
            "border": null,
            "align_items": null,
            "bottom": null,
            "_model_module": "@jupyter-widgets/base",
            "top": null,
            "grid_column": null,
            "overflow_y": null,
            "overflow_x": null,
            "grid_auto_flow": null,
            "grid_area": null,
            "grid_template_columns": null,
            "flex": null,
            "_model_name": "LayoutModel",
            "justify_items": null,
            "grid_row": null,
            "max_height": null,
            "align_content": null,
            "visibility": null,
            "align_self": null,
            "height": null,
            "min_height": null,
            "padding": null,
            "grid_auto_rows": null,
            "grid_gap": null,
            "max_width": null,
            "order": null,
            "_view_module_version": "1.2.0",
            "grid_template_areas": null,
            "object_position": null,
            "object_fit": null,
            "grid_auto_columns": null,
            "margin": null,
            "display": null,
            "left": null
          }
        },
        "9c67147c5a014f5fb9d0e385deae31b7": {
          "model_module": "@jupyter-widgets/controls",
          "model_name": "FloatProgressModel",
          "state": {
            "_view_name": "ProgressView",
            "style": "IPY_MODEL_01e3c6ed3459409496e4ba81d0c5b37e",
            "_dom_classes": [],
            "description": "100%",
            "_model_name": "FloatProgressModel",
            "bar_style": "success",
            "max": 102502400,
            "_view_module": "@jupyter-widgets/controls",
            "_model_module_version": "1.5.0",
            "value": 102502400,
            "_view_count": null,
            "_view_module_version": "1.5.0",
            "orientation": "horizontal",
            "min": 0,
            "description_tooltip": null,
            "_model_module": "@jupyter-widgets/controls",
            "layout": "IPY_MODEL_89de3c1a89634eed927de637d2398185"
          }
        },
        "114b30c76af649aaa8680be69ea5c99c": {
          "model_module": "@jupyter-widgets/controls",
          "model_name": "HTMLModel",
          "state": {
            "_view_name": "HTMLView",
            "style": "IPY_MODEL_735938d33b2b4d7fa15f5ef6ea749c56",
            "_dom_classes": [],
            "description": "",
            "_model_name": "HTMLModel",
            "placeholder": "​",
            "_view_module": "@jupyter-widgets/controls",
            "_model_module_version": "1.5.0",
            "value": " 97.8M/97.8M [00:00&lt;00:00, 103MB/s]",
            "_view_count": null,
            "_view_module_version": "1.5.0",
            "description_tooltip": null,
            "_model_module": "@jupyter-widgets/controls",
            "layout": "IPY_MODEL_8b86332c70194913bbae96e0d8c0d2b1"
          }
        },
        "01e3c6ed3459409496e4ba81d0c5b37e": {
          "model_module": "@jupyter-widgets/controls",
          "model_name": "ProgressStyleModel",
          "state": {
            "_view_name": "StyleView",
            "_model_name": "ProgressStyleModel",
            "description_width": "initial",
            "_view_module": "@jupyter-widgets/base",
            "_model_module_version": "1.5.0",
            "_view_count": null,
            "_view_module_version": "1.2.0",
            "bar_color": null,
            "_model_module": "@jupyter-widgets/controls"
          }
        },
        "89de3c1a89634eed927de637d2398185": {
          "model_module": "@jupyter-widgets/base",
          "model_name": "LayoutModel",
          "state": {
            "_view_name": "LayoutView",
            "grid_template_rows": null,
            "right": null,
            "justify_content": null,
            "_view_module": "@jupyter-widgets/base",
            "overflow": null,
            "_model_module_version": "1.2.0",
            "_view_count": null,
            "flex_flow": null,
            "width": null,
            "min_width": null,
            "border": null,
            "align_items": null,
            "bottom": null,
            "_model_module": "@jupyter-widgets/base",
            "top": null,
            "grid_column": null,
            "overflow_y": null,
            "overflow_x": null,
            "grid_auto_flow": null,
            "grid_area": null,
            "grid_template_columns": null,
            "flex": null,
            "_model_name": "LayoutModel",
            "justify_items": null,
            "grid_row": null,
            "max_height": null,
            "align_content": null,
            "visibility": null,
            "align_self": null,
            "height": null,
            "min_height": null,
            "padding": null,
            "grid_auto_rows": null,
            "grid_gap": null,
            "max_width": null,
            "order": null,
            "_view_module_version": "1.2.0",
            "grid_template_areas": null,
            "object_position": null,
            "object_fit": null,
            "grid_auto_columns": null,
            "margin": null,
            "display": null,
            "left": null
          }
        },
        "735938d33b2b4d7fa15f5ef6ea749c56": {
          "model_module": "@jupyter-widgets/controls",
          "model_name": "DescriptionStyleModel",
          "state": {
            "_view_name": "StyleView",
            "_model_name": "DescriptionStyleModel",
            "description_width": "",
            "_view_module": "@jupyter-widgets/base",
            "_model_module_version": "1.5.0",
            "_view_count": null,
            "_view_module_version": "1.2.0",
            "_model_module": "@jupyter-widgets/controls"
          }
        },
        "8b86332c70194913bbae96e0d8c0d2b1": {
          "model_module": "@jupyter-widgets/base",
          "model_name": "LayoutModel",
          "state": {
            "_view_name": "LayoutView",
            "grid_template_rows": null,
            "right": null,
            "justify_content": null,
            "_view_module": "@jupyter-widgets/base",
            "overflow": null,
            "_model_module_version": "1.2.0",
            "_view_count": null,
            "flex_flow": null,
            "width": null,
            "min_width": null,
            "border": null,
            "align_items": null,
            "bottom": null,
            "_model_module": "@jupyter-widgets/base",
            "top": null,
            "grid_column": null,
            "overflow_y": null,
            "overflow_x": null,
            "grid_auto_flow": null,
            "grid_area": null,
            "grid_template_columns": null,
            "flex": null,
            "_model_name": "LayoutModel",
            "justify_items": null,
            "grid_row": null,
            "max_height": null,
            "align_content": null,
            "visibility": null,
            "align_self": null,
            "height": null,
            "min_height": null,
            "padding": null,
            "grid_auto_rows": null,
            "grid_gap": null,
            "max_width": null,
            "order": null,
            "_view_module_version": "1.2.0",
            "grid_template_areas": null,
            "object_position": null,
            "object_fit": null,
            "grid_auto_columns": null,
            "margin": null,
            "display": null,
            "left": null
          }
        }
      }
    },
    "accelerator": "GPU"
  },
  "nbformat": 4,
  "nbformat_minor": 0
}