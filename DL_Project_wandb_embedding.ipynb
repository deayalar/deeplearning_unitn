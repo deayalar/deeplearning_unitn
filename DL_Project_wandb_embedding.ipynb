{
  "nbformat": 4,
  "nbformat_minor": 0,
  "metadata": {
    "colab": {
      "name": "Copy of DL Project wandb embedding.ipynb",
      "provenance": [],
      "collapsed_sections": []
    },
    "kernelspec": {
      "display_name": "Python 3.7.10 64-bit ('dl_unitn': conda)",
      "name": "python371064bitdlunitncondad5dd323ef49745509346e8124c4613ec"
    },
    "language_info": {
      "name": "python",
      "version": "3.7.10-final"
    },
    "accelerator": "GPU",
    "widgets": {
      "application/vnd.jupyter.widget-state+json": {
        "3b18b601785a40ec9833b885be45d618": {
          "model_module": "@jupyter-widgets/controls",
          "model_name": "VBoxModel",
          "state": {
            "_view_name": "VBoxView",
            "_dom_classes": [],
            "_model_name": "VBoxModel",
            "_view_module": "@jupyter-widgets/controls",
            "_model_module_version": "1.5.0",
            "_view_count": null,
            "_view_module_version": "1.5.0",
            "box_style": "",
            "layout": "IPY_MODEL_577c0ca462e24b9984c3ee94e7996f73",
            "_model_module": "@jupyter-widgets/controls",
            "children": [
              "IPY_MODEL_844ca9aee9dc49be86b0b102a910acff",
              "IPY_MODEL_e85c425736f54069819d87ea7821867a"
            ]
          }
        },
        "577c0ca462e24b9984c3ee94e7996f73": {
          "model_module": "@jupyter-widgets/base",
          "model_name": "LayoutModel",
          "state": {
            "_view_name": "LayoutView",
            "grid_template_rows": null,
            "right": null,
            "justify_content": null,
            "_view_module": "@jupyter-widgets/base",
            "overflow": null,
            "_model_module_version": "1.2.0",
            "_view_count": null,
            "flex_flow": null,
            "width": null,
            "min_width": null,
            "border": null,
            "align_items": null,
            "bottom": null,
            "_model_module": "@jupyter-widgets/base",
            "top": null,
            "grid_column": null,
            "overflow_y": null,
            "overflow_x": null,
            "grid_auto_flow": null,
            "grid_area": null,
            "grid_template_columns": null,
            "flex": null,
            "_model_name": "LayoutModel",
            "justify_items": null,
            "grid_row": null,
            "max_height": null,
            "align_content": null,
            "visibility": null,
            "align_self": null,
            "height": null,
            "min_height": null,
            "padding": null,
            "grid_auto_rows": null,
            "grid_gap": null,
            "max_width": null,
            "order": null,
            "_view_module_version": "1.2.0",
            "grid_template_areas": null,
            "object_position": null,
            "object_fit": null,
            "grid_auto_columns": null,
            "margin": null,
            "display": null,
            "left": null
          }
        },
        "844ca9aee9dc49be86b0b102a910acff": {
          "model_module": "@jupyter-widgets/controls",
          "model_name": "LabelModel",
          "state": {
            "_view_name": "LabelView",
            "style": "IPY_MODEL_eb4d5345c19447b282b037e0ba241ca8",
            "_dom_classes": [],
            "description": "",
            "_model_name": "LabelModel",
            "placeholder": "​",
            "_view_module": "@jupyter-widgets/controls",
            "_model_module_version": "1.5.0",
            "value": " 43.10MB of 43.10MB uploaded (0.00MB deduped)\r",
            "_view_count": null,
            "_view_module_version": "1.5.0",
            "description_tooltip": null,
            "_model_module": "@jupyter-widgets/controls",
            "layout": "IPY_MODEL_207973b9373a475ca7a940f6bbf2e37c"
          }
        },
        "e85c425736f54069819d87ea7821867a": {
          "model_module": "@jupyter-widgets/controls",
          "model_name": "FloatProgressModel",
          "state": {
            "_view_name": "ProgressView",
            "style": "IPY_MODEL_7dc5270c09de4d2599dbcb24e45fc519",
            "_dom_classes": [],
            "description": "",
            "_model_name": "FloatProgressModel",
            "bar_style": "",
            "max": 1,
            "_view_module": "@jupyter-widgets/controls",
            "_model_module_version": "1.5.0",
            "value": 1,
            "_view_count": null,
            "_view_module_version": "1.5.0",
            "orientation": "horizontal",
            "min": 0,
            "description_tooltip": null,
            "_model_module": "@jupyter-widgets/controls",
            "layout": "IPY_MODEL_ed06ec3c50804aa6ac1955afe46c4513"
          }
        },
        "eb4d5345c19447b282b037e0ba241ca8": {
          "model_module": "@jupyter-widgets/controls",
          "model_name": "DescriptionStyleModel",
          "state": {
            "_view_name": "StyleView",
            "_model_name": "DescriptionStyleModel",
            "description_width": "",
            "_view_module": "@jupyter-widgets/base",
            "_model_module_version": "1.5.0",
            "_view_count": null,
            "_view_module_version": "1.2.0",
            "_model_module": "@jupyter-widgets/controls"
          }
        },
        "207973b9373a475ca7a940f6bbf2e37c": {
          "model_module": "@jupyter-widgets/base",
          "model_name": "LayoutModel",
          "state": {
            "_view_name": "LayoutView",
            "grid_template_rows": null,
            "right": null,
            "justify_content": null,
            "_view_module": "@jupyter-widgets/base",
            "overflow": null,
            "_model_module_version": "1.2.0",
            "_view_count": null,
            "flex_flow": null,
            "width": null,
            "min_width": null,
            "border": null,
            "align_items": null,
            "bottom": null,
            "_model_module": "@jupyter-widgets/base",
            "top": null,
            "grid_column": null,
            "overflow_y": null,
            "overflow_x": null,
            "grid_auto_flow": null,
            "grid_area": null,
            "grid_template_columns": null,
            "flex": null,
            "_model_name": "LayoutModel",
            "justify_items": null,
            "grid_row": null,
            "max_height": null,
            "align_content": null,
            "visibility": null,
            "align_self": null,
            "height": null,
            "min_height": null,
            "padding": null,
            "grid_auto_rows": null,
            "grid_gap": null,
            "max_width": null,
            "order": null,
            "_view_module_version": "1.2.0",
            "grid_template_areas": null,
            "object_position": null,
            "object_fit": null,
            "grid_auto_columns": null,
            "margin": null,
            "display": null,
            "left": null
          }
        },
        "7dc5270c09de4d2599dbcb24e45fc519": {
          "model_module": "@jupyter-widgets/controls",
          "model_name": "ProgressStyleModel",
          "state": {
            "_view_name": "StyleView",
            "_model_name": "ProgressStyleModel",
            "description_width": "",
            "_view_module": "@jupyter-widgets/base",
            "_model_module_version": "1.5.0",
            "_view_count": null,
            "_view_module_version": "1.2.0",
            "bar_color": null,
            "_model_module": "@jupyter-widgets/controls"
          }
        },
        "ed06ec3c50804aa6ac1955afe46c4513": {
          "model_module": "@jupyter-widgets/base",
          "model_name": "LayoutModel",
          "state": {
            "_view_name": "LayoutView",
            "grid_template_rows": null,
            "right": null,
            "justify_content": null,
            "_view_module": "@jupyter-widgets/base",
            "overflow": null,
            "_model_module_version": "1.2.0",
            "_view_count": null,
            "flex_flow": null,
            "width": null,
            "min_width": null,
            "border": null,
            "align_items": null,
            "bottom": null,
            "_model_module": "@jupyter-widgets/base",
            "top": null,
            "grid_column": null,
            "overflow_y": null,
            "overflow_x": null,
            "grid_auto_flow": null,
            "grid_area": null,
            "grid_template_columns": null,
            "flex": null,
            "_model_name": "LayoutModel",
            "justify_items": null,
            "grid_row": null,
            "max_height": null,
            "align_content": null,
            "visibility": null,
            "align_self": null,
            "height": null,
            "min_height": null,
            "padding": null,
            "grid_auto_rows": null,
            "grid_gap": null,
            "max_width": null,
            "order": null,
            "_view_module_version": "1.2.0",
            "grid_template_areas": null,
            "object_position": null,
            "object_fit": null,
            "grid_auto_columns": null,
            "margin": null,
            "display": null,
            "left": null
          }
        },
        "45c41d43639c46fbac8138c3ff3c19eb": {
          "model_module": "@jupyter-widgets/controls",
          "model_name": "HBoxModel",
          "state": {
            "_view_name": "HBoxView",
            "_dom_classes": [],
            "_model_name": "HBoxModel",
            "_view_module": "@jupyter-widgets/controls",
            "_model_module_version": "1.5.0",
            "_view_count": null,
            "_view_module_version": "1.5.0",
            "box_style": "",
            "layout": "IPY_MODEL_609019c741d24ec2b979894e264c1906",
            "_model_module": "@jupyter-widgets/controls",
            "children": [
              "IPY_MODEL_0fdbe3b8cfda482494212fff299fa04e",
              "IPY_MODEL_af8c33b0e1a043f9b6e8b95aa0707669"
            ]
          }
        },
        "609019c741d24ec2b979894e264c1906": {
          "model_module": "@jupyter-widgets/base",
          "model_name": "LayoutModel",
          "state": {
            "_view_name": "LayoutView",
            "grid_template_rows": null,
            "right": null,
            "justify_content": null,
            "_view_module": "@jupyter-widgets/base",
            "overflow": null,
            "_model_module_version": "1.2.0",
            "_view_count": null,
            "flex_flow": null,
            "width": null,
            "min_width": null,
            "border": null,
            "align_items": null,
            "bottom": null,
            "_model_module": "@jupyter-widgets/base",
            "top": null,
            "grid_column": null,
            "overflow_y": null,
            "overflow_x": null,
            "grid_auto_flow": null,
            "grid_area": null,
            "grid_template_columns": null,
            "flex": null,
            "_model_name": "LayoutModel",
            "justify_items": null,
            "grid_row": null,
            "max_height": null,
            "align_content": null,
            "visibility": null,
            "align_self": null,
            "height": null,
            "min_height": null,
            "padding": null,
            "grid_auto_rows": null,
            "grid_gap": null,
            "max_width": null,
            "order": null,
            "_view_module_version": "1.2.0",
            "grid_template_areas": null,
            "object_position": null,
            "object_fit": null,
            "grid_auto_columns": null,
            "margin": null,
            "display": null,
            "left": null
          }
        },
        "0fdbe3b8cfda482494212fff299fa04e": {
          "model_module": "@jupyter-widgets/controls",
          "model_name": "FloatProgressModel",
          "state": {
            "_view_name": "ProgressView",
            "style": "IPY_MODEL_2091367892954b9eb6cdfaa4bce28462",
            "_dom_classes": [],
            "description": "100%",
            "_model_name": "FloatProgressModel",
            "bar_style": "success",
            "max": 8,
            "_view_module": "@jupyter-widgets/controls",
            "_model_module_version": "1.5.0",
            "value": 8,
            "_view_count": null,
            "_view_module_version": "1.5.0",
            "orientation": "horizontal",
            "min": 0,
            "description_tooltip": null,
            "_model_module": "@jupyter-widgets/controls",
            "layout": "IPY_MODEL_7209ad3919ee4b53a0ed5c02de5ff4b5"
          }
        },
        "af8c33b0e1a043f9b6e8b95aa0707669": {
          "model_module": "@jupyter-widgets/controls",
          "model_name": "HTMLModel",
          "state": {
            "_view_name": "HTMLView",
            "style": "IPY_MODEL_3607286442eb49e493b600bb449098bb",
            "_dom_classes": [],
            "description": "",
            "_model_name": "HTMLModel",
            "placeholder": "​",
            "_view_module": "@jupyter-widgets/controls",
            "_model_module_version": "1.5.0",
            "value": " 8/8 [08:43&lt;00:00, 65.46s/it]",
            "_view_count": null,
            "_view_module_version": "1.5.0",
            "description_tooltip": null,
            "_model_module": "@jupyter-widgets/controls",
            "layout": "IPY_MODEL_e47a34463afd46fa8ba4e169c7fdae85"
          }
        },
        "2091367892954b9eb6cdfaa4bce28462": {
          "model_module": "@jupyter-widgets/controls",
          "model_name": "ProgressStyleModel",
          "state": {
            "_view_name": "StyleView",
            "_model_name": "ProgressStyleModel",
            "description_width": "initial",
            "_view_module": "@jupyter-widgets/base",
            "_model_module_version": "1.5.0",
            "_view_count": null,
            "_view_module_version": "1.2.0",
            "bar_color": null,
            "_model_module": "@jupyter-widgets/controls"
          }
        },
        "7209ad3919ee4b53a0ed5c02de5ff4b5": {
          "model_module": "@jupyter-widgets/base",
          "model_name": "LayoutModel",
          "state": {
            "_view_name": "LayoutView",
            "grid_template_rows": null,
            "right": null,
            "justify_content": null,
            "_view_module": "@jupyter-widgets/base",
            "overflow": null,
            "_model_module_version": "1.2.0",
            "_view_count": null,
            "flex_flow": null,
            "width": null,
            "min_width": null,
            "border": null,
            "align_items": null,
            "bottom": null,
            "_model_module": "@jupyter-widgets/base",
            "top": null,
            "grid_column": null,
            "overflow_y": null,
            "overflow_x": null,
            "grid_auto_flow": null,
            "grid_area": null,
            "grid_template_columns": null,
            "flex": null,
            "_model_name": "LayoutModel",
            "justify_items": null,
            "grid_row": null,
            "max_height": null,
            "align_content": null,
            "visibility": null,
            "align_self": null,
            "height": null,
            "min_height": null,
            "padding": null,
            "grid_auto_rows": null,
            "grid_gap": null,
            "max_width": null,
            "order": null,
            "_view_module_version": "1.2.0",
            "grid_template_areas": null,
            "object_position": null,
            "object_fit": null,
            "grid_auto_columns": null,
            "margin": null,
            "display": null,
            "left": null
          }
        },
        "3607286442eb49e493b600bb449098bb": {
          "model_module": "@jupyter-widgets/controls",
          "model_name": "DescriptionStyleModel",
          "state": {
            "_view_name": "StyleView",
            "_model_name": "DescriptionStyleModel",
            "description_width": "",
            "_view_module": "@jupyter-widgets/base",
            "_model_module_version": "1.5.0",
            "_view_count": null,
            "_view_module_version": "1.2.0",
            "_model_module": "@jupyter-widgets/controls"
          }
        },
        "e47a34463afd46fa8ba4e169c7fdae85": {
          "model_module": "@jupyter-widgets/base",
          "model_name": "LayoutModel",
          "state": {
            "_view_name": "LayoutView",
            "grid_template_rows": null,
            "right": null,
            "justify_content": null,
            "_view_module": "@jupyter-widgets/base",
            "overflow": null,
            "_model_module_version": "1.2.0",
            "_view_count": null,
            "flex_flow": null,
            "width": null,
            "min_width": null,
            "border": null,
            "align_items": null,
            "bottom": null,
            "_model_module": "@jupyter-widgets/base",
            "top": null,
            "grid_column": null,
            "overflow_y": null,
            "overflow_x": null,
            "grid_auto_flow": null,
            "grid_area": null,
            "grid_template_columns": null,
            "flex": null,
            "_model_name": "LayoutModel",
            "justify_items": null,
            "grid_row": null,
            "max_height": null,
            "align_content": null,
            "visibility": null,
            "align_self": null,
            "height": null,
            "min_height": null,
            "padding": null,
            "grid_auto_rows": null,
            "grid_gap": null,
            "max_width": null,
            "order": null,
            "_view_module_version": "1.2.0",
            "grid_template_areas": null,
            "object_position": null,
            "object_fit": null,
            "grid_auto_columns": null,
            "margin": null,
            "display": null,
            "left": null
          }
        },
        "3cc7afdf39c74f158ada8e4ed6dee845": {
          "model_module": "@jupyter-widgets/controls",
          "model_name": "HBoxModel",
          "state": {
            "_view_name": "HBoxView",
            "_dom_classes": [],
            "_model_name": "HBoxModel",
            "_view_module": "@jupyter-widgets/controls",
            "_model_module_version": "1.5.0",
            "_view_count": null,
            "_view_module_version": "1.5.0",
            "box_style": "",
            "layout": "IPY_MODEL_ccef2ca6040e45e1a81f700edf305859",
            "_model_module": "@jupyter-widgets/controls",
            "children": [
              "IPY_MODEL_f25c5cafbf3d49e1bf1f94342a8100f9",
              "IPY_MODEL_bf5d88017aba44a69de01fc888fda3a5"
            ]
          }
        },
        "ccef2ca6040e45e1a81f700edf305859": {
          "model_module": "@jupyter-widgets/base",
          "model_name": "LayoutModel",
          "state": {
            "_view_name": "LayoutView",
            "grid_template_rows": null,
            "right": null,
            "justify_content": null,
            "_view_module": "@jupyter-widgets/base",
            "overflow": null,
            "_model_module_version": "1.2.0",
            "_view_count": null,
            "flex_flow": null,
            "width": null,
            "min_width": null,
            "border": null,
            "align_items": null,
            "bottom": null,
            "_model_module": "@jupyter-widgets/base",
            "top": null,
            "grid_column": null,
            "overflow_y": null,
            "overflow_x": null,
            "grid_auto_flow": null,
            "grid_area": null,
            "grid_template_columns": null,
            "flex": null,
            "_model_name": "LayoutModel",
            "justify_items": null,
            "grid_row": null,
            "max_height": null,
            "align_content": null,
            "visibility": null,
            "align_self": null,
            "height": null,
            "min_height": null,
            "padding": null,
            "grid_auto_rows": null,
            "grid_gap": null,
            "max_width": null,
            "order": null,
            "_view_module_version": "1.2.0",
            "grid_template_areas": null,
            "object_position": null,
            "object_fit": null,
            "grid_auto_columns": null,
            "margin": null,
            "display": null,
            "left": null
          }
        },
        "f25c5cafbf3d49e1bf1f94342a8100f9": {
          "model_module": "@jupyter-widgets/controls",
          "model_name": "FloatProgressModel",
          "state": {
            "_view_name": "ProgressView",
            "style": "IPY_MODEL_397828d436a0428185ab1a955e218f3c",
            "_dom_classes": [],
            "description": "100%",
            "_model_name": "FloatProgressModel",
            "bar_style": "success",
            "max": 90,
            "_view_module": "@jupyter-widgets/controls",
            "_model_module_version": "1.5.0",
            "value": 90,
            "_view_count": null,
            "_view_module_version": "1.5.0",
            "orientation": "horizontal",
            "min": 0,
            "description_tooltip": null,
            "_model_module": "@jupyter-widgets/controls",
            "layout": "IPY_MODEL_48ff582256f54db9a47ef0af375f159c"
          }
        },
        "bf5d88017aba44a69de01fc888fda3a5": {
          "model_module": "@jupyter-widgets/controls",
          "model_name": "HTMLModel",
          "state": {
            "_view_name": "HTMLView",
            "style": "IPY_MODEL_ad02185582c54e2c9bbf47c63f840d95",
            "_dom_classes": [],
            "description": "",
            "_model_name": "HTMLModel",
            "placeholder": "​",
            "_view_module": "@jupyter-widgets/controls",
            "_model_module_version": "1.5.0",
            "value": " 90/90 [00:24&lt;00:00,  3.72it/s]",
            "_view_count": null,
            "_view_module_version": "1.5.0",
            "description_tooltip": null,
            "_model_module": "@jupyter-widgets/controls",
            "layout": "IPY_MODEL_2650c4cf39f94392bd96ac99ceb593ed"
          }
        },
        "397828d436a0428185ab1a955e218f3c": {
          "model_module": "@jupyter-widgets/controls",
          "model_name": "ProgressStyleModel",
          "state": {
            "_view_name": "StyleView",
            "_model_name": "ProgressStyleModel",
            "description_width": "initial",
            "_view_module": "@jupyter-widgets/base",
            "_model_module_version": "1.5.0",
            "_view_count": null,
            "_view_module_version": "1.2.0",
            "bar_color": null,
            "_model_module": "@jupyter-widgets/controls"
          }
        },
        "48ff582256f54db9a47ef0af375f159c": {
          "model_module": "@jupyter-widgets/base",
          "model_name": "LayoutModel",
          "state": {
            "_view_name": "LayoutView",
            "grid_template_rows": null,
            "right": null,
            "justify_content": null,
            "_view_module": "@jupyter-widgets/base",
            "overflow": null,
            "_model_module_version": "1.2.0",
            "_view_count": null,
            "flex_flow": null,
            "width": null,
            "min_width": null,
            "border": null,
            "align_items": null,
            "bottom": null,
            "_model_module": "@jupyter-widgets/base",
            "top": null,
            "grid_column": null,
            "overflow_y": null,
            "overflow_x": null,
            "grid_auto_flow": null,
            "grid_area": null,
            "grid_template_columns": null,
            "flex": null,
            "_model_name": "LayoutModel",
            "justify_items": null,
            "grid_row": null,
            "max_height": null,
            "align_content": null,
            "visibility": null,
            "align_self": null,
            "height": null,
            "min_height": null,
            "padding": null,
            "grid_auto_rows": null,
            "grid_gap": null,
            "max_width": null,
            "order": null,
            "_view_module_version": "1.2.0",
            "grid_template_areas": null,
            "object_position": null,
            "object_fit": null,
            "grid_auto_columns": null,
            "margin": null,
            "display": null,
            "left": null
          }
        },
        "ad02185582c54e2c9bbf47c63f840d95": {
          "model_module": "@jupyter-widgets/controls",
          "model_name": "DescriptionStyleModel",
          "state": {
            "_view_name": "StyleView",
            "_model_name": "DescriptionStyleModel",
            "description_width": "",
            "_view_module": "@jupyter-widgets/base",
            "_model_module_version": "1.5.0",
            "_view_count": null,
            "_view_module_version": "1.2.0",
            "_model_module": "@jupyter-widgets/controls"
          }
        },
        "2650c4cf39f94392bd96ac99ceb593ed": {
          "model_module": "@jupyter-widgets/base",
          "model_name": "LayoutModel",
          "state": {
            "_view_name": "LayoutView",
            "grid_template_rows": null,
            "right": null,
            "justify_content": null,
            "_view_module": "@jupyter-widgets/base",
            "overflow": null,
            "_model_module_version": "1.2.0",
            "_view_count": null,
            "flex_flow": null,
            "width": null,
            "min_width": null,
            "border": null,
            "align_items": null,
            "bottom": null,
            "_model_module": "@jupyter-widgets/base",
            "top": null,
            "grid_column": null,
            "overflow_y": null,
            "overflow_x": null,
            "grid_auto_flow": null,
            "grid_area": null,
            "grid_template_columns": null,
            "flex": null,
            "_model_name": "LayoutModel",
            "justify_items": null,
            "grid_row": null,
            "max_height": null,
            "align_content": null,
            "visibility": null,
            "align_self": null,
            "height": null,
            "min_height": null,
            "padding": null,
            "grid_auto_rows": null,
            "grid_gap": null,
            "max_width": null,
            "order": null,
            "_view_module_version": "1.2.0",
            "grid_template_areas": null,
            "object_position": null,
            "object_fit": null,
            "grid_auto_columns": null,
            "margin": null,
            "display": null,
            "left": null
          }
        },
        "d8554260711c45368c8eb01938620df3": {
          "model_module": "@jupyter-widgets/controls",
          "model_name": "HBoxModel",
          "state": {
            "_view_name": "HBoxView",
            "_dom_classes": [],
            "_model_name": "HBoxModel",
            "_view_module": "@jupyter-widgets/controls",
            "_model_module_version": "1.5.0",
            "_view_count": null,
            "_view_module_version": "1.5.0",
            "box_style": "",
            "layout": "IPY_MODEL_53c7f72719d748e2b131e9adc5b0fbc7",
            "_model_module": "@jupyter-widgets/controls",
            "children": [
              "IPY_MODEL_e370932bb66a4b00a57964b29883b9e7",
              "IPY_MODEL_57d1d9c41e33408e8ecc12be70100f2a"
            ]
          }
        },
        "53c7f72719d748e2b131e9adc5b0fbc7": {
          "model_module": "@jupyter-widgets/base",
          "model_name": "LayoutModel",
          "state": {
            "_view_name": "LayoutView",
            "grid_template_rows": null,
            "right": null,
            "justify_content": null,
            "_view_module": "@jupyter-widgets/base",
            "overflow": null,
            "_model_module_version": "1.2.0",
            "_view_count": null,
            "flex_flow": null,
            "width": null,
            "min_width": null,
            "border": null,
            "align_items": null,
            "bottom": null,
            "_model_module": "@jupyter-widgets/base",
            "top": null,
            "grid_column": null,
            "overflow_y": null,
            "overflow_x": null,
            "grid_auto_flow": null,
            "grid_area": null,
            "grid_template_columns": null,
            "flex": null,
            "_model_name": "LayoutModel",
            "justify_items": null,
            "grid_row": null,
            "max_height": null,
            "align_content": null,
            "visibility": null,
            "align_self": null,
            "height": null,
            "min_height": null,
            "padding": null,
            "grid_auto_rows": null,
            "grid_gap": null,
            "max_width": null,
            "order": null,
            "_view_module_version": "1.2.0",
            "grid_template_areas": null,
            "object_position": null,
            "object_fit": null,
            "grid_auto_columns": null,
            "margin": null,
            "display": null,
            "left": null
          }
        },
        "e370932bb66a4b00a57964b29883b9e7": {
          "model_module": "@jupyter-widgets/controls",
          "model_name": "FloatProgressModel",
          "state": {
            "_view_name": "ProgressView",
            "style": "IPY_MODEL_889559a498c14b0b921d94fa90e2ae53",
            "_dom_classes": [],
            "description": "100%",
            "_model_name": "FloatProgressModel",
            "bar_style": "success",
            "max": 12,
            "_view_module": "@jupyter-widgets/controls",
            "_model_module_version": "1.5.0",
            "value": 12,
            "_view_count": null,
            "_view_module_version": "1.5.0",
            "orientation": "horizontal",
            "min": 0,
            "description_tooltip": null,
            "_model_module": "@jupyter-widgets/controls",
            "layout": "IPY_MODEL_a3907e7352a44c288bfaec9846cf8df4"
          }
        },
        "57d1d9c41e33408e8ecc12be70100f2a": {
          "model_module": "@jupyter-widgets/controls",
          "model_name": "HTMLModel",
          "state": {
            "_view_name": "HTMLView",
            "style": "IPY_MODEL_ef3a650d0166402093bba643ac7c506c",
            "_dom_classes": [],
            "description": "",
            "_model_name": "HTMLModel",
            "placeholder": "​",
            "_view_module": "@jupyter-widgets/controls",
            "_model_module_version": "1.5.0",
            "value": " 12/12 [00:03&lt;00:00,  3.28it/s]",
            "_view_count": null,
            "_view_module_version": "1.5.0",
            "description_tooltip": null,
            "_model_module": "@jupyter-widgets/controls",
            "layout": "IPY_MODEL_a5eaaabf674745039b8bf585ab63d7e6"
          }
        },
        "889559a498c14b0b921d94fa90e2ae53": {
          "model_module": "@jupyter-widgets/controls",
          "model_name": "ProgressStyleModel",
          "state": {
            "_view_name": "StyleView",
            "_model_name": "ProgressStyleModel",
            "description_width": "initial",
            "_view_module": "@jupyter-widgets/base",
            "_model_module_version": "1.5.0",
            "_view_count": null,
            "_view_module_version": "1.2.0",
            "bar_color": null,
            "_model_module": "@jupyter-widgets/controls"
          }
        },
        "a3907e7352a44c288bfaec9846cf8df4": {
          "model_module": "@jupyter-widgets/base",
          "model_name": "LayoutModel",
          "state": {
            "_view_name": "LayoutView",
            "grid_template_rows": null,
            "right": null,
            "justify_content": null,
            "_view_module": "@jupyter-widgets/base",
            "overflow": null,
            "_model_module_version": "1.2.0",
            "_view_count": null,
            "flex_flow": null,
            "width": null,
            "min_width": null,
            "border": null,
            "align_items": null,
            "bottom": null,
            "_model_module": "@jupyter-widgets/base",
            "top": null,
            "grid_column": null,
            "overflow_y": null,
            "overflow_x": null,
            "grid_auto_flow": null,
            "grid_area": null,
            "grid_template_columns": null,
            "flex": null,
            "_model_name": "LayoutModel",
            "justify_items": null,
            "grid_row": null,
            "max_height": null,
            "align_content": null,
            "visibility": null,
            "align_self": null,
            "height": null,
            "min_height": null,
            "padding": null,
            "grid_auto_rows": null,
            "grid_gap": null,
            "max_width": null,
            "order": null,
            "_view_module_version": "1.2.0",
            "grid_template_areas": null,
            "object_position": null,
            "object_fit": null,
            "grid_auto_columns": null,
            "margin": null,
            "display": null,
            "left": null
          }
        },
        "ef3a650d0166402093bba643ac7c506c": {
          "model_module": "@jupyter-widgets/controls",
          "model_name": "DescriptionStyleModel",
          "state": {
            "_view_name": "StyleView",
            "_model_name": "DescriptionStyleModel",
            "description_width": "",
            "_view_module": "@jupyter-widgets/base",
            "_model_module_version": "1.5.0",
            "_view_count": null,
            "_view_module_version": "1.2.0",
            "_model_module": "@jupyter-widgets/controls"
          }
        },
        "a5eaaabf674745039b8bf585ab63d7e6": {
          "model_module": "@jupyter-widgets/base",
          "model_name": "LayoutModel",
          "state": {
            "_view_name": "LayoutView",
            "grid_template_rows": null,
            "right": null,
            "justify_content": null,
            "_view_module": "@jupyter-widgets/base",
            "overflow": null,
            "_model_module_version": "1.2.0",
            "_view_count": null,
            "flex_flow": null,
            "width": null,
            "min_width": null,
            "border": null,
            "align_items": null,
            "bottom": null,
            "_model_module": "@jupyter-widgets/base",
            "top": null,
            "grid_column": null,
            "overflow_y": null,
            "overflow_x": null,
            "grid_auto_flow": null,
            "grid_area": null,
            "grid_template_columns": null,
            "flex": null,
            "_model_name": "LayoutModel",
            "justify_items": null,
            "grid_row": null,
            "max_height": null,
            "align_content": null,
            "visibility": null,
            "align_self": null,
            "height": null,
            "min_height": null,
            "padding": null,
            "grid_auto_rows": null,
            "grid_gap": null,
            "max_width": null,
            "order": null,
            "_view_module_version": "1.2.0",
            "grid_template_areas": null,
            "object_position": null,
            "object_fit": null,
            "grid_auto_columns": null,
            "margin": null,
            "display": null,
            "left": null
          }
        },
        "e25922edfda24fd680b83afcb98a7adf": {
          "model_module": "@jupyter-widgets/controls",
          "model_name": "HBoxModel",
          "state": {
            "_view_name": "HBoxView",
            "_dom_classes": [],
            "_model_name": "HBoxModel",
            "_view_module": "@jupyter-widgets/controls",
            "_model_module_version": "1.5.0",
            "_view_count": null,
            "_view_module_version": "1.5.0",
            "box_style": "",
            "layout": "IPY_MODEL_66d2c0225636457e8b85581ddc426f48",
            "_model_module": "@jupyter-widgets/controls",
            "children": [
              "IPY_MODEL_a884778f39b341319f79e457407be098",
              "IPY_MODEL_51ab0d150a4f4864a91f927425de1193"
            ]
          }
        },
        "66d2c0225636457e8b85581ddc426f48": {
          "model_module": "@jupyter-widgets/base",
          "model_name": "LayoutModel",
          "state": {
            "_view_name": "LayoutView",
            "grid_template_rows": null,
            "right": null,
            "justify_content": null,
            "_view_module": "@jupyter-widgets/base",
            "overflow": null,
            "_model_module_version": "1.2.0",
            "_view_count": null,
            "flex_flow": null,
            "width": null,
            "min_width": null,
            "border": null,
            "align_items": null,
            "bottom": null,
            "_model_module": "@jupyter-widgets/base",
            "top": null,
            "grid_column": null,
            "overflow_y": null,
            "overflow_x": null,
            "grid_auto_flow": null,
            "grid_area": null,
            "grid_template_columns": null,
            "flex": null,
            "_model_name": "LayoutModel",
            "justify_items": null,
            "grid_row": null,
            "max_height": null,
            "align_content": null,
            "visibility": null,
            "align_self": null,
            "height": null,
            "min_height": null,
            "padding": null,
            "grid_auto_rows": null,
            "grid_gap": null,
            "max_width": null,
            "order": null,
            "_view_module_version": "1.2.0",
            "grid_template_areas": null,
            "object_position": null,
            "object_fit": null,
            "grid_auto_columns": null,
            "margin": null,
            "display": null,
            "left": null
          }
        },
        "a884778f39b341319f79e457407be098": {
          "model_module": "@jupyter-widgets/controls",
          "model_name": "FloatProgressModel",
          "state": {
            "_view_name": "ProgressView",
            "style": "IPY_MODEL_f689f5675d0b48b7a73360f98a662a11",
            "_dom_classes": [],
            "description": "100%",
            "_model_name": "FloatProgressModel",
            "bar_style": "success",
            "max": 90,
            "_view_module": "@jupyter-widgets/controls",
            "_model_module_version": "1.5.0",
            "value": 90,
            "_view_count": null,
            "_view_module_version": "1.5.0",
            "orientation": "horizontal",
            "min": 0,
            "description_tooltip": null,
            "_model_module": "@jupyter-widgets/controls",
            "layout": "IPY_MODEL_bd0d39af3b7646b08c37e8182caff93b"
          }
        },
        "51ab0d150a4f4864a91f927425de1193": {
          "model_module": "@jupyter-widgets/controls",
          "model_name": "HTMLModel",
          "state": {
            "_view_name": "HTMLView",
            "style": "IPY_MODEL_29c3ff8fcda94b99ac068b6001437661",
            "_dom_classes": [],
            "description": "",
            "_model_name": "HTMLModel",
            "placeholder": "​",
            "_view_module": "@jupyter-widgets/controls",
            "_model_module_version": "1.5.0",
            "value": " 90/90 [00:11&lt;00:00,  8.06it/s]",
            "_view_count": null,
            "_view_module_version": "1.5.0",
            "description_tooltip": null,
            "_model_module": "@jupyter-widgets/controls",
            "layout": "IPY_MODEL_012ed6b4461841bfb904cb600093a2c2"
          }
        },
        "f689f5675d0b48b7a73360f98a662a11": {
          "model_module": "@jupyter-widgets/controls",
          "model_name": "ProgressStyleModel",
          "state": {
            "_view_name": "StyleView",
            "_model_name": "ProgressStyleModel",
            "description_width": "initial",
            "_view_module": "@jupyter-widgets/base",
            "_model_module_version": "1.5.0",
            "_view_count": null,
            "_view_module_version": "1.2.0",
            "bar_color": null,
            "_model_module": "@jupyter-widgets/controls"
          }
        },
        "bd0d39af3b7646b08c37e8182caff93b": {
          "model_module": "@jupyter-widgets/base",
          "model_name": "LayoutModel",
          "state": {
            "_view_name": "LayoutView",
            "grid_template_rows": null,
            "right": null,
            "justify_content": null,
            "_view_module": "@jupyter-widgets/base",
            "overflow": null,
            "_model_module_version": "1.2.0",
            "_view_count": null,
            "flex_flow": null,
            "width": null,
            "min_width": null,
            "border": null,
            "align_items": null,
            "bottom": null,
            "_model_module": "@jupyter-widgets/base",
            "top": null,
            "grid_column": null,
            "overflow_y": null,
            "overflow_x": null,
            "grid_auto_flow": null,
            "grid_area": null,
            "grid_template_columns": null,
            "flex": null,
            "_model_name": "LayoutModel",
            "justify_items": null,
            "grid_row": null,
            "max_height": null,
            "align_content": null,
            "visibility": null,
            "align_self": null,
            "height": null,
            "min_height": null,
            "padding": null,
            "grid_auto_rows": null,
            "grid_gap": null,
            "max_width": null,
            "order": null,
            "_view_module_version": "1.2.0",
            "grid_template_areas": null,
            "object_position": null,
            "object_fit": null,
            "grid_auto_columns": null,
            "margin": null,
            "display": null,
            "left": null
          }
        },
        "29c3ff8fcda94b99ac068b6001437661": {
          "model_module": "@jupyter-widgets/controls",
          "model_name": "DescriptionStyleModel",
          "state": {
            "_view_name": "StyleView",
            "_model_name": "DescriptionStyleModel",
            "description_width": "",
            "_view_module": "@jupyter-widgets/base",
            "_model_module_version": "1.5.0",
            "_view_count": null,
            "_view_module_version": "1.2.0",
            "_model_module": "@jupyter-widgets/controls"
          }
        },
        "012ed6b4461841bfb904cb600093a2c2": {
          "model_module": "@jupyter-widgets/base",
          "model_name": "LayoutModel",
          "state": {
            "_view_name": "LayoutView",
            "grid_template_rows": null,
            "right": null,
            "justify_content": null,
            "_view_module": "@jupyter-widgets/base",
            "overflow": null,
            "_model_module_version": "1.2.0",
            "_view_count": null,
            "flex_flow": null,
            "width": null,
            "min_width": null,
            "border": null,
            "align_items": null,
            "bottom": null,
            "_model_module": "@jupyter-widgets/base",
            "top": null,
            "grid_column": null,
            "overflow_y": null,
            "overflow_x": null,
            "grid_auto_flow": null,
            "grid_area": null,
            "grid_template_columns": null,
            "flex": null,
            "_model_name": "LayoutModel",
            "justify_items": null,
            "grid_row": null,
            "max_height": null,
            "align_content": null,
            "visibility": null,
            "align_self": null,
            "height": null,
            "min_height": null,
            "padding": null,
            "grid_auto_rows": null,
            "grid_gap": null,
            "max_width": null,
            "order": null,
            "_view_module_version": "1.2.0",
            "grid_template_areas": null,
            "object_position": null,
            "object_fit": null,
            "grid_auto_columns": null,
            "margin": null,
            "display": null,
            "left": null
          }
        }
      }
    }
  },
  "cells": [
    {
      "cell_type": "markdown",
      "metadata": {
        "id": "0a4_Q1d11xNI"
      },
      "source": [
        "We tried to implement the code from this github:\n",
        "https://github.com/KaiyangZhou/pytorch-center-loss\n",
        "\n",
        "The classes are on the cost_function init.\n",
        "The criterion was updated in order to use both center_loss and attributes. We didn't use the tripletLoss yet since we need to solve the problem of the batch ids. \n",
        "\n",
        "Since this seems to be not working, we will try to implement the centroid. We didn't find any material yet on how to implement the centroid. We found the repo above(centerLoss) while searching for the centroid. "
      ]
    },
    {
      "cell_type": "code",
      "metadata": {
        "id": "2YOHCjjwPGWc"
      },
      "source": [
        "# !wget https://market1501.s3-us-west-2.amazonaws.com/dataset.zip\n",
        "# !unzip -q dataset.zip -d dataset"
      ],
      "execution_count": 1,
      "outputs": []
    },
    {
      "cell_type": "code",
      "metadata": {
        "id": "_--0IpcYHBC_"
      },
      "source": [
        "# !rm -rf /content/deeplearning_unitn\n",
        "# !git clone https://github.com/deayalar/deeplearning_unitn.git"
      ],
      "execution_count": 2,
      "outputs": []
    },
    {
      "cell_type": "code",
      "metadata": {
        "id": "lUb-UELw5R_B",
        "colab": {
          "base_uri": "https://localhost:8080/"
        },
        "outputId": "d21d4e0e-34f2-444d-9c19-19285e92e5e0"
      },
      "source": [
        "!nvidia-smi"
      ],
      "execution_count": 3,
      "outputs": [
        {
          "output_type": "stream",
          "text": [
            "Wed Jun 23 21:24:11 2021       \n",
            "+-----------------------------------------------------------------------------+\n",
            "| NVIDIA-SMI 465.27       Driver Version: 460.32.03    CUDA Version: 11.2     |\n",
            "|-------------------------------+----------------------+----------------------+\n",
            "| GPU  Name        Persistence-M| Bus-Id        Disp.A | Volatile Uncorr. ECC |\n",
            "| Fan  Temp  Perf  Pwr:Usage/Cap|         Memory-Usage | GPU-Util  Compute M. |\n",
            "|                               |                      |               MIG M. |\n",
            "|===============================+======================+======================|\n",
            "|   0  Tesla T4            Off  | 00000000:00:04.0 Off |                    0 |\n",
            "| N/A   50C    P8    10W /  70W |      0MiB / 15109MiB |      0%      Default |\n",
            "|                               |                      |                  N/A |\n",
            "+-------------------------------+----------------------+----------------------+\n",
            "                                                                               \n",
            "+-----------------------------------------------------------------------------+\n",
            "| Processes:                                                                  |\n",
            "|  GPU   GI   CI        PID   Type   Process name                  GPU Memory |\n",
            "|        ID   ID                                                   Usage      |\n",
            "|=============================================================================|\n",
            "|  No running processes found                                                 |\n",
            "+-----------------------------------------------------------------------------+\n"
          ],
          "name": "stdout"
        }
      ]
    },
    {
      "cell_type": "code",
      "metadata": {
        "id": "g-GfOs_XIJGN"
      },
      "source": [
        "config = dict(\n",
        "    wandb = True,\n",
        "    device = \"auto\", # Select an specific device None to select automatically\n",
        "    train_root = \"/content/dataset/train\",\n",
        "    test_root = \"/content/dataset/test\", \n",
        "    queries_root = \"/content/dataset/queries\",\n",
        "    attributes_file = \"/content/dataset/annotations_train.csv\",\n",
        "    #train_root = \"/media/deayalar/Data/Documents/Unitn/Deep Learning/Assignment/dataset/train\",\n",
        "    #test_root = \"/media/deayalar/Data/Documents/Unitn/Deep Learning/Assignment/dataset/test\",\n",
        "    #queries_root = \"/media/deayalar/Data/Documents/Unitn/Deep Learning/Assignment/dataset/queries\",\n",
        "    #attributes_file = \"/media/deayalar/Data/Documents/Unitn/Deep Learning/Assignment/dataset/annotations_train.csv\",\n",
        "    dataset=\"Market1501\",\n",
        "    backbone = \"resnet18\",\n",
        "    split = dict(\n",
        "        full_training_size = 0.75,\n",
        "        train_size = 0.8\n",
        "    ),\n",
        "    compose = dict(\n",
        "        resize_h = 224,\n",
        "        resize_w = 224\n",
        "    ),\n",
        "    weight_centloss=5,\n",
        "    epochs=8,\n",
        "    training_batch_size=128,\n",
        "    validation_batch_size=32,\n",
        "    learning_rate=0.01,\n",
        "    weight_decay=0.000001, \n",
        "    momentum=0.9,\n",
        "    test_before_training=False,\n",
        "    test_after_epochs=10,\n",
        "    mAP_rank=15)"
      ],
      "execution_count": 17,
      "outputs": []
    },
    {
      "cell_type": "code",
      "metadata": {
        "id": "wpj16wGSIgxr",
        "colab": {
          "base_uri": "https://localhost:8080/"
        },
        "outputId": "890110f9-14bf-41ed-d48b-3be9da25bb36"
      },
      "source": [
        "%cd /content/deeplearning_unitn\n",
        "\n",
        "import os\n",
        "import torch\n",
        "import torch.nn as nn\n",
        "import torch.nn.functional as F\n",
        "import torchvision\n",
        "import torch.optim as optim\n",
        "import torchvision.transforms as transforms\n",
        "from torch.utils.data import DataLoader\n",
        "import numpy as np\n",
        "from tqdm.notebook import tqdm\n",
        "\n",
        "import cost_functions\n",
        "from evaluation import Evaluator\n",
        "from datasets.reid_dataset import Market1501\n",
        "from cost_functions import OverallLossWrapper\n",
        "from utils.split_data import ValidationSplitter, TrainingSplitter\n",
        "from models.reid_model import FinetunedModel\n",
        "from sklearn.metrics import accuracy_score, precision_score, recall_score, f1_score\n",
        "\n",
        "from cost_functions import CenterLoss\n",
        "\n",
        "if config[\"device\"] == \"auto\":\n",
        "    device = torch.device(\"cuda:0\" if torch.cuda.is_available() else \"cpu\")\n",
        "else:\n",
        "    device = config[\"device\"]\n",
        "print(device)"
      ],
      "execution_count": 5,
      "outputs": [
        {
          "output_type": "stream",
          "text": [
            "/content/deeplearning_unitn\n",
            "cuda:0\n"
          ],
          "name": "stdout"
        }
      ]
    },
    {
      "cell_type": "code",
      "metadata": {
        "id": "KE5e6DB4Igxs",
        "colab": {
          "base_uri": "https://localhost:8080/"
        },
        "outputId": "bc4ed8b8-71ce-4acb-f751-38951ea9e4d5"
      },
      "source": [
        "!pip install wandb -q\n",
        "import wandb\n",
        "if config[\"wandb\"]:\n",
        "  wandb.login()"
      ],
      "execution_count": 6,
      "outputs": [
        {
          "output_type": "stream",
          "text": [
            "\u001b[34m\u001b[1mwandb\u001b[0m: Currently logged in as: \u001b[33msango\u001b[0m (use `wandb login --relogin` to force relogin)\n"
          ],
          "name": "stderr"
        }
      ]
    },
    {
      "cell_type": "code",
      "metadata": {
        "id": "dm98oBsFEHio"
      },
      "source": [
        "def model_pipeline(hyperparameters):\n",
        "    \"\"\"\n",
        "    This function corresponds to the basic pipeline of all tested models\n",
        "    0) Split data\n",
        "    1) Setup based on the configuration\n",
        "    2) Train the model\n",
        "    3) Test performance\n",
        "    \"\"\"\n",
        "    config = hyperparameters\n",
        "    if config[\"wandb\"]:\n",
        "      wandb.init(entity=\"dl_unitn\", project=\"dl_project\", config=hyperparameters)\n",
        "      config = wandb.config\n",
        "    print(config)\n",
        "    \n",
        "    train_set, val_set, val_queries = split_data(config)\n",
        "    \n",
        "    model, train_loader, val_loader, val_queries_loader, criterion, optimizer_attr, optimizer_centloss = setup(train_set, val_set, val_queries, config)\n",
        "    id_ground_truth_dict = build_ground_truth(val_set, val_queries)\n",
        "\n",
        "    print(\"Using \"+ config[\"backbone\"] + \" as backbone\")\n",
        "    if config[\"test_before_training\"]:\n",
        "      test(model, val_loader, val_queries_loader, id_ground_truth_dict, config)\n",
        "\n",
        "    train(model, train_loader, val_loader, criterion, optimizer_attr, optimizer_centloss, config)\n",
        "\n",
        "    test(model, val_loader, val_queries_loader, id_ground_truth_dict, config, save_model=True)\n",
        "\n",
        "    return model"
      ],
      "execution_count": 7,
      "outputs": []
    },
    {
      "cell_type": "code",
      "metadata": {
        "id": "zBoOUBtPIgxu"
      },
      "source": [
        "def build_ground_truth(val_set, val_queries):\n",
        "    values = []\n",
        "    for q in val_queries:\n",
        "        matches = []\n",
        "        for idx_v, v in enumerate(val_set):\n",
        "            if v.split(\"_\")[0] == q.split(\"_\")[0]:\n",
        "                matches.append(idx_v)\n",
        "        value = set(matches)\n",
        "        values.append(value)\n",
        "        \n",
        "    ground_truth_dict = dict(zip(list(range(0, len(val_queries))), values))\n",
        "    return ground_truth_dict\n"
      ],
      "execution_count": 8,
      "outputs": []
    },
    {
      "cell_type": "code",
      "metadata": {
        "id": "Z0fYIjoLG2rv"
      },
      "source": [
        "def split_data(config):\n",
        "    \"\"\"Returns a list with the names of theimages in each set\"\"\"\n",
        "    splitter = ValidationSplitter(train_root=config[\"train_root\"], \n",
        "                                  test_root=config[\"test_root\"], \n",
        "                                  queries_root=config[\"queries_root\"])\n",
        "    train_set, val_set, val_queries = splitter.split(train_size=config[\"split\"][\"full_training_size\"],\n",
        "                                                     random_seed=42)\n",
        "    return train_set, val_set, val_queries\n",
        "\n",
        "def setup(train_set, val_set, val_queries, config):\n",
        "    #Create pytorch Datasets\n",
        "    train_composed = transforms.Compose([ transforms.Resize((config[\"compose\"][\"resize_h\"], \n",
        "                                                      config[\"compose\"][\"resize_w\"])),\n",
        "                                          transforms.RandomHorizontalFlip(),\n",
        "                                          transforms.ToTensor(),\n",
        "                                          transforms.Normalize(mean=[0.485, 0.456, 0.406],\n",
        "                                                                std=[0.229, 0.224, 0.225]),\n",
        "                                          transforms.RandomErasing(p=0.6)])\n",
        "    \n",
        "    val_composed = transforms.Compose([transforms.Resize((config[\"compose\"][\"resize_h\"], \n",
        "                                                      config[\"compose\"][\"resize_w\"])),\n",
        "                                   transforms.ToTensor(),\n",
        "                                   transforms.Normalize(mean=[0.485, 0.456, 0.406],\n",
        "                                                        std=[0.229, 0.224, 0.225])])\n",
        "    \n",
        "    train_dataset = Market1501(root_dir=config[\"train_root\"],\n",
        "                            attributes_file=config[\"attributes_file\"],\n",
        "                            images_list=train_set,\n",
        "                            transform=train_composed)\n",
        "                            \n",
        "    val_dataset = Market1501(root_dir=config[\"train_root\"],\n",
        "                         attributes_file=config[\"attributes_file\"],\n",
        "                         images_list=val_set,\n",
        "                         transform=val_composed)\n",
        "\n",
        "    val_queries_dataset = Market1501(root_dir=config[\"train_root\"],\n",
        "                         attributes_file=config[\"attributes_file\"],\n",
        "                         images_list=val_queries,\n",
        "                         transform=val_composed)\n",
        "\n",
        "    train_loader = torch.utils.data.DataLoader(train_dataset, \n",
        "                                               batch_size=config[\"training_batch_size\"], \n",
        "                                               shuffle=True, \n",
        "                                               num_workers=2)\n",
        "                                               \n",
        "    val_loader = torch.utils.data.DataLoader(val_dataset, \n",
        "                                             batch_size=config[\"validation_batch_size\"], \n",
        "                                             shuffle=False, \n",
        "                                             num_workers=2)\n",
        "\n",
        "    val_queries_loader = torch.utils.data.DataLoader(val_queries_dataset, \n",
        "                                             batch_size=config[\"validation_batch_size\"],\n",
        "                                             shuffle=False, \n",
        "                                             num_workers=2)\n",
        "\n",
        "    attr_len = len(train_dataset[0][2]) #Number of attributes in the csv: 27\n",
        "    print(f\"Number of attributes: {attr_len}\")\n",
        "    model = FinetunedModel(architecture=config[\"backbone\"] ,n_classes=attr_len).to(device)\n",
        "\n",
        "    #This is a combination of the attributes classification loss and the triplet loss for identification\n",
        "    criterion = OverallLossWrapper(num_classes=attr_len, feat_dim=model.feature_size)\n",
        "    # criterion_cent = CenterLoss(num_classes=attr_len, feat_dim=model.feature_size, use_gpu=use_gpu)\n",
        "\n",
        "    optimizer_attr = torch.optim.SGD(model.parameters(), \n",
        "                                lr=config[\"learning_rate\"], \n",
        "                                weight_decay=config[\"weight_decay\"], \n",
        "                                momentum=config[\"momentum\"])\n",
        "    optimizer_centloss = torch.optim.SGD(criterion.id_loss.parameters(), lr=config[\"learning_rate\"])\n",
        "\n",
        "    return model, train_loader, val_loader, val_queries_loader, criterion, optimizer_attr, optimizer_centloss"
      ],
      "execution_count": 9,
      "outputs": []
    },
    {
      "cell_type": "code",
      "metadata": {
        "id": "T0FUbfkUPZJb"
      },
      "source": [
        "def train(model, train_loader, val_loader, criterion, optimizer_attr,optimizer_centloss, config):\n",
        "    print(\"Training...\")\n",
        "    # tell wandb to watch what the model gets up to: gradients, weights, and more!\n",
        "    if config[\"wandb\"]:\n",
        "         wandb.watch(model, criterion, log=\"all\", log_freq=10)\n",
        "    model.train()\n",
        "    # Run training and track with wandb\n",
        "    total_batches = len(train_loader) * config[\"epochs\"]\n",
        "    example_ct = 0  # number of seen examples\n",
        "    batch_ct = 0\n",
        "\n",
        "    for epoch in tqdm(range(config[\"epochs\"])):\n",
        "        for batch_idx, (inputs, identity, attributes) in enumerate(train_loader):\n",
        "            loss = train_batch(inputs, identity, attributes, model, optimizer_attr, optimizer_centloss, criterion)\n",
        "\n",
        "            example_ct +=  len(inputs)\n",
        "            batch_ct += 1\n",
        "\n",
        "            if ((batch_ct + 1) % 50) == 0:\n",
        "                train_log(loss, example_ct, epoch)\n",
        "\n",
        "\n",
        "def train_batch(inputs, identity, attributes, model, optimizer_attr, optimizer_centloss, criterion):\n",
        "    inputs = inputs.to(device)\n",
        "    # attributes = attributes.to(device)\n",
        "    target_attrs = attributes.to(device)\n",
        "    target_ids = list(map(int, identity))\n",
        "    target_ids = torch.as_tensor(target_ids).to(device)\n",
        "\n",
        "    # Forward pass\n",
        "    # TODO: This could be improved in the architecture to return both at the same time and improve the training time\n",
        "    output_attrs = model(inputs)\n",
        "    output_features = model(inputs, get_features=True)\n",
        "\n",
        "    # Apply the loss\n",
        "    loss = criterion(output_attrs, target_attrs, output_features, target_ids)\n",
        "    \n",
        "    optimizer_attr.zero_grad()\n",
        "    optimizer_centloss.zero_grad()\n",
        "    # Backward pass\n",
        "    loss.backward()\n",
        "\n",
        "    # Step with optimizer\n",
        "    optimizer_attr.step()\n",
        "    for param in criterion.id_loss.parameters():\n",
        "            param.grad.data *= (1. / config['weight_centloss'])\n",
        "    optimizer_centloss.step()\n",
        "\n",
        "    return loss"
      ],
      "execution_count": 10,
      "outputs": []
    },
    {
      "cell_type": "code",
      "metadata": {
        "id": "mdfG05psTqWb"
      },
      "source": [
        "def train_log(loss, example_ct, epoch):\n",
        "    loss = float(loss)\n",
        "    if config[\"wandb\"]:\n",
        "        wandb.log({\"epoch\": epoch, \"loss\": loss}, step=example_ct)\n",
        "    print(f\"Epoch {epoch}: Loss after \" + str(example_ct).zfill(5) + f\" examples: {loss:.3f}\")"
      ],
      "execution_count": 11,
      "outputs": []
    },
    {
      "cell_type": "code",
      "metadata": {
        "id": "RkgcTy5MIgx3"
      },
      "source": [
        "def get_features_from_loader(model, loader):\n",
        "    model.eval()\n",
        "    with torch.no_grad():\n",
        "        all_features = torch.zeros(len(loader.dataset), model.feature_size)\n",
        "        for batch_idx, (inputs, ids, attr) in enumerate(tqdm(loader)):\n",
        "                inputs = inputs.to(device)\n",
        "                features = model(inputs, get_features=True)\n",
        "                for in_batch, f in enumerate(features):\n",
        "                    all_features[(batch_idx * loader.batch_size) + in_batch] = f\n",
        "        return all_features\n",
        "\n",
        "\n",
        "def test_mAP(model, gallery_loader, queries_loader, ground_truth_dict, config, save_model=False):\n",
        "    \"\"\"\n",
        "    This function returns the mAP performance of a given model \n",
        "    Params:\n",
        "    model: model to be evaluated\n",
        "    gallery: tensor that contains the feature representations of the target images in validation or test set\n",
        "    queries: tensor that contains feature representations of the queries\n",
        "    rank: top number of elements to retrieve\n",
        "\n",
        "    Returns:\n",
        "    mAP performance of the model\n",
        "    \"\"\"\n",
        "\n",
        "    # Run the model on some test examples\n",
        "    with torch.no_grad():\n",
        "        \n",
        "        # Compute the features for queries and gallery\n",
        "        print(\"Computing gallery features...\")\n",
        "        gallery_features = get_features_from_loader(model, gallery_loader)\n",
        "        print(\"Computing query features...\")\n",
        "        query_features = get_features_from_loader(model, queries_loader)\n",
        "        \n",
        "        # Build the cosine similarity matrix between the all the queries and all the elements in gallery\n",
        "        print(\"Computing cosine similarities...\")\n",
        "        sims_matrix = torch.empty(query_features.size()[0], gallery_features.size()[0])\n",
        "        for idx, q in enumerate(query_features):\n",
        "            sims_matrix[idx] = F.cosine_similarity(q, gallery_features, dim=-1)\n",
        "        \n",
        "        print(\"Similarity matrix shape: \" + str(sims_matrix.size()))\n",
        "        sorted_index = torch.argsort(sims_matrix, dim=1, descending=True)\n",
        "        top_k = sorted_index.narrow_copy(dim=1, start=0, length=config[\"mAP_rank\"])\n",
        "\n",
        "        #Build the dictionary to compute the mAP\n",
        "        predictions_dict = {idx:  r for idx, r in enumerate(top_k.tolist())}\n",
        "        mAP = Evaluator.evaluate_map(predictions_dict, ground_truth_dict)\n",
        "        \n",
        "        print(f\"mAP: {mAP}\")\n",
        "        if config[\"wandb\"]:\n",
        "            wandb.log({\"mAP\": mAP})"
      ],
      "execution_count": 12,
      "outputs": []
    },
    {
      "cell_type": "code",
      "metadata": {
        "id": "bqwJwWFgIgx4"
      },
      "source": [
        "def get_attributes_from_loader(model, loader):\n",
        "    model.eval()\n",
        "\n",
        "    all_predictions = np.empty(shape=[0, 27], dtype=np.byte)\n",
        "    all_attrs = np.empty(shape=[0, 27], dtype=np.byte)\n",
        "\n",
        "    with torch.no_grad():\n",
        "        for batch_idx, (inputs, ids, attr) in enumerate(tqdm(loader)):\n",
        "                inputs = inputs.to(device)\n",
        "                outputs = model(inputs, get_features=False)\n",
        "                #print(\"attr:\",attr)\n",
        "                predictions = torch.empty(attr.size()[1], attr.size()[0])\n",
        "                for attr_idx, output in enumerate(outputs):\n",
        "                    if output.size()[1] == 1: #If the output is binary\n",
        "                        pred = torch.round(torch.squeeze(output, 1))\n",
        "                    else: #Otherwise it is multiclass\n",
        "                        pred = torch.argmax(output, dim=1)\n",
        "                    predictions[attr_idx] = pred\n",
        "\n",
        "                predictions = torch.transpose(predictions, 0, 1).cpu().numpy()\n",
        "                attr = attr.cpu().numpy()\n",
        "\n",
        "                all_predictions = np.append(all_predictions, predictions, axis=0)\n",
        "                #print(\"all_predictions shape: \", all_predictions.shape)\n",
        "                all_attrs = np.append(all_attrs, attr, axis=0)\n",
        "                #print(\"all_attrs shape: \", all_attrs.shape)\n",
        "        return all_predictions, all_attrs\n",
        "\n",
        "def test_attributes(model, loader, config):\n",
        "    print(\"Computing attributes...\")\n",
        "    predictions, attr = get_attributes_from_loader(model, loader)\n",
        "    print(\"pred shape: \", predictions.shape)\n",
        "    print(\"attr shape: \", attr.shape)\n",
        "\n",
        "    accuracy_list = []\n",
        "    precision_list = []\n",
        "    recall_list = []\n",
        "    f1_score_list = []\n",
        "\n",
        "    for i in range(0, predictions.shape[1]):\n",
        "        y_true, y_pred = attr[:, i], predictions[:, i]\n",
        "        accuracy_list.append(accuracy_score(y_true, y_pred))\n",
        "        if i == 0: #If it is age\n",
        "            precision_list.append(precision_score(y_true, y_pred, average='macro'))\n",
        "            recall_list.append(recall_score(y_true, y_pred, average='macro'))\n",
        "            f1_score_list.append(f1_score(y_true, y_pred, average='macro'))\n",
        "        else:\n",
        "            precision_list.append(precision_score(y_true, y_pred))\n",
        "            recall_list.append(recall_score(y_true, y_pred))\n",
        "            f1_score_list.append(f1_score(y_true, y_pred))\n",
        "\n",
        "    average_acc = np.mean(accuracy_list)\n",
        "    average_precision = np.mean(precision_list)\n",
        "    average_recall = np.mean(recall_list)\n",
        "    average_f1score = np.mean(f1_score_list)\n",
        "\n",
        "    print(\"accuracy_list: \", accuracy_list)\n",
        "    print(\"precision_list: \", precision_list)\n",
        "    print(\"recall_list: \", recall_list)\n",
        "    print(\"f1_score_list: \", f1_score_list)\n",
        "\n",
        "    print(\"average_acc: \", average_acc)\n",
        "    print(\"average_precision: \", average_precision)\n",
        "    print(\"average_recall: \", average_recall)\n",
        "    print(\"average_f1score: \", average_f1score)\n",
        "\n",
        "    if config[\"wandb\"]:\n",
        "            wandb.log({\"accuracy_list\": accuracy_list})\n",
        "            wandb.log({\"precision_list\": precision_list})\n",
        "            wandb.log({\"recall_list\": recall_list})\n",
        "            wandb.log({\"f1_score_list\": f1_score_list})\n",
        "\n",
        "            wandb.log({\"average accuracy\": average_acc})\n",
        "            wandb.log({\"average precision\": average_precision})\n",
        "            wandb.log({\"average recall\": average_recall})\n",
        "            wandb.log({\"average f1\": average_f1score})"
      ],
      "execution_count": 13,
      "outputs": []
    },
    {
      "cell_type": "code",
      "metadata": {
        "id": "ZN6pjSVOKTCt"
      },
      "source": [
        "def test(model, gallery_loader, queries_loader, ground_truth_dict, config, save_model=False):\n",
        "    print(\"Testing\")\n",
        "    model.eval()\n",
        "\n",
        "    test_mAP(model, gallery_loader, queries_loader, ground_truth_dict, config)\n",
        "    test_attributes(model, gallery_loader, config)\n",
        "\n",
        "    if save_model :\n",
        "      # Save the model in the exchangeable ONNX format\n",
        "      inputs, id, attr = next(iter(gallery_loader))\n",
        "      torch.onnx.export(model, inputs.to(device), \"model.onnx\", True)\n",
        "      if config[\"wandb\"]:\n",
        "        wandb.save(\"model.onnx\")"
      ],
      "execution_count": 14,
      "outputs": []
    },
    {
      "cell_type": "code",
      "metadata": {
        "id": "gqtuT4NEPu_a",
        "colab": {
          "base_uri": "https://localhost:8080/",
          "height": 1000,
          "referenced_widgets": [
            "3b18b601785a40ec9833b885be45d618",
            "577c0ca462e24b9984c3ee94e7996f73",
            "844ca9aee9dc49be86b0b102a910acff",
            "e85c425736f54069819d87ea7821867a",
            "eb4d5345c19447b282b037e0ba241ca8",
            "207973b9373a475ca7a940f6bbf2e37c",
            "7dc5270c09de4d2599dbcb24e45fc519",
            "ed06ec3c50804aa6ac1955afe46c4513",
            "45c41d43639c46fbac8138c3ff3c19eb",
            "609019c741d24ec2b979894e264c1906",
            "0fdbe3b8cfda482494212fff299fa04e",
            "af8c33b0e1a043f9b6e8b95aa0707669",
            "2091367892954b9eb6cdfaa4bce28462",
            "7209ad3919ee4b53a0ed5c02de5ff4b5",
            "3607286442eb49e493b600bb449098bb",
            "e47a34463afd46fa8ba4e169c7fdae85",
            "3cc7afdf39c74f158ada8e4ed6dee845",
            "ccef2ca6040e45e1a81f700edf305859",
            "f25c5cafbf3d49e1bf1f94342a8100f9",
            "bf5d88017aba44a69de01fc888fda3a5",
            "397828d436a0428185ab1a955e218f3c",
            "48ff582256f54db9a47ef0af375f159c",
            "ad02185582c54e2c9bbf47c63f840d95",
            "2650c4cf39f94392bd96ac99ceb593ed",
            "d8554260711c45368c8eb01938620df3",
            "53c7f72719d748e2b131e9adc5b0fbc7",
            "e370932bb66a4b00a57964b29883b9e7",
            "57d1d9c41e33408e8ecc12be70100f2a",
            "889559a498c14b0b921d94fa90e2ae53",
            "a3907e7352a44c288bfaec9846cf8df4",
            "ef3a650d0166402093bba643ac7c506c",
            "a5eaaabf674745039b8bf585ab63d7e6",
            "e25922edfda24fd680b83afcb98a7adf",
            "66d2c0225636457e8b85581ddc426f48",
            "a884778f39b341319f79e457407be098",
            "51ab0d150a4f4864a91f927425de1193",
            "f689f5675d0b48b7a73360f98a662a11",
            "bd0d39af3b7646b08c37e8182caff93b",
            "29c3ff8fcda94b99ac068b6001437661",
            "012ed6b4461841bfb904cb600093a2c2"
          ]
        },
        "outputId": "eb97e98d-f70a-46ba-b4cc-57e2131f8b78"
      },
      "source": [
        "model = model_pipeline(config)"
      ],
      "execution_count": 18,
      "outputs": [
        {
          "output_type": "display_data",
          "data": {
            "text/html": [
              "Finishing last run (ID:1ybz3heb) before initializing another..."
            ],
            "text/plain": [
              "<IPython.core.display.HTML object>"
            ]
          },
          "metadata": {
            "tags": []
          }
        },
        {
          "output_type": "display_data",
          "data": {
            "text/html": [
              "<br/>Waiting for W&B process to finish, PID 4166<br/>Program ended successfully."
            ],
            "text/plain": [
              "<IPython.core.display.HTML object>"
            ]
          },
          "metadata": {
            "tags": []
          }
        },
        {
          "output_type": "display_data",
          "data": {
            "application/vnd.jupyter.widget-view+json": {
              "model_id": "3b18b601785a40ec9833b885be45d618",
              "version_minor": 0,
              "version_major": 2
            },
            "text/plain": [
              "VBox(children=(Label(value=' 42.69MB of 42.69MB uploaded (0.00MB deduped)\\r'), FloatProgress(value=1.0, max=1.…"
            ]
          },
          "metadata": {
            "tags": []
          }
        },
        {
          "output_type": "display_data",
          "data": {
            "text/html": [
              "Find user logs for this run at: <code>/content/deeplearning_unitn/wandb/run-20210623_212415-1ybz3heb/logs/debug.log</code>"
            ],
            "text/plain": [
              "<IPython.core.display.HTML object>"
            ]
          },
          "metadata": {
            "tags": []
          }
        },
        {
          "output_type": "display_data",
          "data": {
            "text/html": [
              "Find internal logs for this run at: <code>/content/deeplearning_unitn/wandb/run-20210623_212415-1ybz3heb/logs/debug-internal.log</code>"
            ],
            "text/plain": [
              "<IPython.core.display.HTML object>"
            ]
          },
          "metadata": {
            "tags": []
          }
        },
        {
          "output_type": "display_data",
          "data": {
            "text/html": [
              "<h3>Run summary:</h3><br/><style>\n",
              "    table.wandb td:nth-child(1) { padding: 0 10px; text-align: right }\n",
              "    </style><table class=\"wandb\">\n",
              "<tr><td>_runtime</td><td>542</td></tr><tr><td>_timestamp</td><td>1624483997</td></tr><tr><td>_step</td><td>76092</td></tr><tr><td>epoch</td><td>7</td></tr><tr><td>loss</td><td>25.04702</td></tr><tr><td>mAP</td><td>0.09166</td></tr><tr><td>average accuracy</td><td>0.87734</td></tr><tr><td>average precision</td><td>0.38452</td></tr><tr><td>average recall</td><td>0.26913</td></tr><tr><td>average f1</td><td>0.29256</td></tr></table>"
            ],
            "text/plain": [
              "<IPython.core.display.HTML object>"
            ]
          },
          "metadata": {
            "tags": []
          }
        },
        {
          "output_type": "display_data",
          "data": {
            "text/html": [
              "<h3>Run history:</h3><br/><style>\n",
              "    table.wandb td:nth-child(1) { padding: 0 10px; text-align: right }\n",
              "    </style><table class=\"wandb\">\n",
              "<tr><td>_runtime</td><td>▁▂▂▃▃▄▅▅▆▆▇▇█████████</td></tr><tr><td>_timestamp</td><td>▁▂▂▃▃▄▅▅▆▆▇▇█████████</td></tr><tr><td>_step</td><td>▁▂▂▃▃▄▄▅▆▆▇▇█████████</td></tr><tr><td>epoch</td><td>▁▂▂▃▄▄▅▆▆▇██</td></tr><tr><td>loss</td><td>▄▃▁▃▃▃▆█▄▁▂▇</td></tr><tr><td>mAP</td><td>▁</td></tr><tr><td>average accuracy</td><td>▁</td></tr><tr><td>average precision</td><td>▁</td></tr><tr><td>average recall</td><td>▁</td></tr><tr><td>average f1</td><td>▁</td></tr></table><br/>"
            ],
            "text/plain": [
              "<IPython.core.display.HTML object>"
            ]
          },
          "metadata": {
            "tags": []
          }
        },
        {
          "output_type": "display_data",
          "data": {
            "text/html": [
              "Synced 5 W&B file(s), 0 media file(s), 0 artifact file(s) and 1 other file(s)"
            ],
            "text/plain": [
              "<IPython.core.display.HTML object>"
            ]
          },
          "metadata": {
            "tags": []
          }
        },
        {
          "output_type": "display_data",
          "data": {
            "text/html": [
              "\n",
              "                    <br/>Synced <strong style=\"color:#cdcd00\">blooming-shadow-50</strong>: <a href=\"https://wandb.ai/dl_unitn/dl_project/runs/1ybz3heb\" target=\"_blank\">https://wandb.ai/dl_unitn/dl_project/runs/1ybz3heb</a><br/>\n",
              "                "
            ],
            "text/plain": [
              "<IPython.core.display.HTML object>"
            ]
          },
          "metadata": {
            "tags": []
          }
        },
        {
          "output_type": "display_data",
          "data": {
            "text/html": [
              "...Successfully finished last run (ID:1ybz3heb). Initializing new run:<br/><br/>"
            ],
            "text/plain": [
              "<IPython.core.display.HTML object>"
            ]
          },
          "metadata": {
            "tags": []
          }
        },
        {
          "output_type": "display_data",
          "data": {
            "text/html": [
              "\n",
              "                Tracking run with wandb version 0.10.32<br/>\n",
              "                Syncing run <strong style=\"color:#cdcd00\">laced-frost-51</strong> to <a href=\"https://wandb.ai\" target=\"_blank\">Weights & Biases</a> <a href=\"https://docs.wandb.com/integrations/jupyter.html\" target=\"_blank\">(Documentation)</a>.<br/>\n",
              "                Project page: <a href=\"https://wandb.ai/dl_unitn/dl_project\" target=\"_blank\">https://wandb.ai/dl_unitn/dl_project</a><br/>\n",
              "                Run page: <a href=\"https://wandb.ai/dl_unitn/dl_project/runs/18d4nlkq\" target=\"_blank\">https://wandb.ai/dl_unitn/dl_project/runs/18d4nlkq</a><br/>\n",
              "                Run data is saved locally in <code>/content/deeplearning_unitn/wandb/run-20210623_213410-18d4nlkq</code><br/><br/>\n",
              "            "
            ],
            "text/plain": [
              "<IPython.core.display.HTML object>"
            ]
          },
          "metadata": {
            "tags": []
          }
        },
        {
          "output_type": "stream",
          "text": [
            "{'wandb': True, 'device': 'auto', 'train_root': '/content/dataset/train', 'test_root': '/content/dataset/test', 'queries_root': '/content/dataset/queries', 'attributes_file': '/content/dataset/annotations_train.csv', 'dataset': 'Market1501', 'backbone': 'resnet18', 'split': {'full_training_size': 0.75, 'train_size': 0.8}, 'compose': {'resize_h': 224, 'resize_w': 224}, 'weight_centloss': 5, 'epochs': 8, 'training_batch_size': 128, 'validation_batch_size': 32, 'learning_rate': 0.01, 'weight_decay': 1e-06, 'momentum': 0.9, 'test_before_training': False, 'test_after_epochs': 10, 'mAP_rank': 15}\n",
            "Extract queries proportion: 0.11\n",
            "Identities in train set: 563\n",
            "Identities in validation set: 188\n",
            "Train set size: 9772\n",
            "Validation set size: 2863\n",
            "Number of validation queries: 354\n",
            "Number of attributes: 27\n",
            "Backbone feature size: 512\n",
            "Using resnet18 as backbone\n",
            "Training...\n"
          ],
          "name": "stdout"
        },
        {
          "output_type": "display_data",
          "data": {
            "application/vnd.jupyter.widget-view+json": {
              "model_id": "45c41d43639c46fbac8138c3ff3c19eb",
              "version_minor": 0,
              "version_major": 2
            },
            "text/plain": [
              "HBox(children=(FloatProgress(value=0.0, max=8.0), HTML(value='')))"
            ]
          },
          "metadata": {
            "tags": []
          }
        },
        {
          "output_type": "stream",
          "text": [
            "Epoch 0: Loss after 06272 examples: 27.498\n",
            "Epoch 1: Loss after 12588 examples: 22.841\n",
            "Epoch 1: Loss after 18988 examples: 30.482\n",
            "Epoch 2: Loss after 25304 examples: 12.473\n",
            "Epoch 3: Loss after 31620 examples: 17.541\n",
            "Epoch 3: Loss after 38020 examples: 11.936\n",
            "Epoch 4: Loss after 44336 examples: 12.921\n",
            "Epoch 5: Loss after 50652 examples: 9.522\n",
            "Epoch 5: Loss after 57052 examples: 18.500\n",
            "Epoch 6: Loss after 63368 examples: 10.627\n",
            "Epoch 7: Loss after 69684 examples: 12.738\n",
            "Epoch 7: Loss after 76084 examples: 11.982\n",
            "\n",
            "Testing\n",
            "Computing gallery features...\n"
          ],
          "name": "stdout"
        },
        {
          "output_type": "display_data",
          "data": {
            "application/vnd.jupyter.widget-view+json": {
              "model_id": "3cc7afdf39c74f158ada8e4ed6dee845",
              "version_minor": 0,
              "version_major": 2
            },
            "text/plain": [
              "HBox(children=(FloatProgress(value=0.0, max=90.0), HTML(value='')))"
            ]
          },
          "metadata": {
            "tags": []
          }
        },
        {
          "output_type": "stream",
          "text": [
            "\n",
            "Computing query features...\n"
          ],
          "name": "stdout"
        },
        {
          "output_type": "display_data",
          "data": {
            "application/vnd.jupyter.widget-view+json": {
              "model_id": "d8554260711c45368c8eb01938620df3",
              "version_minor": 0,
              "version_major": 2
            },
            "text/plain": [
              "HBox(children=(FloatProgress(value=0.0, max=12.0), HTML(value='')))"
            ]
          },
          "metadata": {
            "tags": []
          }
        },
        {
          "output_type": "stream",
          "text": [
            "\n",
            "Computing cosine similarities...\n",
            "Similarity matrix shape: torch.Size([354, 2863])\n",
            "mAP: 0.09372050874651126\n",
            "Computing attributes...\n"
          ],
          "name": "stdout"
        },
        {
          "output_type": "display_data",
          "data": {
            "application/vnd.jupyter.widget-view+json": {
              "model_id": "e25922edfda24fd680b83afcb98a7adf",
              "version_minor": 0,
              "version_major": 2
            },
            "text/plain": [
              "HBox(children=(FloatProgress(value=0.0, max=90.0), HTML(value='')))"
            ]
          },
          "metadata": {
            "tags": []
          }
        },
        {
          "output_type": "stream",
          "text": [
            "\n",
            "pred shape:  (2863, 27)\n",
            "attr shape:  (2863, 27)\n",
            "accuracy_list:  [0.8319944114565141, 0.6597974152986378, 0.7743625567586447, 0.8952148096402375, 0.8194201886133426, 0.7914774711840726, 0.9668180230527419, 0.6884387006636395, 0.9724065665385959, 0.6929793922458959, 0.9109325881942019, 0.8585399930143206, 0.9186168354872511, 0.960880195599022, 0.9154732797764583, 0.9154732797764583, 0.9119804400977995, 0.930143206426825, 0.798812434509256, 0.9601816276632903, 0.8787984631505414, 1.0, 0.9968564442892072, 0.8438700663639539, 0.8386308068459658, 0.9738037024100594, 0.9070904645476773]\n",
            "precision_list:  [0.20799860286412852, 0.36363636363636365, 0.03361344537815126, 0.0, 0.918973124749298, 0.8209939148073022, 0.9668180230527419, 0.43443557582668185, 0.0, 0.599047619047619, 0.6816976127320955, 0.7958333333333333, 0.7990654205607477, 0.0, 1.0, 0.23684210526315788, 0.44025157232704404, 0.3939393939393939, 0.7166910688140556, 0.5555555555555556, 0.14689265536723164, 0.0, 0.0, 0.4090909090909091, 0.5671641791044776, 0.0, 0.0]\n",
            "recall_list:  [0.25, 0.11607142857142858, 0.007476635514018692, 0.0, 0.8791250959324636, 0.8690284487385936, 1.0, 0.49034749034749037, 0.0, 0.578656853725851, 0.6556122448979592, 0.6895306859205776, 0.47368421052631576, 0.0, 0.03968253968253968, 0.04054054054054054, 0.30042918454935624, 0.06735751295336788, 0.8381849315068494, 0.043478260869565216, 0.11711711711711711, 0.0, 0.0, 0.020316027088036117, 0.2331288343558282, 0.0, 0.0]\n",
            "f1_score_list:  [0.22707340324118208, 0.17597292724196276, 0.012232415902140673, 0.0, 0.8986075701117866, 0.844328552803129, 0.9831291067305985, 0.4607013301088271, 0.0, 0.5886757136172205, 0.6684005201560468, 0.7388781431334622, 0.5947826086956521, 0.0, 0.07633587786259541, 0.06923076923076923, 0.3571428571428572, 0.11504424778761062, 0.7726913970007894, 0.08064516129032258, 0.13032581453634084, 0.0, 0.0, 0.03870967741935484, 0.33043478260869563, 0.0, 0.0]\n",
            "average_acc:  0.8745553097631338\n",
            "average_precision:  0.4106866842759366\n",
            "average_recall:  0.2855469645495518\n",
            "average_f1score:  0.3023460324674572\n"
          ],
          "name": "stdout"
        },
        {
          "output_type": "stream",
          "text": [
            "/usr/local/lib/python3.7/dist-packages/sklearn/metrics/_classification.py:1272: UndefinedMetricWarning: Precision is ill-defined and being set to 0.0 in labels with no predicted samples. Use `zero_division` parameter to control this behavior.\n",
            "  _warn_prf(average, modifier, msg_start, len(result))\n",
            "/usr/local/lib/python3.7/dist-packages/sklearn/metrics/_classification.py:1272: UndefinedMetricWarning: Precision is ill-defined and being set to 0.0 due to no predicted samples. Use `zero_division` parameter to control this behavior.\n",
            "  _warn_prf(average, modifier, msg_start, len(result))\n",
            "/usr/local/lib/python3.7/dist-packages/sklearn/metrics/_classification.py:1272: UndefinedMetricWarning: Recall is ill-defined and being set to 0.0 due to no true samples. Use `zero_division` parameter to control this behavior.\n",
            "  _warn_prf(average, modifier, msg_start, len(result))\n",
            "/usr/local/lib/python3.7/dist-packages/sklearn/metrics/_classification.py:1515: UndefinedMetricWarning: F-score is ill-defined and being set to 0.0 due to no true nor predicted samples. Use `zero_division` parameter to control this behavior.\n",
            "  average, \"true nor predicted\", 'F-score is', len(true_sum)\n"
          ],
          "name": "stderr"
        }
      ]
    },
    {
      "cell_type": "code",
      "metadata": {
        "id": "p0yiRhJNPy5R"
      },
      "source": [
        "#train_set, val_set, val_queries = split_data(config)\n",
        "#model, train_loader, val_loader, val_queries_loader, criterion, optimizer_attr, optimizer_centloss = setup(train_set, val_set, val_queries, config)\n",
        "#id_ground_truth_dict = build_ground_truth(val_set, val_queries)"
      ],
      "execution_count": 16,
      "outputs": []
    }
  ]
}